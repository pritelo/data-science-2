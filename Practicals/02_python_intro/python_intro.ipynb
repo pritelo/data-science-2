{
 "cells": [
  {
   "cell_type": "markdown",
   "metadata": {},
   "source": [
    "**General note**: Each notebook consists of a cells. A cell is a unit that includes either code or a text. Code cells are responsible for programming part, while text cells helps us to structure our scripts and comment the code. We can use markup language to increase readibility of text cells. It also allows us to define headings to distinguish between different topics in our script.\n",
    "\n",
    "*Markup language - selected features:*\n",
    "\n",
    "|Effect|How to|\n",
    "|:------|------|\n",
    "|header level 1|\\#|\n",
    "|header level 2|\\#\\#|\n",
    "|highlight text|\\`|\n",
    "|bold text|\\*\\*|\n",
    "|italic text|\\*|\n",
    "|hyperlink|<a href=\"https:\\\\www2.karlin.mff.cuni.cz/~kpms/\" target=\"_blank\">go to kpms web </a> |\n",
    "|image|<img src=\"https://i.pinimg.com/564x/2f/9c/11/2f9c11f9e55efbf1791f12c06d60729b.jpg\" width=100px style=\"float: left\"/>|\n",
    "\n",
    "\n",
    "You can also use <a href=\"https:\\\\github.com/adam-p/markdown-here/wiki/Markdown-Cheatsheet\" target=\"_blank\"> Markdown Cheatsheet </a>"
   ]
  },
  {
   "cell_type": "markdown",
   "metadata": {},
   "source": [
    "# Download data"
   ]
  },
  {
   "cell_type": "markdown",
   "metadata": {},
   "source": [
    "Download the data from <a href=\"https://www2.karlin.mff.cuni.cz/~kozmikk/files/data_devsample.zip\" target=\"_blank\">credit risk data</a> and unpack it to the Data folder."
   ]
  },
  {
   "cell_type": "markdown",
   "metadata": {},
   "source": [
    "# Basic syntax"
   ]
  },
  {
   "cell_type": "markdown",
   "metadata": {},
   "source": [
    "<span style=\"color:red\">**TO DO:** Create a markup cell 1.1 Data types in Python, listing the build-in data types in the cell below</span>\n",
    "\n",
    "hint: bullets can be created using `-`"
   ]
  },
  {
   "cell_type": "markdown",
   "metadata": {},
   "source": [
    "str: text\n",
    "int, float, comlex: numeric types\n",
    "list, tuple, range: sequence types\n",
    "dict: mapping type\n",
    "set, frozenset: set types\n",
    "bool: boolean type\n",
    "bytes, bytearray, memoryview: binary types"
   ]
  },
  {
   "cell_type": "markdown",
   "metadata": {},
   "source": [
    "**General note:** When we run a cell the code is executed. if the last line of the code contains an output, this output is displayed automatically. If we want to display something at the middle of the code, we can use function `print`."
   ]
  },
  {
   "cell_type": "code",
   "execution_count": 1,
   "metadata": {
    "ExecuteTime": {
     "end_time": "2020-10-11T15:29:06.530416Z",
     "start_time": "2020-10-11T15:29:06.516420Z"
    }
   },
   "outputs": [
    {
     "data": {
      "text/plain": [
       "int"
      ]
     },
     "execution_count": 1,
     "metadata": {},
     "output_type": "execute_result"
    }
   ],
   "source": [
    "# function type return data type of a variable\n",
    "type(\"Hello\")\n",
    "type(1)"
   ]
  },
  {
   "cell_type": "markdown",
   "metadata": {
    "ExecuteTime": {
     "end_time": "2020-09-14T10:12:44.562307Z",
     "start_time": "2020-09-14T10:12:44.047539Z"
    }
   },
   "source": [
    "**General note**: Inside code cell, any line that begins with `#` is considered to be a comment. "
   ]
  },
  {
   "cell_type": "markdown",
   "metadata": {},
   "source": [
    "### Strings\n",
    "- String is a data type used for texts of variable lengths\n",
    "- Strings are defined either by `\"` or `'`\n",
    "- Multiline string can be defined by using `\"\"\"` or `'''`\n",
    "- Escape characters can be used to format a text"
   ]
  },
  {
   "cell_type": "code",
   "execution_count": 2,
   "metadata": {
    "ExecuteTime": {
     "end_time": "2020-09-14T10:23:22.946340Z",
     "start_time": "2020-09-14T10:23:22.932365Z"
    }
   },
   "outputs": [
    {
     "data": {
      "text/plain": [
       "'There can be any text.'"
      ]
     },
     "execution_count": 2,
     "metadata": {},
     "output_type": "execute_result"
    }
   ],
   "source": [
    "# create a variable of string data type\n",
    "first_string = 'There can be any text.'\n",
    "# print the content of the variable\n",
    "first_string"
   ]
  },
  {
   "cell_type": "markdown",
   "metadata": {},
   "source": [
    "<span style=\"color:red\">**TO DO:** Save following string to variable and print it: `I'm the string with apostrophe.`</span>"
   ]
  },
  {
   "cell_type": "code",
   "execution_count": 5,
   "metadata": {},
   "outputs": [
    {
     "data": {
      "text/plain": [
       "\"I'm the string with apostrophe.\""
      ]
     },
     "execution_count": 5,
     "metadata": {},
     "output_type": "execute_result"
    }
   ],
   "source": [
    "also_string = \"I'm the string with apostrophe.\"\n",
    "\n",
    "also_string "
   ]
  },
  {
   "cell_type": "code",
   "execution_count": 6,
   "metadata": {
    "ExecuteTime": {
     "end_time": "2020-09-14T10:27:11.589753Z",
     "start_time": "2020-09-14T10:27:11.578754Z"
    }
   },
   "outputs": [
    {
     "data": {
      "text/plain": [
       "True"
      ]
     },
     "execution_count": 6,
     "metadata": {},
     "output_type": "execute_result"
    }
   ],
   "source": [
    "# we can use either \" or ' - both have the same meaning in python\n",
    "second_string = \"There can be any text.\"\n",
    "\n",
    "first_string == second_string"
   ]
  },
  {
   "cell_type": "code",
   "execution_count": 7,
   "metadata": {
    "ExecuteTime": {
     "end_time": "2020-09-14T10:32:22.035290Z",
     "start_time": "2020-09-14T10:32:22.026330Z"
    },
    "scrolled": true
   },
   "outputs": [
    {
     "name": "stdout",
     "output_type": "stream",
     "text": [
      "\n",
      "This text is \n",
      "written on multyple \n",
      "lines.\n",
      "\n"
     ]
    },
    {
     "data": {
      "text/plain": [
       "'\\nThis text is \\nwritten on multyple \\nlines.\\n'"
      ]
     },
     "execution_count": 7,
     "metadata": {},
     "output_type": "execute_result"
    }
   ],
   "source": [
    "# Multiline string\n",
    "multiline_string = \"\"\"\n",
    "This text is \n",
    "written on multyple \n",
    "lines.\n",
    "\"\"\"\n",
    "\n",
    "print(multiline_string)\n",
    "multiline_string"
   ]
  },
  {
   "cell_type": "markdown",
   "metadata": {},
   "source": [
    "**General note:** A text can be formatted using escape sequence characters. In example above, escape sequence `\\n` was used to mark new line. Note that function `print` processes escape sequences (they are replaced by their meaning during printing the text).\n",
    "\n",
    "Selected escape sequence characters:\n",
    "\n",
    "|Escape sequence|Meaning|\n",
    "|:---------------|-------|\n",
    "|\\n|new line|\n",
    "|\\t|tab|\n",
    "|\\\\\\\\|print backslash|\n",
    "|\\\\'|print single quote|\n",
    "|\\\\\"|print double quote|"
   ]
  },
  {
   "cell_type": "code",
   "execution_count": null,
   "metadata": {},
   "outputs": [],
   "source": [
    "# use escape sequence to print multiline string\n",
    "print('first line \\nsecond line \\nthird line')"
   ]
  },
  {
   "cell_type": "code",
   "execution_count": null,
   "metadata": {
    "ExecuteTime": {
     "end_time": "2020-09-14T10:57:16.741168Z",
     "start_time": "2020-09-14T10:57:16.726216Z"
    }
   },
   "outputs": [],
   "source": [
    "# we can use escape sequence for instance to print quotes\n",
    "string_with_quotes = 'this string has \\'single quotes\\' inside'\n",
    "print(string_with_quotes)\n",
    "\n",
    "#if we combine single and double quotes, we don't need to use escape sequence\n",
    "string_with_quotes = 'when combining \\'SINGLE\\' and \"DOUBLE\" quotes, we don\\'t need to use escape sequence' \n",
    "print(string_with_quotes)"
   ]
  },
  {
   "cell_type": "markdown",
   "metadata": {},
   "source": [
    "#### Uperrcase and lowercase"
   ]
  },
  {
   "cell_type": "code",
   "execution_count": null,
   "metadata": {
    "ExecuteTime": {
     "end_time": "2020-09-14T10:57:41.632518Z",
     "start_time": "2020-09-14T10:57:41.613517Z"
    }
   },
   "outputs": [],
   "source": [
    "# Strings have method lower() and upper()\n",
    "print(string_with_quotes.upper())\n",
    "print(string_with_quotes.lower())"
   ]
  },
  {
   "cell_type": "markdown",
   "metadata": {},
   "source": [
    "#### String subsetting\n",
    "- To subset a string, use `[first_character: last_character]` after the string variable - note that first_character is included, while last_character is not\n",
    "- Method `replace()` can be used to replace part of the string"
   ]
  },
  {
   "cell_type": "markdown",
   "metadata": {},
   "source": [
    "**General note:** !!! Python indexes positions from 0 !!!"
   ]
  },
  {
   "cell_type": "code",
   "execution_count": null,
   "metadata": {
    "ExecuteTime": {
     "end_time": "2020-10-11T15:41:30.182014Z",
     "start_time": "2020-10-11T15:41:30.131014Z"
    },
    "scrolled": true
   },
   "outputs": [],
   "source": [
    "string = 'Matfyz is the best university in the world.'\n",
    "\n",
    "# first character\n",
    "print(string[0])\n",
    "\n",
    "# last character\n",
    "print(string[-1])\n",
    "\n",
    "# first 3 characters\n",
    "print(string[0:3])\n",
    "# this is equal to \n",
    "print(string[:3])\n",
    "\n",
    "# last 3 characters\n",
    "print(string[-3:])\n",
    "\n",
    "# middle of the sentence\n",
    "print(string[5:10])\n",
    "\n",
    "# we can do...\n",
    "print(string[:1000])\n",
    "# ...and also we can...\n",
    "print(string[1000:10000])\n",
    "# ...but we cannot do\n",
    "print(string[1000])"
   ]
  },
  {
   "cell_type": "markdown",
   "metadata": {},
   "source": [
    "#### Replace substring"
   ]
  },
  {
   "cell_type": "code",
   "execution_count": null,
   "metadata": {
    "ExecuteTime": {
     "end_time": "2020-09-14T11:15:05.163720Z",
     "start_time": "2020-09-14T11:15:05.146723Z"
    }
   },
   "outputs": [],
   "source": [
    "# replace substring\n",
    "modified_string = string.replace('world', 'galaxy')\n",
    "modified_string"
   ]
  },
  {
   "cell_type": "markdown",
   "metadata": {},
   "source": [
    "<span style=\"color:red\">**TO DO:** Change Matfyz to Charles University by using string replacement.</span>"
   ]
  },
  {
   "cell_type": "code",
   "execution_count": null,
   "metadata": {},
   "outputs": [],
   "source": [
    "correct_string = \n",
    "correct_string"
   ]
  },
  {
   "cell_type": "markdown",
   "metadata": {},
   "source": [
    "#### String concatenation"
   ]
  },
  {
   "cell_type": "code",
   "execution_count": null,
   "metadata": {
    "ExecuteTime": {
     "end_time": "2020-09-14T11:22:32.358222Z",
     "start_time": "2020-09-14T11:22:32.345230Z"
    }
   },
   "outputs": [],
   "source": [
    "concatenated_string = correct_string + ' ' + string.replace('university', 'faculty')\n",
    "print(concatenated_string)"
   ]
  },
  {
   "cell_type": "markdown",
   "metadata": {},
   "source": [
    "#### Variables inside string\n",
    "- We have three options:\n",
    "    1. % syntax (borrowed from C)\n",
    "    2. `format()` method\n",
    "    3. f-string"
   ]
  },
  {
   "cell_type": "code",
   "execution_count": null,
   "metadata": {
    "ExecuteTime": {
     "end_time": "2020-09-14T11:37:17.105132Z",
     "start_time": "2020-09-14T11:37:17.086115Z"
    }
   },
   "outputs": [],
   "source": [
    "constant = 'pi'\n",
    "value = 3.141592\n",
    "\n",
    "# % syntax\n",
    "print('%s = %f' % (constant, value))\n",
    "\n",
    "# format() method\n",
    "print('{} = {}'.format(constant, value))\n",
    "\n",
    "# f-string\n",
    "print(f'{constant} = {value}')\n",
    "\n",
    "# number formats\n",
    "print(f'{constant} = {value:.2f}')\n",
    "print('{} != {:,.0f}'.format(constant, value*1000).replace(',', ' '))"
   ]
  },
  {
   "cell_type": "markdown",
   "metadata": {},
   "source": [
    "<span style=\"color:red\">**TO DO:** Print result of varible `num` in following format: <br></span>\n",
    "- thousands separator = '(space)'<br>\n",
    "- 3 decimal numbers "
   ]
  },
  {
   "cell_type": "code",
   "execution_count": null,
   "metadata": {
    "ExecuteTime": {
     "end_time": "2020-11-09T11:16:28.819884Z",
     "start_time": "2020-11-09T11:16:28.797849Z"
    }
   },
   "outputs": [],
   "source": [
    "num = 123456.789101112\n"
   ]
  },
  {
   "cell_type": "markdown",
   "metadata": {},
   "source": [
    "#### Split and join"
   ]
  },
  {
   "cell_type": "code",
   "execution_count": null,
   "metadata": {
    "ExecuteTime": {
     "end_time": "2020-09-14T11:44:39.414300Z",
     "start_time": "2020-09-14T11:44:39.397161Z"
    }
   },
   "outputs": [],
   "source": [
    "# split text by space\n",
    "splited_text = correct_string.split(' ')\n",
    "print(splited_text)\n",
    "\n",
    "# join text using underscore\n",
    "joined_text = '_'.join(splited_text)\n",
    "print(joined_text)"
   ]
  },
  {
   "cell_type": "markdown",
   "metadata": {},
   "source": [
    "#### Find substring"
   ]
  },
  {
   "cell_type": "code",
   "execution_count": null,
   "metadata": {
    "ExecuteTime": {
     "end_time": "2020-09-14T11:50:42.423035Z",
     "start_time": "2020-09-14T11:50:42.411036Z"
    }
   },
   "outputs": [],
   "source": [
    "string = 'Matfyz is the best university in the world.'\n",
    "\n",
    "# find location of school\n",
    "idx = string.find('university')\n",
    "print(f'Word \"school\" starts at position:   {idx}')"
   ]
  },
  {
   "cell_type": "markdown",
   "metadata": {},
   "source": [
    "<span style=\"color:red\">**TO DO:** Find location of word `best` and replace it by `worst`.<br></span>\n",
    "- Don't use `replace`!"
   ]
  },
  {
   "cell_type": "code",
   "execution_count": null,
   "metadata": {},
   "outputs": [],
   "source": [
    "new_string = "
   ]
  },
  {
   "cell_type": "markdown",
   "metadata": {
    "ExecuteTime": {
     "end_time": "2020-09-14T11:52:48.014717Z",
     "start_time": "2020-09-14T11:52:48.001808Z"
    }
   },
   "source": [
    "**General note:** To see function implementation details, we can use ? or ?? operator. ? returns docstring for given function/method, while ?? returns full code with implementation."
   ]
  },
  {
   "cell_type": "code",
   "execution_count": null,
   "metadata": {
    "ExecuteTime": {
     "end_time": "2020-10-11T16:11:59.856815Z",
     "start_time": "2020-10-11T16:11:59.851848Z"
    }
   },
   "outputs": [],
   "source": [
    "?string.find"
   ]
  },
  {
   "cell_type": "markdown",
   "metadata": {},
   "source": [
    "#### Colored text\n",
    "- Colored text is implemented in package termcolor"
   ]
  },
  {
   "cell_type": "code",
   "execution_count": null,
   "metadata": {
    "ExecuteTime": {
     "end_time": "2020-09-14T11:17:46.239960Z",
     "start_time": "2020-09-14T11:17:46.232971Z"
    }
   },
   "outputs": [],
   "source": [
    "from termcolor import colored\n",
    "\n",
    "# color Matfyz with red\n",
    "print(colored('Matfyz', 'red') + ' is the best university in the world.')"
   ]
  },
  {
   "cell_type": "markdown",
   "metadata": {},
   "source": [
    "### Numeric types"
   ]
  },
  {
   "cell_type": "markdown",
   "metadata": {},
   "source": [
    "#### Integer"
   ]
  },
  {
   "cell_type": "code",
   "execution_count": null,
   "metadata": {
    "ExecuteTime": {
     "end_time": "2020-10-11T16:30:09.218240Z",
     "start_time": "2020-10-11T16:30:09.208229Z"
    }
   },
   "outputs": [],
   "source": [
    "# integer / integer returns ???\n",
    "print(f'1 / 1 = {1 / 1}')"
   ]
  },
  {
   "cell_type": "code",
   "execution_count": null,
   "metadata": {
    "ExecuteTime": {
     "end_time": "2020-10-11T16:31:08.545002Z",
     "start_time": "2020-10-11T16:31:08.541968Z"
    }
   },
   "outputs": [],
   "source": [
    "# what will happen if we divide by 0?\n",
    "print(f'1 / 0 = {1 / 0}')"
   ]
  },
  {
   "cell_type": "markdown",
   "metadata": {},
   "source": [
    "#### Float"
   ]
  },
  {
   "cell_type": "code",
   "execution_count": null,
   "metadata": {
    "ExecuteTime": {
     "end_time": "2020-10-11T16:35:37.793750Z",
     "start_time": "2020-10-11T16:35:37.786717Z"
    }
   },
   "outputs": [],
   "source": [
    "pi = 3.141592\n",
    "\n",
    "# floats can be rounded\n",
    "print(f'Rounded decimal number:   {round(pi, 2)}')\n",
    "\n",
    "inf = float('inf')\n",
    "print(f'1 / inf = {1 / inf}')\n",
    "print(f'inf / inf = {inf / inf}')\n",
    "\n",
    "nan = float('nan')\n",
    "print(f'nan * 10 = {nan * 10}')\n",
    "print(f'nan * inf = {nan * inf}')"
   ]
  },
  {
   "cell_type": "code",
   "execution_count": null,
   "metadata": {
    "ExecuteTime": {
     "end_time": "2020-10-11T16:36:14.258487Z",
     "start_time": "2020-10-11T16:36:14.239434Z"
    }
   },
   "outputs": [],
   "source": [
    "# float can be converted to int and vice versa. When converting float to int, decimal part is removed\n",
    "e = 2.71828\n",
    "print(f'Rounded e:            {round(e)}')\n",
    "print(f'e converted to int:   {int(e)}')\n",
    "print(f'e to int to float:    {float(int(e))}')"
   ]
  },
  {
   "cell_type": "markdown",
   "metadata": {},
   "source": [
    "#### Complex numbers"
   ]
  },
  {
   "cell_type": "code",
   "execution_count": null,
   "metadata": {
    "ExecuteTime": {
     "end_time": "2020-09-14T12:25:27.429194Z",
     "start_time": "2020-09-14T12:25:27.423234Z"
    }
   },
   "outputs": [],
   "source": [
    "import cmath\n",
    "\n",
    "complex_number = complex(-1, 0)\n",
    "print(f'Square root of -1+0j:   {cmath.sqrt(complex_number)}')\n",
    "\n",
    "complex_number = complex(0, 1)\n",
    "print(f'j squared:              {complex_number * complex_number}')"
   ]
  },
  {
   "cell_type": "markdown",
   "metadata": {},
   "source": [
    "### Sequences"
   ]
  },
  {
   "cell_type": "markdown",
   "metadata": {},
   "source": [
    "#### List\n",
    "- List is a collection of ordered and changeable items\n",
    "- List can consists of items of different data types\n",
    "- List is defined using []"
   ]
  },
  {
   "cell_type": "code",
   "execution_count": null,
   "metadata": {
    "ExecuteTime": {
     "end_time": "2020-09-14T15:56:20.994888Z",
     "start_time": "2020-09-14T15:56:20.975856Z"
    }
   },
   "outputs": [],
   "source": [
    "basic_list = [\n",
    "    3.14,\n",
    "    2.71,\n",
    "    6.62\n",
    "]\n",
    "\n",
    "print(basic_list)\n",
    "\n",
    "# Lists are ordered - each item has a possition that is fixed\n",
    "print([basic_list[1], basic_list[2], basic_list[0]])\n",
    "\n",
    "# Lists are changeable -> we can change list's item values\n",
    "basic_list[2] = 1.60\n",
    "print(basic_list)"
   ]
  },
  {
   "cell_type": "code",
   "execution_count": null,
   "metadata": {
    "ExecuteTime": {
     "end_time": "2020-09-14T15:56:21.260189Z",
     "start_time": "2020-09-14T15:56:21.245187Z"
    }
   },
   "outputs": [],
   "source": [
    "# Lists can be subseted similarly as strings\n",
    "print(basic_list[1:])"
   ]
  },
  {
   "cell_type": "code",
   "execution_count": null,
   "metadata": {
    "ExecuteTime": {
     "end_time": "2020-09-14T15:56:21.478080Z",
     "start_time": "2020-09-14T15:56:21.461081Z"
    }
   },
   "outputs": [],
   "source": [
    "# list can containt different data types\n",
    "list_with_multiple_types = [\n",
    "    3.14,\n",
    "    'Hello',\n",
    "    12,\n",
    "    complex(-1,0)\n",
    "]\n",
    "\n",
    "print(list_with_multiple_types)"
   ]
  },
  {
   "cell_type": "code",
   "execution_count": null,
   "metadata": {
    "ExecuteTime": {
     "end_time": "2020-09-14T15:56:21.895624Z",
     "start_time": "2020-09-14T15:56:21.886597Z"
    }
   },
   "outputs": [],
   "source": [
    "# sorting a list\n",
    "sorted(basic_list, reverse = False)"
   ]
  },
  {
   "cell_type": "code",
   "execution_count": null,
   "metadata": {
    "ExecuteTime": {
     "end_time": "2020-09-14T15:56:22.226007Z",
     "start_time": "2020-09-14T15:56:22.222006Z"
    }
   },
   "outputs": [],
   "source": [
    "# multiplying a list\n",
    "basic_list * 2"
   ]
  },
  {
   "cell_type": "code",
   "execution_count": null,
   "metadata": {
    "ExecuteTime": {
     "end_time": "2020-09-14T15:56:23.996797Z",
     "start_time": "2020-09-14T15:56:23.975771Z"
    }
   },
   "outputs": [],
   "source": [
    "# appending to list\n",
    "basic_list.append(6.62)\n",
    "basic_list"
   ]
  },
  {
   "cell_type": "code",
   "execution_count": null,
   "metadata": {
    "ExecuteTime": {
     "end_time": "2020-09-14T15:56:41.312478Z",
     "start_time": "2020-09-14T15:56:41.301480Z"
    }
   },
   "outputs": [],
   "source": [
    "# extending a list\n",
    "basic_list.extend([0, 1, 2, 3])\n",
    "basic_list"
   ]
  },
  {
   "cell_type": "code",
   "execution_count": null,
   "metadata": {},
   "outputs": [],
   "source": [
    "# numerical lists can be sumed (other operations)\n",
    "sum(basic_list)"
   ]
  },
  {
   "cell_type": "markdown",
   "metadata": {},
   "source": [
    "<span style=\"color:red\">**TO DO:** Print random text and below print underscores, so that text is undelined.</span>\n",
    "- Result should look like this:\n",
    "\n",
    "Some random text<br>\n",
    "\\-\\-\\-\\-\\-\\-\\-\\-\\-\\-\\-\\-\\-\\-\\-\\-\\-\\-\\-\\-\\-\\-\\-\\-"
   ]
  },
  {
   "cell_type": "code",
   "execution_count": null,
   "metadata": {},
   "outputs": [],
   "source": []
  },
  {
   "cell_type": "markdown",
   "metadata": {},
   "source": [
    "#### Tuple\n",
    "- Tuple is a collection of ordered but unchangable items\n",
    "- Tuple is defined using ()"
   ]
  },
  {
   "cell_type": "code",
   "execution_count": null,
   "metadata": {
    "ExecuteTime": {
     "end_time": "2020-09-14T12:49:17.517220Z",
     "start_time": "2020-09-14T12:49:17.498223Z"
    }
   },
   "outputs": [],
   "source": [
    "basic_tuple = (\n",
    "    3.14,\n",
    "    2.71,\n",
    "    6.62\n",
    ")\n",
    "\n",
    "print(basic_tuple)"
   ]
  },
  {
   "cell_type": "code",
   "execution_count": null,
   "metadata": {
    "ExecuteTime": {
     "end_time": "2020-09-14T12:48:09.536967Z",
     "start_time": "2020-09-14T12:48:09.522969Z"
    }
   },
   "outputs": [],
   "source": [
    "# items of tuple cannot be changed\n",
    "basic_tuple[2] = 1.6"
   ]
  },
  {
   "cell_type": "code",
   "execution_count": null,
   "metadata": {
    "ExecuteTime": {
     "end_time": "2020-09-14T12:50:34.125486Z",
     "start_time": "2020-09-14T12:50:34.119449Z"
    }
   },
   "outputs": [],
   "source": [
    "# tuple can be sorted in the same way as list -> note that returned value is list, not tuple\n",
    "sorted(basic_tuple, reverse = True)"
   ]
  },
  {
   "cell_type": "code",
   "execution_count": null,
   "metadata": {
    "ExecuteTime": {
     "end_time": "2020-09-14T12:54:26.336258Z",
     "start_time": "2020-09-14T12:54:26.321234Z"
    }
   },
   "outputs": [],
   "source": [
    "# tuple and list can be combined\n",
    "list_of_tuples = [\n",
    "    ('pi', 3.14),\n",
    "    ('euler', 2.17),\n",
    "    ('planck', 6.62)\n",
    "]\n",
    "\n",
    "print(list_of_tuples)\n",
    "\n",
    "# and we can sort such a structure for instance based on the second items of tuples\n",
    "sorted(list_of_tuples , key=lambda tup: tup[1])"
   ]
  },
  {
   "cell_type": "markdown",
   "metadata": {},
   "source": [
    "### Range\n",
    "- range data type is used to generate arithmetic sequence of integers\n",
    "- it is iterable -> more efficient when looping over a sequence"
   ]
  },
  {
   "cell_type": "code",
   "execution_count": null,
   "metadata": {
    "ExecuteTime": {
     "end_time": "2020-09-14T13:01:05.075625Z",
     "start_time": "2020-09-14T13:01:05.068598Z"
    }
   },
   "outputs": [],
   "source": [
    "range_variable = range(5)\n",
    "print(range_variable)"
   ]
  },
  {
   "cell_type": "code",
   "execution_count": null,
   "metadata": {
    "ExecuteTime": {
     "end_time": "2020-09-14T13:02:13.382924Z",
     "start_time": "2020-09-14T13:02:13.375924Z"
    }
   },
   "outputs": [],
   "source": [
    "for i in range(5):\n",
    "    print(i)\n",
    "print()\n",
    "\n",
    "for i in range(1, 5):\n",
    "    print(i)\n",
    "print()\n",
    "\n",
    "for i in range(1, 5, 2):\n",
    "    print(i)"
   ]
  },
  {
   "cell_type": "code",
   "execution_count": null,
   "metadata": {
    "ExecuteTime": {
     "end_time": "2020-09-14T13:03:33.687117Z",
     "start_time": "2020-09-14T13:03:33.671119Z"
    }
   },
   "outputs": [],
   "source": [
    "# range generates sequence with integer distances between items\n",
    "range(1,5,0.5)"
   ]
  },
  {
   "cell_type": "markdown",
   "metadata": {
    "ExecuteTime": {
     "end_time": "2020-10-11T17:23:35.476212Z",
     "start_time": "2020-10-11T17:23:35.459340Z"
    }
   },
   "source": [
    "<span style=\"color:red\">**TO DO:** Use `range` to calculate followin equation:</span>\n",
    "$$\\sum_{i=1}^{100} 5 * (i + 1)$$"
   ]
  },
  {
   "cell_type": "code",
   "execution_count": null,
   "metadata": {},
   "outputs": [],
   "source": []
  },
  {
   "cell_type": "markdown",
   "metadata": {},
   "source": [
    "### Dictionary\n",
    "- Dictionary is unordered and indexed collection\n",
    "- Duplicate items are not allowed\n",
    "- Dictionary is defined using {}"
   ]
  },
  {
   "cell_type": "code",
   "execution_count": null,
   "metadata": {
    "ExecuteTime": {
     "end_time": "2020-09-16T08:11:29.709190Z",
     "start_time": "2020-09-16T08:11:29.697196Z"
    }
   },
   "outputs": [],
   "source": [
    "basic_dictionary = {\n",
    "    'one': 1,\n",
    "    'two': 4,\n",
    "    'three': 3,\n",
    "    'two': 2\n",
    "}\n",
    "\n",
    "print(basic_dictionary)"
   ]
  },
  {
   "cell_type": "code",
   "execution_count": null,
   "metadata": {
    "ExecuteTime": {
     "end_time": "2020-09-16T08:11:30.040255Z",
     "start_time": "2020-09-16T08:11:30.024259Z"
    }
   },
   "outputs": [],
   "source": [
    "# get all keys in dictionary\n",
    "print('Dictionary keys:          {}'.format(basic_dictionary.keys()))\n",
    "print('Dictionary values:        {}'.format(basic_dictionary.values()))\n",
    "\n",
    "print('Value of item \\'one\\' is:   {}'.format(basic_dictionary['one']))"
   ]
  },
  {
   "cell_type": "code",
   "execution_count": null,
   "metadata": {
    "ExecuteTime": {
     "end_time": "2020-10-11T17:32:16.472360Z",
     "start_time": "2020-10-11T17:32:16.458135Z"
    }
   },
   "outputs": [],
   "source": [
    "# sorting and indexing dictionary\n",
    "sorted_dictionary = dict(sorted(basic_dictionary.items(), key=lambda item: item[1], reverse=True))\n",
    "print(sorted_dictionary)\n",
    "\n",
    "first_key = list(basic_dictionary)[0]\n",
    "first_val = list(basic_dictionary.values())[0]\n",
    "\n",
    "print(first_key)\n",
    "print(first_val)"
   ]
  },
  {
   "cell_type": "code",
   "execution_count": null,
   "metadata": {
    "ExecuteTime": {
     "end_time": "2020-09-16T08:11:30.288942Z",
     "start_time": "2020-09-16T08:11:30.273946Z"
    }
   },
   "outputs": [],
   "source": [
    "# asking for non-existing key raises an error\n",
    "basic_dictionary['four']"
   ]
  },
  {
   "cell_type": "code",
   "execution_count": null,
   "metadata": {
    "ExecuteTime": {
     "end_time": "2020-09-16T08:11:30.680277Z",
     "start_time": "2020-09-16T08:11:30.665243Z"
    }
   },
   "outputs": [],
   "source": [
    "# updating dictionary\n",
    "basic_dictionary['one'] = -1\n",
    "basic_dictionary['four'] = 4\n",
    "print(basic_dictionary)"
   ]
  },
  {
   "cell_type": "code",
   "execution_count": null,
   "metadata": {
    "ExecuteTime": {
     "end_time": "2020-09-16T08:11:31.505694Z",
     "start_time": "2020-09-16T08:11:31.485696Z"
    }
   },
   "outputs": [],
   "source": [
    "# update = insert or rewrite\n",
    "basic_dictionary.update({'five': 5, 'one': 1})\n",
    "basic_dictionary"
   ]
  },
  {
   "cell_type": "code",
   "execution_count": null,
   "metadata": {
    "ExecuteTime": {
     "end_time": "2020-09-16T08:11:31.868058Z",
     "start_time": "2020-09-16T08:11:31.861058Z"
    }
   },
   "outputs": [],
   "source": [
    "# deleting an item\n",
    "del basic_dictionary['two']\n",
    "print(basic_dictionary)"
   ]
  },
  {
   "cell_type": "code",
   "execution_count": null,
   "metadata": {
    "ExecuteTime": {
     "end_time": "2020-10-11T17:36:24.330746Z",
     "start_time": "2020-10-11T17:36:24.311913Z"
    }
   },
   "outputs": [],
   "source": [
    "morse = {\n",
    "    'A': '.-',\n",
    "    'B': '-...', \n",
    "    'C': '-.-.',\n",
    "    'D': '-..',\n",
    "    'E': '.',\n",
    "    'F': '..-.',\n",
    "    'G': '--.',\n",
    "    'H': '....',\n",
    "    'I': '..',\n",
    "    'J': '.---',\n",
    "    'K': '-.-',\n",
    "    'L': '.-..',\n",
    "    'M': '--',\n",
    "    'N': '-.',\n",
    "    'O': '---',\n",
    "    'P': '.--.',\n",
    "    'Q': '--.-',\n",
    "    'R': '.-.',\n",
    "    'S': '...',\n",
    "    'T': '-',\n",
    "    'U': '..-',\n",
    "    'V': '...-',\n",
    "    'W': '.--',\n",
    "    'X': '-..-',\n",
    "    'Y': '-.--',\n",
    "    'Z': '--..',\n",
    "}\n"
   ]
  },
  {
   "cell_type": "markdown",
   "metadata": {},
   "source": [
    "<span style=\"color:red\">**TO DO:** convert string to morse code. Letters are separated by 'space', words by '|' and sentances are separated by '||'.</span>"
   ]
  },
  {
   "cell_type": "code",
   "execution_count": null,
   "metadata": {
    "ExecuteTime": {
     "end_time": "2020-10-11T17:43:10.993637Z",
     "start_time": "2020-10-11T17:43:10.974590Z"
    }
   },
   "outputs": [],
   "source": [
    "string = 'SOS. Calling for help.'\n",
    "\n",
    "print()"
   ]
  },
  {
   "cell_type": "markdown",
   "metadata": {},
   "source": [
    "### Set\n",
    "- Unordered and unindexed collection\n",
    "- Set is defined using {}\n",
    "- Frozenset is the same as set only unchangable"
   ]
  },
  {
   "cell_type": "code",
   "execution_count": null,
   "metadata": {
    "ExecuteTime": {
     "end_time": "2020-09-16T08:16:17.065442Z",
     "start_time": "2020-09-16T08:16:17.055442Z"
    }
   },
   "outputs": [],
   "source": [
    "set_of_colors = {'red', 'green', 'blue'}\n",
    "print(set_of_colors)"
   ]
  },
  {
   "cell_type": "code",
   "execution_count": null,
   "metadata": {
    "ExecuteTime": {
     "end_time": "2020-09-16T08:16:17.658444Z",
     "start_time": "2020-09-16T08:16:17.639406Z"
    }
   },
   "outputs": [],
   "source": [
    "reordered_set_of_colors = {'green', 'blue', 'red'}\n",
    "\n",
    "# inside set, odrering is not important\n",
    "set_of_colors == reordered_set_of_colors"
   ]
  },
  {
   "cell_type": "code",
   "execution_count": null,
   "metadata": {
    "ExecuteTime": {
     "end_time": "2020-09-16T08:24:47.959727Z",
     "start_time": "2020-09-16T08:24:47.949764Z"
    }
   },
   "outputs": [],
   "source": [
    "# adding one item\n",
    "set_of_colors.add('yellow')\n",
    "print(set_of_colors)\n",
    "\n",
    "# adding multiple items\n",
    "set_of_colors.update(['orange', 'purple'])\n",
    "print(set_of_colors)\n",
    "\n",
    "# remove one item\n",
    "set_of_colors.discard('yellow')\n",
    "print(set_of_colors)"
   ]
  },
  {
   "cell_type": "markdown",
   "metadata": {},
   "source": [
    "#### Set operations\n",
    "- Union\n",
    "- Intersection\n",
    "- Difference"
   ]
  },
  {
   "cell_type": "code",
   "execution_count": null,
   "metadata": {
    "ExecuteTime": {
     "end_time": "2020-09-16T08:42:55.014615Z",
     "start_time": "2020-09-16T08:42:55.001629Z"
    }
   },
   "outputs": [],
   "source": [
    "rgb_colors = {'red', 'green', 'blue'}\n",
    "random_colors = {'red','cian', 'brown'}\n",
    "\n",
    "# set union\n",
    "union_colors = rgb_colors.union(random_colors)\n",
    "print(f'Union of {rgb_colors} and {random_colors}:   {union_colors}')\n",
    "\n",
    "# set intersection\n",
    "set_intersection = rgb_colors.intersection(random_colors)\n",
    "print(f'Intersection of {rgb_colors} and {random_colors}:   {set_intersection}')\n",
    "\n",
    "# set complement\n",
    "rgb_complement = rgb_colors.difference(random_colors)\n",
    "print(f'Difference of {rgb_colors} and {random_colors}:   {rgb_complement}')"
   ]
  },
  {
   "cell_type": "code",
   "execution_count": null,
   "metadata": {
    "ExecuteTime": {
     "end_time": "2020-09-16T08:50:11.537682Z",
     "start_time": "2020-09-16T08:50:11.521656Z"
    }
   },
   "outputs": [],
   "source": [
    "# frozenset is unchangable -> we cannot add or remove items from frozenset\n",
    "rgb_colors = frozenset(rgb_colors)\n",
    "rgb_colors.add('yellow')"
   ]
  },
  {
   "cell_type": "markdown",
   "metadata": {},
   "source": [
    "<span style=\"color:red\">**TO DO:** Find values that are not in the intersection of sets.</span>\n",
    "\n",
    "<img src=\"https://res.cloudinary.com/practicaldev/image/fetch/s--Kuq7OH5V--/c_limit%2Cf_auto%2Cfl_progressive%2Cq_auto%2Cw_880/https://thepracticaldev.s3.amazonaws.com/i/eq8zrfkbs9jntiimwjk9.png\" width=300px style=\"float: left\"/>"
   ]
  },
  {
   "cell_type": "code",
   "execution_count": null,
   "metadata": {
    "ExecuteTime": {
     "end_time": "2020-10-11T17:49:22.852469Z",
     "start_time": "2020-10-11T17:49:22.844300Z"
    }
   },
   "outputs": [],
   "source": [
    "A = {0, 1, 2, 3, 4, 5, 6, 7}\n",
    "B = {4, 5, 6, 7, 8, 9, 10, 11}"
   ]
  },
  {
   "cell_type": "code",
   "execution_count": null,
   "metadata": {},
   "outputs": [],
   "source": []
  },
  {
   "cell_type": "markdown",
   "metadata": {},
   "source": [
    "### Boolean\n",
    "- Boolean values are either True or False\n",
    "- We can do logic operations with boolean"
   ]
  },
  {
   "cell_type": "code",
   "execution_count": null,
   "metadata": {
    "ExecuteTime": {
     "end_time": "2020-09-16T08:59:02.017174Z",
     "start_time": "2020-09-16T08:59:02.006175Z"
    }
   },
   "outputs": [],
   "source": [
    "true = True\n",
    "false = False\n",
    "\n",
    "# logic operations\n",
    "print(f'True and True = {true and true}')\n",
    "print(f'True and False = {true and false}')\n",
    "print(f'True or False = {true or false}')\n",
    "print(f'Negation of True = {not true}')"
   ]
  },
  {
   "cell_type": "code",
   "execution_count": null,
   "metadata": {
    "ExecuteTime": {
     "end_time": "2020-09-16T09:02:05.706203Z",
     "start_time": "2020-09-16T09:02:05.701214Z"
    }
   },
   "outputs": [],
   "source": [
    "# boolean is an output of comparisons\n",
    "print(f'1 = 1:   {1 == 1}')\n",
    "print(f'1 = 2:   {1 == 2}')\n",
    "print(f'1 > 2:   {1 > 2}')"
   ]
  },
  {
   "cell_type": "markdown",
   "metadata": {
    "ExecuteTime": {
     "end_time": "2020-09-16T09:05:31.023855Z",
     "start_time": "2020-09-16T09:05:31.003893Z"
    }
   },
   "source": [
    "## Operators in Python\n",
    "- Arithmetic operators:\n",
    "\n",
    "|Operator|Name|Example|\n",
    "|:--------:|:----:|-------|\n",
    "|+|Addition|1 + 1 = 2|\n",
    "|-|Subtraction|1 - 1 = 0|\n",
    "|\\*|Multiplication|3 * 2 = 6|\n",
    "|/|Division|4 / 2 = 2.0|\n",
    "|%|Modulus|5 % 2 = 1|\n",
    "|//|Floor division|5 // 2 = 2|\n",
    "|\\*\\*|Exponentiation| 2 \\*\\* 3 = 8|\n",
    "\n",
    "- Assignment operators\n",
    "\n",
    "|Operator|Example|Is equal to|\n",
    "|:--------:|:-------:|-----------|\n",
    "|=|x = 12||\n",
    "|+=|x += 3|x = x + 3|\n",
    "|-=|x -= 3|x = x - 3|\n",
    "|\\*=|x \\*= 3|x = x * 3|\n",
    "|/=|x \\/= 3|x = x / 3|\n",
    "|%=|x %= 3|x = x % 3|\n",
    "|//=|x //= 3|x = x // 3|\n",
    "|\\*\\*=|x \\*\\*= 3|x = x \\*\\* 3|\n",
    "\n",
    "- Comparison operators\n",
    "\n",
    "|Operator|Name|Example|\n",
    "|:--------:|:----:|-------|\n",
    "|==|Equal|x == y|\n",
    "|!=|Not equal|x != y|\n",
    "|>|Greater than|x > y|\n",
    "|<|Less than|x < y|\n",
    "|>=|Greater than or equal to|x >= y|\n",
    "|<=|Less than or equal to|x <= y|"
   ]
  },
  {
   "cell_type": "code",
   "execution_count": null,
   "metadata": {
    "ExecuteTime": {
     "end_time": "2020-09-16T13:37:35.451072Z",
     "start_time": "2020-09-16T13:37:35.438074Z"
    }
   },
   "outputs": [],
   "source": [
    "x = 1\n",
    "y = 2\n",
    "\n",
    "# note that expressions are evaluated from left to right \n",
    "# + and - have lower priority than other operators - they must be enclosed in brackets to be evaluated before other operators\n",
    "print(f'1 + 2 * 2 = {1 + 2 * 2}')\n",
    "print(f'(1 + 2) * 2 = {(1 + 2) * 2}')\n",
    "print(f'1 / 2 * 2 = {1 / 2 * 2}')\n",
    "print(f'1 / (2 * 2) = {1 / (2 * 2)}')\n"
   ]
  },
  {
   "cell_type": "code",
   "execution_count": null,
   "metadata": {},
   "outputs": [],
   "source": [
    "# function eval can be used for evaluation of expressions stored as string\n",
    "print('Using eval to evaluate expression:   {}'.format(eval('1 / (2 * 2)')))"
   ]
  },
  {
   "cell_type": "markdown",
   "metadata": {},
   "source": [
    "## Loops and conditions"
   ]
  },
  {
   "cell_type": "markdown",
   "metadata": {},
   "source": [
    "**General note:** In Python, indentation has specific purpose - it indicates block of code"
   ]
  },
  {
   "cell_type": "markdown",
   "metadata": {},
   "source": [
    "### If condition"
   ]
  },
  {
   "cell_type": "code",
   "execution_count": null,
   "metadata": {
    "ExecuteTime": {
     "end_time": "2020-09-20T17:23:55.599383Z",
     "start_time": "2020-09-20T17:23:55.582377Z"
    }
   },
   "outputs": [],
   "source": [
    "print_something = True\n",
    "\n",
    "# note that identation defined what part of the code is subordinated to the if condition\n",
    "if print_something:\n",
    "    print('I feel good!!!')\n",
    "print('Now I don\\'t feel that good.')"
   ]
  },
  {
   "cell_type": "code",
   "execution_count": null,
   "metadata": {
    "ExecuteTime": {
     "end_time": "2020-09-20T17:27:55.323524Z",
     "start_time": "2020-09-20T17:27:55.318525Z"
    }
   },
   "outputs": [],
   "source": [
    "how_do_i_feel = 'bad'\n",
    "\n",
    "# if condition can evaluate an expression that returns boolaen value\n",
    "if how_do_i_feel == 'good':\n",
    "    print('I feel majestic!!!')\n",
    "elif how_do_i_feel == 'bad':\n",
    "    print('I feel awful!!!')\n",
    "else:\n",
    "    print('I don\\'t now how I feel!!!')"
   ]
  },
  {
   "cell_type": "code",
   "execution_count": null,
   "metadata": {
    "ExecuteTime": {
     "end_time": "2020-09-20T17:41:03.914404Z",
     "start_time": "2020-09-20T17:41:03.899784Z"
    }
   },
   "outputs": [],
   "source": [
    "# if conditions can be submerged into another if condition. Again, indentation distinguish between given levels.\n",
    "if 'I am not an emty string!':\n",
    "    print('Not empty string in if condition evaluates as True. But what about empty strings?')\n",
    "    if '':\n",
    "        print('Empty string will also pass the condition!')\n",
    "    else:\n",
    "        print('Hmmm. Empty string in if condition evaluates as False.')\n",
    "else:\n",
    "    print('Seems like not empty string in if condition evaluates as False. Ok, what about empty strings?')\n",
    "    if '':\n",
    "        print('Empty string will pass the condition!')\n",
    "    else:\n",
    "        print('Not even empty string passed the condition.')"
   ]
  },
  {
   "cell_type": "code",
   "execution_count": null,
   "metadata": {
    "ExecuteTime": {
     "end_time": "2020-09-20T17:45:23.008696Z",
     "start_time": "2020-09-20T17:45:23.004734Z"
    }
   },
   "outputs": [],
   "source": [
    "# numbers in if condition behaves similarily to text\n",
    "if 0:\n",
    "    print('As for numbers - 0 will pass the condition')\n",
    "elif 12:\n",
    "    print('As for numbers - 0 will NOT pass the condition, any non zero number do.')\n",
    "else:\n",
    "    print('Seems like no numbers will pass the condition.')"
   ]
  },
  {
   "cell_type": "code",
   "execution_count": null,
   "metadata": {
    "ExecuteTime": {
     "end_time": "2020-09-20T17:47:29.946037Z",
     "start_time": "2020-09-20T17:47:29.937007Z"
    }
   },
   "outputs": [],
   "source": [
    "# And we can also use list, dictionaries and other objects in if condition\n",
    "if ['Hello']:\n",
    "    print('Empty list would be evaluated as False. Trust me on this.')"
   ]
  },
  {
   "cell_type": "markdown",
   "metadata": {},
   "source": [
    "**General note:** Python has one special data type - None. It represents empty value or null value."
   ]
  },
  {
   "cell_type": "code",
   "execution_count": null,
   "metadata": {
    "ExecuteTime": {
     "end_time": "2020-09-20T17:57:45.142715Z",
     "start_time": "2020-09-20T17:57:45.129670Z"
    }
   },
   "outputs": [],
   "source": [
    "variable = None\n",
    "other_variable = 'not None'\n",
    "\n",
    "if variable:\n",
    "    print('How come?')\n",
    "elif variable is None:\n",
    "    print('We can use \\'is None\\' synatx to check for None value.')\n",
    "    print(f'And guess what, None == None return {None == None}')"
   ]
  },
  {
   "cell_type": "code",
   "execution_count": null,
   "metadata": {
    "ExecuteTime": {
     "end_time": "2020-09-20T17:59:07.343197Z",
     "start_time": "2020-09-20T17:59:07.334174Z"
    }
   },
   "outputs": [],
   "source": [
    "# Using multipe conditions\n",
    "if variable or True:\n",
    "    print('We can use \\'or\\' and \\'and\\' operators as well.')"
   ]
  },
  {
   "cell_type": "code",
   "execution_count": null,
   "metadata": {
    "ExecuteTime": {
     "end_time": "2020-09-21T10:23:57.791675Z",
     "start_time": "2020-09-21T10:23:57.780677Z"
    }
   },
   "outputs": [],
   "source": [
    "# if can be written in one line, however we cannot use elif in such a case\n",
    "print('one line if') if False else print('nothing happend')"
   ]
  },
  {
   "cell_type": "markdown",
   "metadata": {},
   "source": [
    "### For loop\n",
    "- for loop allows us to iterate over any iterable object"
   ]
  },
  {
   "cell_type": "code",
   "execution_count": null,
   "metadata": {
    "ExecuteTime": {
     "end_time": "2020-09-21T10:09:44.609346Z",
     "start_time": "2020-09-21T10:09:44.599314Z"
    }
   },
   "outputs": [],
   "source": [
    "# range is an iterable object\n",
    "for i in range(5):\n",
    "    print(i)"
   ]
  },
  {
   "cell_type": "code",
   "execution_count": null,
   "metadata": {
    "ExecuteTime": {
     "end_time": "2020-09-21T10:17:02.646861Z",
     "start_time": "2020-09-21T10:17:02.635865Z"
    }
   },
   "outputs": [],
   "source": [
    "# list is also iterable\n",
    "for item in [1,2,3]:\n",
    "    print(item)"
   ]
  },
  {
   "cell_type": "code",
   "execution_count": null,
   "metadata": {
    "ExecuteTime": {
     "end_time": "2020-09-21T10:17:56.197762Z",
     "start_time": "2020-09-21T10:17:56.183759Z"
    }
   },
   "outputs": [],
   "source": [
    "simple_dictionary = {\n",
    "    'a': 0,\n",
    "    'b': 1,\n",
    "    'c': 2\n",
    "}\n",
    "\n",
    "# dictionary can also be used\n",
    "for item in simple_dictionary:\n",
    "    print(f'{item}:   {simple_dictionary[item]}')"
   ]
  },
  {
   "cell_type": "code",
   "execution_count": null,
   "metadata": {
    "ExecuteTime": {
     "end_time": "2020-09-21T10:17:51.421398Z",
     "start_time": "2020-09-21T10:17:51.407441Z"
    }
   },
   "outputs": [],
   "source": [
    "list_of_tuples = [\n",
    "    ('a', 0),\n",
    "    ('b', 1),\n",
    "    ('c', 2)\n",
    "]\n",
    "\n",
    "# dictionary can be also used in iteration\n",
    "for key, val in list_of_tuples:\n",
    "    print(f'{key}:   {val}')"
   ]
  },
  {
   "cell_type": "code",
   "execution_count": null,
   "metadata": {
    "ExecuteTime": {
     "end_time": "2020-09-21T10:20:48.417599Z",
     "start_time": "2020-09-21T10:20:48.400600Z"
    }
   },
   "outputs": [],
   "source": [
    "# we can use continue and break directives\n",
    "for i in range(10):\n",
    "    if i % 2 == 0:\n",
    "        # do next iteration\n",
    "        continue\n",
    "    elif i >= 8:\n",
    "        # stop iteration here\n",
    "        break\n",
    "    else:\n",
    "        print(i)"
   ]
  },
  {
   "cell_type": "markdown",
   "metadata": {},
   "source": [
    "<span style=\"color:red\">**TO DO:** Iterate from 1 to 100. Print numbers that are divisible by 9. After 80, break the iteration.</span>"
   ]
  },
  {
   "cell_type": "code",
   "execution_count": null,
   "metadata": {},
   "outputs": [],
   "source": []
  },
  {
   "cell_type": "markdown",
   "metadata": {},
   "source": [
    "#### List comprehention\n",
    "- List comprehention allows to write for loop in one line\n",
    "- this is very useful concept"
   ]
  },
  {
   "cell_type": "code",
   "execution_count": null,
   "metadata": {
    "ExecuteTime": {
     "end_time": "2020-09-21T10:26:20.524051Z",
     "start_time": "2020-09-21T10:26:20.511051Z"
    }
   },
   "outputs": [],
   "source": [
    "my_list = [\n",
    "    1,2,3,4,5\n",
    "]\n",
    "\n",
    "# list comprehention\n",
    "my_modified_list = [i + 1 for i in my_list]\n",
    "print(my_modified_list)"
   ]
  },
  {
   "cell_type": "code",
   "execution_count": null,
   "metadata": {
    "ExecuteTime": {
     "end_time": "2020-09-21T10:29:06.923309Z",
     "start_time": "2020-09-21T10:29:06.910313Z"
    }
   },
   "outputs": [],
   "source": [
    "# we can use if in list comprehention\n",
    "my_modified_list = [item if item % 2 == 0 else -item for item in my_list if item <= 4]\n",
    "my_modified_list"
   ]
  },
  {
   "cell_type": "markdown",
   "metadata": {},
   "source": [
    "**Hint:** Package tqdm allows us to display progress bar of for loops"
   ]
  },
  {
   "cell_type": "code",
   "execution_count": null,
   "metadata": {
    "ExecuteTime": {
     "end_time": "2020-11-09T14:33:06.249652Z",
     "start_time": "2020-11-09T14:32:59.339084Z"
    }
   },
   "outputs": [],
   "source": [
    "from tqdm.notebook import tqdm\n",
    "import time\n",
    "\n",
    "for i in tqdm(range(1000)):\n",
    "    if i % 100 == 0 and i > 0:\n",
    "        print(f'{i} / 1000')\n",
    "        time.sleep(0.5)"
   ]
  },
  {
   "cell_type": "markdown",
   "metadata": {},
   "source": [
    "<span style=\"color:red\">**TO DO:** Translate string to Morse code using list comprehention.</span>"
   ]
  },
  {
   "cell_type": "code",
   "execution_count": null,
   "metadata": {},
   "outputs": [],
   "source": [
    "string = 'SOS. Calling for help.'\n",
    "\n",
    "morse string = \n",
    "\n",
    "print(morse_string)"
   ]
  },
  {
   "cell_type": "markdown",
   "metadata": {},
   "source": [
    "### While loop"
   ]
  },
  {
   "cell_type": "code",
   "execution_count": null,
   "metadata": {
    "ExecuteTime": {
     "end_time": "2020-09-21T10:38:42.678328Z",
     "start_time": "2020-09-21T10:38:42.668332Z"
    }
   },
   "outputs": [],
   "source": [
    "# use while to print string encoded by morse\n",
    "i = 1\n",
    "while i <= len(string):\n",
    "    print(morse[string[i-1].upper()], end = ' ')\n",
    "    i += 1\n"
   ]
  },
  {
   "cell_type": "markdown",
   "metadata": {},
   "source": [
    "<span style=\"color:red\">**TO DO:** Using `while`, construct first 10 items of Fibonacci sequence (Each item is equal to the sum of previous two items; first two items are 0 and 1).</span>"
   ]
  },
  {
   "cell_type": "code",
   "execution_count": null,
   "metadata": {
    "ExecuteTime": {
     "end_time": "2020-11-09T14:39:05.438393Z",
     "start_time": "2020-11-09T14:39:05.418426Z"
    }
   },
   "outputs": [],
   "source": [
    "fibonacci_seq = \n"
   ]
  },
  {
   "cell_type": "markdown",
   "metadata": {},
   "source": [
    "## Functions and classes"
   ]
  },
  {
   "cell_type": "markdown",
   "metadata": {},
   "source": [
    "### User defined functions\n",
    "- how to define function\n",
    "- docstring\n",
    "- function parameters\n",
    "- recursive functions"
   ]
  },
  {
   "cell_type": "code",
   "execution_count": null,
   "metadata": {
    "ExecuteTime": {
     "end_time": "2020-09-21T10:46:55.272583Z",
     "start_time": "2020-09-21T10:46:53.250755Z"
    }
   },
   "outputs": [],
   "source": [
    "# simple function (wait_for_it); note that there is no returned value\n",
    "def wait_for_it(time_to_wait):\n",
    "    print('I started.')\n",
    "    time.sleep(time_to_wait)\n",
    "    print('And I am done...')\n",
    "    \n",
    "wait_for_it(2)"
   ]
  },
  {
   "cell_type": "code",
   "execution_count": null,
   "metadata": {},
   "outputs": [],
   "source": [
    "# simple function with returned value\n",
    "def add_four(num):\n",
    "    return num + 4\n",
    "\n",
    "add_four(-2)"
   ]
  },
  {
   "cell_type": "markdown",
   "metadata": {},
   "source": [
    "<span style=\"color:red\">**TO DO:** Define function `compute_annuity` in the cell below that will return annuity based on limit, number of payments, ir, and instalments per year.</span>\n",
    "$$q = 1 + \\frac{IR}{f}$$\n",
    "$$A = L\\frac{q^{n}(q-1)}{q^{n-1}}$$\n",
    "where\n",
    "\n",
    "- L ... limit\n",
    "- A ... annuity\n",
    "- n ... number of payments\n",
    "- f ... payments per year\n",
    "- IR ... interest rate"
   ]
  },
  {
   "cell_type": "code",
   "execution_count": null,
   "metadata": {
    "ExecuteTime": {
     "end_time": "2020-09-21T11:02:55.798155Z",
     "start_time": "2020-09-21T11:02:55.778041Z"
    }
   },
   "outputs": [],
   "source": [
    "# parameters can have default values; note that parameters without default value must preceed those with default value\n",
    "def compute_annuity(limit, number_of_instalments, ir = 0.1, instalments_per_year = 12):\n",
    "    \"\"\"\n",
    "    Computes annuity payment from other product parameters.\n",
    "    \n",
    "    Parameters\n",
    "    ----------\n",
    "    limit : number\n",
    "        Credit limit.\n",
    "    number_of_instalments : number\n",
    "        Number of instalments.\n",
    "    ir : number\n",
    "        Interest rate.\n",
    "    instalments_per_year: number\n",
    "        Payment frequency - number of instalments per one year. Default is 12 -> monthly payments.\n",
    "    \"\"\"\n",
    "    # place for your code\n",
    "    \n",
    "\n",
    "limit = 200000\n",
    "number_of_instalments = 60\n",
    "ir = 0.12\n",
    "annuity = compute_annuity(\n",
    "    limit = limit,\n",
    "    number_of_instalments = number_of_instalments,\n",
    "    ir = ir\n",
    ")\n",
    "\n",
    "print(f'Limit:                   {limit:,}'.replace(',', ' '))\n",
    "print(f'Number of instalments:   {number_of_instalments}')\n",
    "print(f'Interest rate:           {ir}')\n",
    "print('')\n",
    "print(f'Annuity:                 {annuity:,.2f}'.replace(',', ' '))"
   ]
  },
  {
   "cell_type": "code",
   "execution_count": null,
   "metadata": {
    "ExecuteTime": {
     "end_time": "2020-09-21T11:03:07.606279Z",
     "start_time": "2020-09-21T11:03:07.596282Z"
    }
   },
   "outputs": [],
   "source": [
    "?compute_annuity"
   ]
  },
  {
   "cell_type": "code",
   "execution_count": null,
   "metadata": {
    "ExecuteTime": {
     "end_time": "2020-09-21T12:41:31.954900Z",
     "start_time": "2020-09-21T12:41:31.931934Z"
    }
   },
   "outputs": [],
   "source": [
    "# using *args in parameters (join_words_to_sentence)\n",
    "def join_words_to_sentence(*args):\n",
    "    arg_list = []\n",
    "    for arg in args:\n",
    "        arg_list.append(arg)\n",
    "    \n",
    "    sentence = ' '.join(arg_list) + '.'\n",
    "    return sentence"
   ]
  },
  {
   "cell_type": "code",
   "execution_count": null,
   "metadata": {
    "ExecuteTime": {
     "end_time": "2020-09-21T12:43:13.895822Z",
     "start_time": "2020-09-21T12:43:13.888827Z"
    }
   },
   "outputs": [],
   "source": [
    "print(join_words_to_sentence('I', 'used', 'to', 'be', 'set', 'of', 'words,', 'now', 'I', 'am', 'one', 'sentence'))"
   ]
  },
  {
   "cell_type": "code",
   "execution_count": null,
   "metadata": {
    "ExecuteTime": {
     "end_time": "2020-09-21T12:44:39.639627Z",
     "start_time": "2020-09-21T12:44:39.631628Z"
    }
   },
   "outputs": [],
   "source": [
    "my_words = [\n",
    "    'I', 'used', 'to', 'be', 'set', 'of', 'words,', 'now', 'I', 'am', 'one', 'sentence'\n",
    "]\n",
    "\n",
    "# '*' in function argument has special meaning\n",
    "print(join_words_to_sentence(*my_words))"
   ]
  },
  {
   "cell_type": "code",
   "execution_count": null,
   "metadata": {
    "ExecuteTime": {
     "end_time": "2020-09-21T20:32:29.356621Z",
     "start_time": "2020-09-21T20:32:29.340619Z"
    }
   },
   "outputs": [],
   "source": [
    "# recursive function\n",
    "def factorial(n):\n",
    "    \"\"\"\n",
    "    Function computes factorial recursivly.\n",
    "    \n",
    "    Parameters\n",
    "    ----------\n",
    "    n : int\n",
    "        Factorial argument.\n",
    "    \"\"\"\n",
    "    if n == 0:\n",
    "        return 1\n",
    "    else:\n",
    "        return n * factorial(n-1)"
   ]
  },
  {
   "cell_type": "code",
   "execution_count": null,
   "metadata": {
    "ExecuteTime": {
     "end_time": "2020-09-21T20:32:30.567868Z",
     "start_time": "2020-09-21T20:32:30.548869Z"
    }
   },
   "outputs": [],
   "source": [
    "factorial(5)"
   ]
  },
  {
   "cell_type": "code",
   "execution_count": null,
   "metadata": {},
   "outputs": [],
   "source": [
    "# return more than one value\n",
    "def min_max(list_of_values):\n",
    "    return min(list_of_values), max(list_of_values)\n",
    "\n",
    "min_val, max_val = min_max([2,5,3,6,9,8])\n",
    "print(f'Minimum:   {min_val}')\n",
    "print(f'Maximum:   {max_val}')"
   ]
  },
  {
   "cell_type": "markdown",
   "metadata": {},
   "source": [
    "### Lambda function\n",
    "- Lambda function is a shorter way of defining a function. It can also be used to define anonymous functions."
   ]
  },
  {
   "cell_type": "code",
   "execution_count": null,
   "metadata": {
    "ExecuteTime": {
     "end_time": "2020-11-07T11:03:14.207910Z",
     "start_time": "2020-11-07T11:03:14.198918Z"
    }
   },
   "outputs": [],
   "source": [
    "# anonymous function\n",
    "(lambda x: x)(1)"
   ]
  },
  {
   "cell_type": "code",
   "execution_count": null,
   "metadata": {
    "ExecuteTime": {
     "end_time": "2020-11-07T11:03:48.321609Z",
     "start_time": "2020-11-07T11:03:48.312606Z"
    }
   },
   "outputs": [],
   "source": [
    "# named lambda expression\n",
    "identity = lambda x: x\n",
    "identity(1)"
   ]
  },
  {
   "cell_type": "code",
   "execution_count": null,
   "metadata": {
    "ExecuteTime": {
     "end_time": "2020-11-07T11:04:29.684207Z",
     "start_time": "2020-11-07T11:04:29.676153Z"
    }
   },
   "outputs": [],
   "source": [
    "# multiple arguments in lambda expression\n",
    "(lambda x, y: x + y)(3, 4)"
   ]
  },
  {
   "cell_type": "code",
   "execution_count": null,
   "metadata": {
    "ExecuteTime": {
     "end_time": "2020-11-07T11:10:05.198444Z",
     "start_time": "2020-11-07T11:10:05.188487Z"
    }
   },
   "outputs": [],
   "source": [
    "# using lambda expression for sorting a list\n",
    "list_of_values = [1,2,3,4,5,6,7,8,9]\n",
    "sorted(list_of_values, key = lambda x: x % 3)"
   ]
  },
  {
   "cell_type": "markdown",
   "metadata": {},
   "source": [
    "### Classes in Python"
   ]
  },
  {
   "cell_type": "markdown",
   "metadata": {},
   "source": [
    "***Object Oriented Programming***\n",
    "\n",
    "Object Oriented Programming is a programming paradigm - it presents different way of thinking about construction of programms. Basic building blocks are objects. Object is an construct that holds data (in form of attributes or properties) and logic that can be applied to this data (methods).\n",
    "\n",
    "Objects, their structure and functionality, are defined in classes. We say object is an instance of class. It is like having a recipe for a cake (this would represent a class) and then the cake created based on this recipe (this would be object, an instance of a class). We can have multiple cakes cooked by one recipe same as we can have multiple objects of one class.\n",
    "\n",
    "Objects brings following features:\n",
    "\n",
    "- Encapsulation - object holds the data and the logic that can be applied on them. Also we can hide some functionality from the end user.\n",
    "- Composition - object can contain other object. For instance, object Employment can contain object Address.\n",
    "- Inheritance - we can arrange object hierarchy - child class is an extention of parent class, it knows everything parent does and also something that parent does not know.\n",
    "- Overloading methods - the same method can apply different logic for different classes. For instance operator '+' has different functionality when applied on strings or integers\n",
    "\n",
    "Syntax of class definition:\n",
    "\n",
    "- \"functions\" defined inside a class are called **methods** and their functionality is available only inside given class and its descendants\n",
    "- Each class must have `__init__()` method - this is called **constructor** and it is executed every time a new instance of the class is being established\n",
    "- First parameter of \\_\\_init\\_\\_ method is always `self` - this represents the object's storage place. In `self` we store data that should be available inside the object. Data are stored as **attributes**."
   ]
  },
  {
   "cell_type": "markdown",
   "metadata": {},
   "source": [
    "<span style=\"color:red\">Define class Roulette. In this roulette only odd/even and single digit bets are accepted. Win for odd/even is 2*bet. Win for single digit is 35*bet.</span>\n",
    "\n",
    "**Roulette**\n",
    "- attributes: \n",
    "    - remaining_money - initial remaining_money is set in constructor, then remianing_money changes as the gamer win or loose\n",
    "    - bet_history - a list of gains (negative if lost, positive if win). Each bet adds one more item to bet_history.\n",
    "- methods:\n",
    "    - bet_even_odd - roulette is rolled and remaining money is modified based on result (win/loss)\n",
    "    - bet_single_number - roulette is rolled and remaining money is modified based on result (win/loss)\n",
    "    - available_bet - at the beginning of a bet (even/odd, single number) this function checks if gambles has enough resources. In case of remaining money being zero, bet is not accepted, in case of remaining money being less than bet, only bet amount is replaced with remianing money\n",
    "    \n",
    "**Hints:**\n",
    "\n",
    "- Each class must have constructor method\n",
    "- to generate roulette output, use random.randint(0,36) - this will generate integer number between 0 and 36"
   ]
  },
  {
   "cell_type": "code",
   "execution_count": null,
   "metadata": {},
   "outputs": [],
   "source": [
    "class Roulette:\n",
    "    def __init__(self, total_money):\n",
    "        self.remaining_money = total_money\n",
    "        self.bet_history = []\n",
    "    \n",
    "    def roll_roulette(self):\n",
    "        return random.randint(0,36)\n",
    "    \n",
    "    def available_bet(self, bet_amount):\n",
    "        if self.remaining_money == 0:\n",
    "            print('You have lost everything. Get lost!')\n",
    "            return 0\n",
    "        else:\n",
    "            return min(self.remaining_money, bet_amount)\n",
    "    \n",
    "    def bet_even_odd(self, bet, bet_amount):\n",
    "        bet_amount = self.available_bet(bet_amount)\n",
    "        \n",
    "        num = self.roll_roulette()\n",
    "        if num == 0:\n",
    "            num_type = 'zero'\n",
    "        elif num % 2 == 0:\n",
    "            num_type = 'odd'\n",
    "        else:\n",
    "            num_type = 'even'\n",
    "        \n",
    "        if num_type == bet:\n",
    "            gain = 2 * bet_amount - bet_amount\n",
    "        else:\n",
    "            gain = -bet_amount\n",
    "            \n",
    "        self.remaining_money += gain\n",
    "        self.bet_history.append(gain)\n",
    "        \n",
    "    def bet_single_number(self, bet, bet_amount):\n",
    "        bet_amount = self.available_bet(bet_amount)\n",
    "        \n",
    "        num = self.roll_roulette()\n",
    "        if bet == num:\n",
    "            gain = 35 * bet_amount - bet_amount\n",
    "        else:\n",
    "            gain = -bet_amount\n",
    "            \n",
    "        self.remaining_money += gain\n",
    "        self.bet_history.append(gain)        "
   ]
  },
  {
   "cell_type": "code",
   "execution_count": null,
   "metadata": {},
   "outputs": [],
   "source": [
    "import random\n",
    "# generate integer between 0 and 36\n",
    "random.randint(0,36)"
   ]
  },
  {
   "cell_type": "code",
   "execution_count": null,
   "metadata": {},
   "outputs": [],
   "source": [
    "def gamble_roulette(init_money, strategy, bet_amount = 10):\n",
    "    gambler = Roulette(init_money)\n",
    "\n",
    "    bet_amount = bet_amount\n",
    "    while gambler.remaining_money > 0:\n",
    "        if strategy == 'odd_even':\n",
    "            my_bet = 'odd' if random.random() < 0.5 else 'even'\n",
    "            gambler.bet_even_odd(my_bet, bet_amount)\n",
    "        elif strategy == 'single_digit':\n",
    "            my_bet = random.randint(0,36)\n",
    "            gambler.bet_single_number(my_bet, bet_amount)\n",
    "    \n",
    "    return gambler.bet_history"
   ]
  },
  {
   "cell_type": "code",
   "execution_count": null,
   "metadata": {},
   "outputs": [],
   "source": [
    "import matplotlib.pyplot as plt\n",
    "import numpy as np\n",
    "\n",
    "\n",
    "h_oe = gamble_roulette(1000, 'odd_even')\n",
    "h_sd = gamble_roulette(1000, 'single_digit')\n",
    "\n",
    "plt.plot(np.cumsum(h_oe), label = 'odd/even')\n",
    "plt.plot(np.cumsum(h_sd), label = 'single digit')\n",
    "plt.xlabel('bet order')\n",
    "plt.ylabel('total gain')\n",
    "plt.legend(loc = 'best')\n",
    "plt.show()"
   ]
  },
  {
   "cell_type": "code",
   "execution_count": null,
   "metadata": {},
   "outputs": [],
   "source": [
    "from tqdm.notebook import tqdm"
   ]
  },
  {
   "cell_type": "code",
   "execution_count": null,
   "metadata": {},
   "outputs": [],
   "source": [
    "n_runs = 100\n",
    "\n",
    "odd_even = []\n",
    "single_digit = []\n",
    "for i in tqdm(range(n_runs)):\n",
    "    h_oe = gamble_roulette(1000, 'odd_even')\n",
    "    h_sd = gamble_roulette(1000, 'single_digit')\n",
    "    \n",
    "    odd_even.append(len(h_oe))\n",
    "    single_digit.append(len(h_sd))"
   ]
  },
  {
   "cell_type": "code",
   "execution_count": null,
   "metadata": {},
   "outputs": [],
   "source": [
    "plt.boxplot([odd_even, single_digit], labels = ['odd/even', 'single_digit'])\n",
    "plt.ylim([0,10000])\n",
    "plt.show()"
   ]
  },
  {
   "cell_type": "markdown",
   "metadata": {},
   "source": [
    "## Exception handling\n",
    "- When a program hits an error, an *exception* is being raised.\n",
    "- Python defines various types of exceptions - see <a href=\"https://docs.python.org/3/library/exceptions.html\" target=\"_blank\">python exceptions</a> for list of build-in exceptions.\n",
    "- Few examples of exceptions:\n",
    "\n",
    "|Exception|Reason|Example|\n",
    "|:-|:-|:-|\n",
    "|TypeError|Operation or function is applied on an object of inappropriate type|Division of two strings|\n",
    "|ValueError|Operation or function receives an argument that has the right type but an inappropriate value|Square root of negative number|\n",
    "|KeyError|Dictionary key is not found in the set of existing keys|Accessing non-existing dictionary key|\n",
    "|ZeroDivisionError|Second argument of a division or modulo operation is zero|Division by zero|\n",
    "|ModuleNotFoundError|Module could not be located|Trying to import non existing module|\n",
    "\n",
    "- Exceptions can be handled - if an exception is encountered, we might want the code not to break, but rather do something else. Or we can modify displayed error message to be more informative.\n",
    "- Exeption handling is done using `try` and `except` statements "
   ]
  },
  {
   "cell_type": "code",
   "execution_count": null,
   "metadata": {
    "ExecuteTime": {
     "end_time": "2020-11-07T09:52:40.152940Z",
     "start_time": "2020-11-07T09:52:40.138947Z"
    }
   },
   "outputs": [],
   "source": [
    "# 'aaa' / 'bbb'\n",
    "\n",
    "# import math\n",
    "# math.sqrt(-5)\n",
    "\n",
    "# dictionary = {\n",
    "#     1: 1,\n",
    "#     2: 2\n",
    "# }\n",
    "# dictionary[3]\n",
    "\n",
    "# 1 / 0\n",
    "\n",
    "# import xgboost2"
   ]
  },
  {
   "cell_type": "markdown",
   "metadata": {},
   "source": [
    "### Handling an exceptions"
   ]
  },
  {
   "cell_type": "code",
   "execution_count": null,
   "metadata": {
    "ExecuteTime": {
     "end_time": "2020-11-09T17:27:54.850475Z",
     "start_time": "2020-11-09T17:27:54.837476Z"
    }
   },
   "outputs": [],
   "source": [
    "numerator = 1\n",
    "denominator = 0\n",
    "\n",
    "fraction = numerator / denominator"
   ]
  },
  {
   "cell_type": "code",
   "execution_count": null,
   "metadata": {
    "ExecuteTime": {
     "end_time": "2020-11-07T09:47:35.983753Z",
     "start_time": "2020-11-07T09:47:35.963757Z"
    }
   },
   "outputs": [],
   "source": [
    "# basic handling of ZeroDivisionError\n",
    "try:\n",
    "    fraction = numerator / denominator\n",
    "except:\n",
    "    fraction = 0\n",
    "    \n",
    "print(fraction)"
   ]
  },
  {
   "cell_type": "code",
   "execution_count": null,
   "metadata": {
    "ExecuteTime": {
     "end_time": "2020-11-07T09:49:14.365907Z",
     "start_time": "2020-11-07T09:49:14.349857Z"
    }
   },
   "outputs": [],
   "source": [
    "# Handling specific type of an error separately\n",
    "denominator = 'aaa'\n",
    "\n",
    "try:\n",
    "    fraction = numerator / denominator\n",
    "except ZeroDivisionError:\n",
    "    fraction = 0\n",
    "    \n",
    "print(fraction)"
   ]
  },
  {
   "cell_type": "markdown",
   "metadata": {},
   "source": [
    "- Finally is an *cleanup* handler. It is being executed after try and except clauses."
   ]
  },
  {
   "cell_type": "code",
   "execution_count": null,
   "metadata": {
    "ExecuteTime": {
     "end_time": "2020-11-07T10:01:55.260955Z",
     "start_time": "2020-11-07T10:01:55.246947Z"
    }
   },
   "outputs": [],
   "source": [
    "denominator = 0\n",
    "\n",
    "try:\n",
    "    fraction = numerator / denominator\n",
    "except ZeroDivisionError:\n",
    "    print(-1)\n",
    "    fraction = 0\n",
    "except ValueError:\n",
    "    fraction = None\n",
    "finally:\n",
    "    print('Running finally handler...')\n",
    "    \n",
    "print(fraction)\n"
   ]
  },
  {
   "cell_type": "markdown",
   "metadata": {},
   "source": [
    "### Raising an exception\n",
    "- exceptions can be raised manually"
   ]
  },
  {
   "cell_type": "code",
   "execution_count": null,
   "metadata": {
    "ExecuteTime": {
     "end_time": "2020-11-07T10:05:16.994320Z",
     "start_time": "2020-11-07T10:05:16.973274Z"
    }
   },
   "outputs": [],
   "source": [
    "# Enforcing variable pi to be set with correct value\n",
    "pi = 2.7183\n",
    "\n",
    "if round(pi, 4) != 3.1415:\n",
    "    raise ValueError"
   ]
  },
  {
   "cell_type": "code",
   "execution_count": null,
   "metadata": {
    "ExecuteTime": {
     "end_time": "2020-11-07T10:07:19.544409Z",
     "start_time": "2020-11-07T10:07:19.532396Z"
    }
   },
   "outputs": [],
   "source": [
    "# Adding user defined error message\n",
    "pi = 2.7183\n",
    "\n",
    "if round(pi, 4) != 3.1415:\n",
    "    raise ValueError('Any child knows that pi is equal to 3.1415!')"
   ]
  },
  {
   "cell_type": "markdown",
   "metadata": {
    "ExecuteTime": {
     "end_time": "2020-11-09T17:36:28.259766Z",
     "start_time": "2020-11-09T17:36:28.250750Z"
    }
   },
   "source": [
    "<span style=\"color:red\">**TO DO:** Modify compute annuity function in the following fashion:</span>\n",
    "\n",
    "- if any of product parameters passed to the function has a form of not numerical string, raise TypeError\n",
    "- if any of product parameters is negative, raise ValueError\n",
    "- note: limit = '10000' is a correct input"
   ]
  },
  {
   "cell_type": "code",
   "execution_count": null,
   "metadata": {
    "ExecuteTime": {
     "end_time": "2020-11-07T10:41:06.691594Z",
     "start_time": "2020-11-07T10:41:06.679597Z"
    }
   },
   "outputs": [],
   "source": [
    "# add check for correct values to compute_annuity function - TypeError if parameters are not numerical (try retyping), \n",
    "# ValueError if negative values\n",
    "def compute_annuity(limit, number_of_instalments, ir = 0.1, instalments_per_year = 12):\n",
    "    \"\"\"\n",
    "    Computes annuity payment from other product parameters.\n",
    "    \n",
    "    Parameters\n",
    "    ----------\n",
    "    limit : number\n",
    "        Credit limit.\n",
    "    number_of_instalments : number\n",
    "        Number of instalments.\n",
    "    ir : number\n",
    "        Interest rate.\n",
    "    instalments_per_year: number\n",
    "        Payment frequency - number of instalments per one year. Default is 12 -> monthly payments.\n",
    "    \"\"\"\n",
    "    q = 1 + ir / instalments_per_year\n",
    "    annuity = limit * q ** number_of_instalments * (q - 1) / (q ** number_of_instalments - 1)\n",
    "    return annuity\n",
    "\n",
    "limit = 200000\n",
    "number_of_instalments = 60\n",
    "ir = 0.12\n",
    "annuity = compute_annuity(\n",
    "    limit = limit,\n",
    "    number_of_instalments = number_of_instalments,\n",
    "    ir = ir\n",
    ")\n",
    "\n",
    "print(f'Limit:                   {limit:,}'.replace(',', ' '))\n",
    "print(f'Number of instalments:   {number_of_instalments}')\n",
    "print(f'Interest rate:           {ir}')\n",
    "print('')\n",
    "print(f'Annuity:                 {annuity:,.2f}'.replace(',', ' '))"
   ]
  },
  {
   "cell_type": "code",
   "execution_count": null,
   "metadata": {
    "ExecuteTime": {
     "end_time": "2020-11-07T10:40:20.080526Z",
     "start_time": "2020-11-07T10:40:20.073528Z"
    }
   },
   "outputs": [],
   "source": [
    "compute_annuity(\n",
    "    limit=100000,\n",
    "    number_of_instalments=24\n",
    ")"
   ]
  },
  {
   "cell_type": "markdown",
   "metadata": {},
   "source": [
    "## Importing packages\n",
    "- how to install packages\n",
    "- different ways to import packages\n",
    "- user defined packages"
   ]
  },
  {
   "cell_type": "markdown",
   "metadata": {},
   "source": [
    "**General note:** using `!` at the beggining of the line, means that the command is executed in command line"
   ]
  },
  {
   "cell_type": "markdown",
   "metadata": {},
   "source": [
    "### Installation of python packages\n",
    "`pip` is a program for managment of python packages. By calling `pip install package_name` in command line, desired package will be automatically dowloaded and installed to proper location.\n",
    "\n",
    "Using `pip` we can also uninstall packages or specify a version of package to be installed."
   ]
  },
  {
   "cell_type": "code",
   "execution_count": null,
   "metadata": {
    "ExecuteTime": {
     "end_time": "2020-10-05T15:16:12.077679Z",
     "start_time": "2020-10-05T15:16:09.840197Z"
    }
   },
   "outputs": [],
   "source": [
    "# !pip install xgboost (do not run)"
   ]
  },
  {
   "cell_type": "code",
   "execution_count": null,
   "metadata": {
    "ExecuteTime": {
     "start_time": "2020-10-05T15:12:47.434Z"
    }
   },
   "outputs": [],
   "source": [
    "# !pip uninstall xgboost (do not run)"
   ]
  },
  {
   "cell_type": "code",
   "execution_count": null,
   "metadata": {},
   "outputs": [],
   "source": [
    "# !pip install xgboost=0.90 (do not run)"
   ]
  },
  {
   "cell_type": "markdown",
   "metadata": {},
   "source": [
    "### Importing packages"
   ]
  },
  {
   "cell_type": "code",
   "execution_count": null,
   "metadata": {
    "ExecuteTime": {
     "end_time": "2020-11-07T11:36:07.806703Z",
     "start_time": "2020-11-07T11:36:07.659713Z"
    }
   },
   "outputs": [],
   "source": [
    "# basic way to import package\n",
    "import numpy\n",
    "\n",
    "# We can use functionality defined in numpy package now\n",
    "numpy.mean([1,2,3,4])"
   ]
  },
  {
   "cell_type": "code",
   "execution_count": null,
   "metadata": {
    "ExecuteTime": {
     "end_time": "2020-11-07T11:36:09.415916Z",
     "start_time": "2020-11-07T11:36:09.394264Z"
    }
   },
   "outputs": [],
   "source": [
    "# removing numpy from packages I have access to\n",
    "del numpy\n",
    "\n",
    "# now I cannot use numpy functionality\n",
    "numpy.mean([1,2,3,4])"
   ]
  },
  {
   "cell_type": "code",
   "execution_count": null,
   "metadata": {
    "ExecuteTime": {
     "end_time": "2020-10-05T15:22:37.376330Z",
     "start_time": "2020-10-05T15:22:37.364331Z"
    }
   },
   "outputs": [],
   "source": [
    "# importing package and defining alias\n",
    "import numpy as np\n",
    "\n",
    "# numpy functionality is now available under np\n",
    "vector = [1,2,3,4] \n",
    "print(f'Vector mean: {np.mean(vector)}')\n",
    "print(f'Vector standard deviation: {np.std(vector)}')"
   ]
  },
  {
   "cell_type": "code",
   "execution_count": null,
   "metadata": {
    "ExecuteTime": {
     "end_time": "2020-10-05T15:23:14.662168Z",
     "start_time": "2020-10-05T15:23:14.650130Z"
    }
   },
   "outputs": [],
   "source": [
    "del np"
   ]
  },
  {
   "cell_type": "code",
   "execution_count": null,
   "metadata": {
    "ExecuteTime": {
     "end_time": "2020-10-05T15:24:20.800109Z",
     "start_time": "2020-10-05T15:24:20.790092Z"
    }
   },
   "outputs": [],
   "source": [
    "# importing only part of the package\n",
    "from numpy import mean\n",
    "\n",
    "vector = [1,2,3,4] \n",
    "print(f'Vector mean: {mean(vector)}')\n",
    "print(f'Vector standard deviation: {std(vector)}')"
   ]
  },
  {
   "cell_type": "code",
   "execution_count": null,
   "metadata": {
    "ExecuteTime": {
     "end_time": "2020-10-05T15:25:50.943909Z",
     "start_time": "2020-10-05T15:25:50.928909Z"
    }
   },
   "outputs": [],
   "source": [
    "# importing all functionality from package\n",
    "from numpy import *\n",
    "\n",
    "vector = [1,2,3,4] \n",
    "print(f'Vector mean: {mean(vector)}')\n",
    "print(f'Vector standard deviation: {std(vector)}')"
   ]
  },
  {
   "cell_type": "markdown",
   "metadata": {},
   "source": [
    "### User defined packages\n",
    "First create a folder named *user_library* at the location of current script. Inside create a *roulette.py* file a copy paste there codes for definition of class Roulette."
   ]
  },
  {
   "cell_type": "code",
   "execution_count": null,
   "metadata": {
    "ExecuteTime": {
     "end_time": "2020-10-05T15:34:45.897435Z",
     "start_time": "2020-10-05T15:34:45.884468Z"
    }
   },
   "outputs": [],
   "source": [
    "import user_library.roulette as rl"
   ]
  },
  {
   "cell_type": "code",
   "execution_count": null,
   "metadata": {
    "ExecuteTime": {
     "end_time": "2020-10-05T15:40:39.150973Z",
     "start_time": "2020-10-05T15:40:39.132974Z"
    }
   },
   "outputs": [],
   "source": [
    "roulette = rl.Roulette(1000)"
   ]
  },
  {
   "cell_type": "code",
   "execution_count": null,
   "metadata": {
    "ExecuteTime": {
     "end_time": "2020-10-05T15:42:05.524699Z",
     "start_time": "2020-10-05T15:42:05.511668Z"
    }
   },
   "outputs": [],
   "source": [
    "roulette.bet_even_odd('even', 100)"
   ]
  },
  {
   "cell_type": "code",
   "execution_count": null,
   "metadata": {
    "ExecuteTime": {
     "end_time": "2020-10-05T15:41:09.737214Z",
     "start_time": "2020-10-05T15:41:09.718200Z"
    }
   },
   "outputs": [],
   "source": [
    "roulette.bet_history"
   ]
  },
  {
   "cell_type": "markdown",
   "metadata": {},
   "source": [
    "**General note:** Sometimes in python scripts you might encounter a condition `if __name__ == '__main__':`.\n",
    "\n",
    "At the very beginning of python code execution, several special variables (such as `__name__`) are assigned. The entering point of the application (the main program, the file that we sent to python interpreter) has assgined a value `__main__` in variable `__name__`. The main program usually uses other imported modules. Those modules has also variable `__name__` assigned. The value of this variable will be equal to the location of the module.\n",
    "\n",
    "*Example:*\n",
    "- *We run `python main_script.py`. The code written in main_script.py has assigned value of `__name__` equal to `__main__`.*\n",
    "- Inside `main_script.py` we import package `support_functions` that is defined in file `support_functions.py`. Any code written in `support_functions` has `__name__ = 'support_functions'`."
   ]
  },
  {
   "cell_type": "markdown",
   "metadata": {},
   "source": [
    "# Loading data\n",
    "- os and sys packages\n",
    "- retrieving input from console\n",
    "- using relative and absoluth paths\n",
    "- loading data from txt / csv / pickle\n",
    "- saving data"
   ]
  },
  {
   "cell_type": "markdown",
   "metadata": {},
   "source": [
    "## sys package\n",
    "- sys ... System-specific parameters and functions"
   ]
  },
  {
   "cell_type": "code",
   "execution_count": 8,
   "metadata": {
    "ExecuteTime": {
     "end_time": "2020-10-05T15:55:38.987893Z",
     "start_time": "2020-10-05T15:55:38.979895Z"
    }
   },
   "outputs": [],
   "source": [
    "import sys"
   ]
  },
  {
   "cell_type": "code",
   "execution_count": 11,
   "metadata": {},
   "outputs": [
    {
     "data": {
      "text/plain": [
       "<module 'sys' (built-in)>"
      ]
     },
     "execution_count": 11,
     "metadata": {},
     "output_type": "execute_result"
    }
   ],
   "source": [
    "sys"
   ]
  },
  {
   "cell_type": "code",
   "execution_count": 9,
   "metadata": {
    "ExecuteTime": {
     "end_time": "2020-10-05T15:57:31.002735Z",
     "start_time": "2020-10-05T15:57:30.982740Z"
    }
   },
   "outputs": [
    {
     "data": {
      "text/plain": [
       "['C:\\\\Users\\\\ondra\\\\Documents\\\\Data science 2\\\\data-science-2\\\\Practicals\\\\02_python_intro',\n",
       " 'C:\\\\Users\\\\ondra\\\\AppData\\\\Local\\\\Programs\\\\Python\\\\Python310\\\\python310.zip',\n",
       " 'C:\\\\Users\\\\ondra\\\\AppData\\\\Local\\\\Programs\\\\Python\\\\Python310\\\\DLLs',\n",
       " 'C:\\\\Users\\\\ondra\\\\AppData\\\\Local\\\\Programs\\\\Python\\\\Python310\\\\lib',\n",
       " 'C:\\\\Users\\\\ondra\\\\AppData\\\\Local\\\\Programs\\\\Python\\\\Python310',\n",
       " 'C:\\\\Users\\\\ondra\\\\Documents\\\\Data science 2\\\\data-science-2\\\\.venv',\n",
       " '',\n",
       " 'C:\\\\Users\\\\ondra\\\\Documents\\\\Data science 2\\\\data-science-2\\\\.venv\\\\lib\\\\site-packages',\n",
       " 'C:\\\\Users\\\\ondra\\\\Documents\\\\Data science 2\\\\data-science-2\\\\.venv\\\\lib\\\\site-packages\\\\win32',\n",
       " 'C:\\\\Users\\\\ondra\\\\Documents\\\\Data science 2\\\\data-science-2\\\\.venv\\\\lib\\\\site-packages\\\\win32\\\\lib',\n",
       " 'C:\\\\Users\\\\ondra\\\\Documents\\\\Data science 2\\\\data-science-2\\\\.venv\\\\lib\\\\site-packages\\\\Pythonwin']"
      ]
     },
     "execution_count": 9,
     "metadata": {},
     "output_type": "execute_result"
    }
   ],
   "source": [
    "# system paths (defines location where python searches for packages)\n",
    "sys.path"
   ]
  },
  {
   "cell_type": "code",
   "execution_count": 10,
   "metadata": {
    "ExecuteTime": {
     "end_time": "2020-10-05T16:09:41.626762Z",
     "start_time": "2020-10-05T16:09:41.620732Z"
    }
   },
   "outputs": [
    {
     "data": {
      "text/plain": [
       "28"
      ]
     },
     "execution_count": 10,
     "metadata": {},
     "output_type": "execute_result"
    }
   ],
   "source": [
    "my_integer = 1\n",
    "\n",
    "# size of object in bytes (getsizeof)\n",
    "sys.getsizeof(my_integer)"
   ]
  },
  {
   "cell_type": "code",
   "execution_count": 12,
   "metadata": {
    "ExecuteTime": {
     "end_time": "2020-10-05T16:12:14.096165Z",
     "start_time": "2020-10-05T16:12:14.085166Z"
    },
    "collapsed": true,
    "jupyter": {
     "outputs_hidden": true
    }
   },
   "outputs": [
    {
     "data": {
      "text/plain": [
       "['sys',\n",
       " 'builtins',\n",
       " '_frozen_importlib',\n",
       " '_imp',\n",
       " '_thread',\n",
       " '_warnings',\n",
       " '_weakref',\n",
       " '_io',\n",
       " 'marshal',\n",
       " 'nt',\n",
       " 'winreg',\n",
       " '_frozen_importlib_external',\n",
       " 'time',\n",
       " 'zipimport',\n",
       " '_codecs',\n",
       " 'codecs',\n",
       " 'encodings.aliases',\n",
       " 'encodings',\n",
       " 'encodings.utf_8',\n",
       " 'encodings.cp1250',\n",
       " '_signal',\n",
       " '_abc',\n",
       " 'abc',\n",
       " 'io',\n",
       " '__main__',\n",
       " '_stat',\n",
       " 'stat',\n",
       " '_collections_abc',\n",
       " 'genericpath',\n",
       " '_winapi',\n",
       " 'ntpath',\n",
       " 'os.path',\n",
       " 'os',\n",
       " '_sitebuiltins',\n",
       " '_distutils_hack',\n",
       " 'types',\n",
       " 'importlib._bootstrap',\n",
       " 'importlib._bootstrap_external',\n",
       " 'warnings',\n",
       " 'importlib',\n",
       " 'importlib._abc',\n",
       " 'itertools',\n",
       " 'keyword',\n",
       " '_operator',\n",
       " 'operator',\n",
       " 'reprlib',\n",
       " '_collections',\n",
       " 'collections',\n",
       " '_functools',\n",
       " 'functools',\n",
       " 'contextlib',\n",
       " 'importlib.util',\n",
       " 'importlib.machinery',\n",
       " 'google',\n",
       " 'pywin32_system32',\n",
       " 'pywin32_bootstrap',\n",
       " 'zope',\n",
       " 'site',\n",
       " 'runpy',\n",
       " 'enum',\n",
       " '_sre',\n",
       " 'sre_constants',\n",
       " 'sre_parse',\n",
       " 'sre_compile',\n",
       " '_locale',\n",
       " 'copyreg',\n",
       " 're',\n",
       " 'collections.abc',\n",
       " 'typing.io',\n",
       " 'typing.re',\n",
       " 'typing',\n",
       " 'ipykernel._version',\n",
       " '__future__',\n",
       " '_json',\n",
       " 'json.scanner',\n",
       " 'json.decoder',\n",
       " 'json.encoder',\n",
       " 'json',\n",
       " 'errno',\n",
       " 'signal',\n",
       " '_weakrefset',\n",
       " 'threading',\n",
       " 'msvcrt',\n",
       " 'subprocess',\n",
       " 'jupyter_client._version',\n",
       " 'platform',\n",
       " 'zmq.backend.select',\n",
       " 'cython_runtime',\n",
       " '_cython_3_0_6',\n",
       " 'zmq.error',\n",
       " 'zmq.backend.cython.context',\n",
       " 'weakref',\n",
       " 'zmq.backend.cython.message',\n",
       " 'copy',\n",
       " 'math',\n",
       " '_bisect',\n",
       " 'bisect',\n",
       " '_random',\n",
       " '_sha512',\n",
       " 'random',\n",
       " '_struct',\n",
       " 'struct',\n",
       " '_compat_pickle',\n",
       " '_pickle',\n",
       " 'pickle',\n",
       " 'zmq.constants',\n",
       " 'zmq.backend.cython.socket',\n",
       " 'zmq.backend.cython._device',\n",
       " 'zmq.backend.cython._poll',\n",
       " 'zmq.backend.cython._proxy_steerable',\n",
       " 'zmq.backend.cython._version',\n",
       " 'zmq.backend.cython.error',\n",
       " 'zmq.backend.cython.utils',\n",
       " 'zmq.backend.cython',\n",
       " 'zmq.backend',\n",
       " 'atexit',\n",
       " 'zmq.utils',\n",
       " 'zmq.utils.interop',\n",
       " 'zmq.sugar.attrsettr',\n",
       " 'zmq._typing',\n",
       " 'zmq.utils.jsonapi',\n",
       " 'zmq.sugar.poll',\n",
       " 'zmq.sugar.socket',\n",
       " 'zmq.sugar.context',\n",
       " 'zmq.sugar.frame',\n",
       " 'zmq.sugar.tracker',\n",
       " 'zmq.sugar.version',\n",
       " 'zmq.sugar.stopwatch',\n",
       " 'zmq.sugar',\n",
       " 'zmq',\n",
       " 'concurrent',\n",
       " 'token',\n",
       " 'tokenize',\n",
       " 'linecache',\n",
       " 'traceback',\n",
       " '_string',\n",
       " 'string',\n",
       " 'logging',\n",
       " 'concurrent.futures._base',\n",
       " 'concurrent.futures',\n",
       " '_heapq',\n",
       " 'heapq',\n",
       " '_socket',\n",
       " 'select',\n",
       " 'selectors',\n",
       " 'socket',\n",
       " '_ssl',\n",
       " 'binascii',\n",
       " 'base64',\n",
       " 'ssl',\n",
       " 'asyncio.constants',\n",
       " '_ast',\n",
       " 'ast',\n",
       " '_opcode',\n",
       " 'opcode',\n",
       " 'dis',\n",
       " 'inspect',\n",
       " 'asyncio.format_helpers',\n",
       " 'asyncio.base_futures',\n",
       " 'asyncio.log',\n",
       " 'asyncio.coroutines',\n",
       " '_contextvars',\n",
       " 'contextvars',\n",
       " 'asyncio.exceptions',\n",
       " 'asyncio.base_tasks',\n",
       " '_asyncio',\n",
       " 'asyncio.events',\n",
       " 'asyncio.futures',\n",
       " 'asyncio.protocols',\n",
       " 'asyncio.transports',\n",
       " 'asyncio.sslproto',\n",
       " 'asyncio.mixins',\n",
       " 'asyncio.tasks',\n",
       " 'asyncio.locks',\n",
       " 'asyncio.staggered',\n",
       " 'asyncio.trsock',\n",
       " 'asyncio.base_events',\n",
       " 'asyncio.runners',\n",
       " 'asyncio.queues',\n",
       " 'asyncio.streams',\n",
       " 'asyncio.subprocess',\n",
       " 'asyncio.threads',\n",
       " '_overlapped',\n",
       " 'asyncio.base_subprocess',\n",
       " 'asyncio.proactor_events',\n",
       " 'asyncio.selector_events',\n",
       " 'posixpath',\n",
       " 'fnmatch',\n",
       " 'zlib',\n",
       " '_compression',\n",
       " '_bz2',\n",
       " 'bz2',\n",
       " '_lzma',\n",
       " 'lzma',\n",
       " 'shutil',\n",
       " 'tempfile',\n",
       " 'asyncio.windows_utils',\n",
       " 'asyncio.windows_events',\n",
       " 'asyncio',\n",
       " 'zmq._future',\n",
       " 'zmq.asyncio',\n",
       " 'urllib',\n",
       " 'urllib.parse',\n",
       " 'pathlib',\n",
       " 'traitlets.utils',\n",
       " 'traitlets.utils.bunch',\n",
       " 'traitlets.utils.descriptions',\n",
       " 'traitlets.utils.getargspec',\n",
       " 'traitlets.utils.importstring',\n",
       " 'traitlets.utils.sentinel',\n",
       " 'traitlets.utils.warnings',\n",
       " 'traitlets.traitlets',\n",
       " 'traitlets._version',\n",
       " 'traitlets.utils.decorators',\n",
       " 'traitlets',\n",
       " '_queue',\n",
       " 'queue',\n",
       " 'jupyter_core.version',\n",
       " 'jupyter_core',\n",
       " 'jupyter_core.utils',\n",
       " 'jupyter_client.channelsabc',\n",
       " '_hashlib',\n",
       " '_blake2',\n",
       " 'hashlib',\n",
       " 'hmac',\n",
       " 'dataclasses',\n",
       " 'pprint',\n",
       " '_datetime',\n",
       " 'datetime',\n",
       " 'tornado',\n",
       " 'numbers',\n",
       " 'logging.handlers',\n",
       " 'html.entities',\n",
       " 'html',\n",
       " 'array',\n",
       " 'tornado.speedups',\n",
       " 'tornado.util',\n",
       " 'tornado.escape',\n",
       " 'colorama.ansi',\n",
       " '_ctypes',\n",
       " 'ctypes._endian',\n",
       " 'ctypes',\n",
       " 'ctypes.wintypes',\n",
       " 'colorama.win32',\n",
       " 'colorama.winterm',\n",
       " 'colorama.ansitowin32',\n",
       " 'colorama.initialise',\n",
       " 'colorama',\n",
       " 'tornado.log',\n",
       " 'tornado.concurrent',\n",
       " 'tornado.ioloop',\n",
       " 'socketserver',\n",
       " 'logging.config',\n",
       " 'textwrap',\n",
       " 'traitlets.utils.text',\n",
       " 'gettext',\n",
       " 'argparse',\n",
       " 'traitlets.config.loader',\n",
       " 'traitlets.config.configurable',\n",
       " 'traitlets.utils.nested_update',\n",
       " 'traitlets.config.application',\n",
       " 'traitlets.config',\n",
       " 'traitlets.log',\n",
       " 'zmq.eventloop',\n",
       " 'zmq.eventloop.zmqstream',\n",
       " 'jupyter_client.adapter',\n",
       " 'dateutil._version',\n",
       " 'dateutil',\n",
       " 'locale',\n",
       " 'calendar',\n",
       " 'six',\n",
       " '_decimal',\n",
       " 'decimal',\n",
       " 'dateutil._common',\n",
       " 'dateutil.relativedelta',\n",
       " 'six.moves',\n",
       " 'dateutil.tz._common',\n",
       " 'dateutil.tz._factories',\n",
       " 'dateutil.tz.win',\n",
       " 'dateutil.tz.tz',\n",
       " 'dateutil.tz',\n",
       " 'dateutil.parser._parser',\n",
       " 'dateutil.parser.isoparser',\n",
       " 'dateutil.parser',\n",
       " '_strptime',\n",
       " 'jupyter_client.jsonutil',\n",
       " 'jupyter_client.session',\n",
       " 'jupyter_client.channels',\n",
       " 'getpass',\n",
       " 'jupyter_client.clientabc',\n",
       " 'glob',\n",
       " 'platformdirs.api',\n",
       " 'platformdirs.version',\n",
       " 'platformdirs.windows',\n",
       " 'platformdirs',\n",
       " 'jupyter_core.paths',\n",
       " 'jupyter_client.localinterfaces',\n",
       " 'jupyter_client.utils',\n",
       " 'jupyter_client.connect',\n",
       " 'jupyter_client.client',\n",
       " 'jupyter_client.asynchronous.client',\n",
       " 'jupyter_client.asynchronous',\n",
       " 'jupyter_client.blocking.client',\n",
       " 'jupyter_client.blocking',\n",
       " 'jupyter_client.launcher',\n",
       " '_uuid',\n",
       " 'uuid',\n",
       " '_csv',\n",
       " 'csv',\n",
       " 'email',\n",
       " 'zipfile',\n",
       " 'uu',\n",
       " 'quopri',\n",
       " 'email._parseaddr',\n",
       " 'email.base64mime',\n",
       " 'email.quoprimime',\n",
       " 'email.errors',\n",
       " 'email.encoders',\n",
       " 'email.charset',\n",
       " 'email.utils',\n",
       " 'email.header',\n",
       " 'email._policybase',\n",
       " 'email._encoded_words',\n",
       " 'email.iterators',\n",
       " 'email.message',\n",
       " 'importlib.metadata._functools',\n",
       " 'importlib.metadata._text',\n",
       " 'importlib.metadata._adapters',\n",
       " 'importlib.metadata._meta',\n",
       " 'importlib.metadata._collections',\n",
       " 'importlib.metadata._itertools',\n",
       " 'importlib.abc',\n",
       " 'importlib.metadata',\n",
       " 'jupyter_client.provisioning.provisioner_base',\n",
       " 'jupyter_client.provisioning.factory',\n",
       " 'jupyter_client.provisioning.local_provisioner',\n",
       " 'jupyter_client.provisioning',\n",
       " 'jupyter_client.kernelspec',\n",
       " 'jupyter_client.managerabc',\n",
       " 'jupyter_client.manager',\n",
       " 'jupyter_client.multikernelmanager',\n",
       " 'jupyter_client',\n",
       " 'ipykernel.connect',\n",
       " 'ipykernel',\n",
       " 'IPython.core',\n",
       " 'IPython.core.getipython',\n",
       " 'IPython.core.release',\n",
       " 'pkgutil',\n",
       " 'sysconfig',\n",
       " 'pydoc',\n",
       " 'executing.executing',\n",
       " 'executing.version',\n",
       " 'executing',\n",
       " 'asttokens.line_numbers',\n",
       " 'asttokens.util',\n",
       " 'asttokens.asttokens',\n",
       " 'asttokens',\n",
       " 'fractions',\n",
       " 'pure_eval.utils',\n",
       " 'pure_eval.my_getattr_static',\n",
       " 'pure_eval.core',\n",
       " 'pure_eval.version',\n",
       " 'pure_eval',\n",
       " 'stack_data.utils',\n",
       " 'stack_data.core',\n",
       " 'stack_data.formatting',\n",
       " 'stack_data.serializing',\n",
       " 'stack_data.version',\n",
       " 'stack_data',\n",
       " 'pygments',\n",
       " 'pygments.formatters._mapping',\n",
       " 'pygments.plugin',\n",
       " 'pygments.util',\n",
       " 'pygments.formatters',\n",
       " 'pygments.styles._mapping',\n",
       " 'pygments.styles',\n",
       " 'pygments.formatter',\n",
       " 'pygments.console',\n",
       " 'pygments.token',\n",
       " 'pygments.style',\n",
       " 'pygments.formatters.terminal256',\n",
       " 'IPython.utils',\n",
       " 'IPython.utils.colorable',\n",
       " 'IPython.utils.ipstruct',\n",
       " 'IPython.utils.coloransi',\n",
       " 'IPython.utils.PyColorize',\n",
       " 'IPython.utils.encoding',\n",
       " 'IPython.utils.py3compat',\n",
       " 'IPython.core.excolors',\n",
       " 'cmd',\n",
       " 'bdb',\n",
       " 'codeop',\n",
       " 'code',\n",
       " 'pdb',\n",
       " 'IPython.core.debugger',\n",
       " 'IPython.core.display_trap',\n",
       " 'shlex',\n",
       " 'IPython.utils._process_common',\n",
       " 'IPython.utils._process_win32',\n",
       " 'IPython.utils.process',\n",
       " 'IPython.utils.path',\n",
       " 'IPython.utils.terminal',\n",
       " 'IPython.core.ultratb',\n",
       " 'IPython.utils._sysinfo',\n",
       " 'IPython.utils.sysinfo',\n",
       " 'IPython.core.crashhandler',\n",
       " 'IPython.utils.importstring',\n",
       " 'IPython.paths',\n",
       " 'IPython.core.profiledir',\n",
       " 'IPython.core.application',\n",
       " 'IPython.terminal',\n",
       " 'IPython.core.compilerop',\n",
       " 'IPython.core.error',\n",
       " 'IPython.utils.docs',\n",
       " 'IPython.utils.decorators',\n",
       " 'IPython.utils.text',\n",
       " 'IPython.core.magic_arguments',\n",
       " 'getopt',\n",
       " 'IPython.core.display_functions',\n",
       " 'mimetypes',\n",
       " 'IPython.testing',\n",
       " 'IPython.testing.skipdoctest',\n",
       " 'IPython.core.display',\n",
       " 'IPython.lib',\n",
       " 'IPython.lib.display',\n",
       " 'IPython.display',\n",
       " 'IPython.utils.data',\n",
       " 'IPython.core.page',\n",
       " 'IPython.lib.pretty',\n",
       " 'IPython.utils.openpy',\n",
       " 'IPython.utils.dir2',\n",
       " 'IPython.utils.wildcard',\n",
       " 'pygments.lexers._mapping',\n",
       " 'pygments.modeline',\n",
       " 'pygments.lexers',\n",
       " 'pygments.filter',\n",
       " 'pygments.filters',\n",
       " 'pygments.regexopt',\n",
       " 'pygments.lexer',\n",
       " 'pygments.unistring',\n",
       " 'pygments.lexers.python',\n",
       " 'pygments.formatters.html',\n",
       " 'IPython.core.oinspect',\n",
       " 'IPython.utils.tokenutil',\n",
       " 'IPython.core.inputtransformer2',\n",
       " 'IPython.core.magic',\n",
       " 'IPython.core.hooks',\n",
       " 'IPython.core.autocall',\n",
       " 'IPython.core.macro',\n",
       " 'IPython.core.splitinput',\n",
       " 'IPython.core.prefilter',\n",
       " 'IPython.core.alias',\n",
       " 'IPython.core.builtin_trap',\n",
       " 'IPython.core.displayhook',\n",
       " 'IPython.core.displaypub',\n",
       " 'IPython.core.events',\n",
       " 'IPython.core.extensions',\n",
       " 'decorator',\n",
       " 'IPython.utils.sentinel',\n",
       " 'IPython.core.formatters',\n",
       " '_sqlite3',\n",
       " 'sqlite3.dbapi2',\n",
       " 'sqlite3',\n",
       " 'IPython.core.history',\n",
       " 'IPython.core.logger',\n",
       " 'IPython.core.payload',\n",
       " 'IPython.core.usage',\n",
       " 'IPython.utils.capture',\n",
       " 'IPython.utils.io',\n",
       " 'IPython.utils.strdispatch',\n",
       " 'IPython.utils.syspathcontext',\n",
       " 'exceptiongroup._exceptions',\n",
       " 'exceptiongroup._catch',\n",
       " 'exceptiongroup._version',\n",
       " 'exceptiongroup._formatting',\n",
       " 'exceptiongroup._suppress',\n",
       " 'exceptiongroup',\n",
       " 'IPython.core.async_helpers',\n",
       " 'IPython.core.interactiveshell',\n",
       " 'prompt_toolkit.application.current',\n",
       " 'prompt_toolkit.eventloop.utils',\n",
       " 'prompt_toolkit.eventloop.async_generator',\n",
       " 'prompt_toolkit.eventloop.inputhook',\n",
       " 'prompt_toolkit.eventloop',\n",
       " 'prompt_toolkit.application.run_in_terminal',\n",
       " 'prompt_toolkit.selection',\n",
       " 'prompt_toolkit.clipboard.base',\n",
       " 'prompt_toolkit.clipboard.in_memory',\n",
       " 'prompt_toolkit.clipboard',\n",
       " 'prompt_toolkit.cache',\n",
       " 'prompt_toolkit.enums',\n",
       " 'prompt_toolkit.filters.base',\n",
       " 'prompt_toolkit.filters.app',\n",
       " 'prompt_toolkit.filters.cli',\n",
       " 'prompt_toolkit.filters.utils',\n",
       " 'prompt_toolkit.filters',\n",
       " 'prompt_toolkit.document',\n",
       " 'prompt_toolkit.auto_suggest',\n",
       " 'prompt_toolkit.keys',\n",
       " 'prompt_toolkit.key_binding.key_bindings',\n",
       " 'wcwidth.table_vs16',\n",
       " 'wcwidth.table_wide',\n",
       " 'wcwidth.table_zero',\n",
       " 'wcwidth.unicode_versions',\n",
       " 'wcwidth.wcwidth',\n",
       " 'wcwidth',\n",
       " 'prompt_toolkit.utils',\n",
       " 'prompt_toolkit.key_binding.key_processor',\n",
       " 'prompt_toolkit.key_binding',\n",
       " 'prompt_toolkit.key_binding.vi_state',\n",
       " 'prompt_toolkit.cursor_shapes',\n",
       " 'prompt_toolkit.data_structures',\n",
       " 'prompt_toolkit.styles.base',\n",
       " 'prompt_toolkit.styles.named_colors',\n",
       " 'prompt_toolkit.styles.style',\n",
       " 'prompt_toolkit.styles.defaults',\n",
       " 'prompt_toolkit.styles.pygments',\n",
       " 'colorsys',\n",
       " 'prompt_toolkit.styles.style_transformation',\n",
       " 'prompt_toolkit.styles',\n",
       " 'prompt_toolkit.output.color_depth',\n",
       " 'prompt_toolkit.output.base',\n",
       " 'prompt_toolkit.output.flush_stdout',\n",
       " 'prompt_toolkit.output.plain_text',\n",
       " 'prompt_toolkit.output.defaults',\n",
       " 'prompt_toolkit.output',\n",
       " 'prompt_toolkit.output.vt100',\n",
       " 'prompt_toolkit.mouse_events',\n",
       " 'prompt_toolkit.formatted_text.base',\n",
       " 'prompt_toolkit.formatted_text.ansi',\n",
       " 'xml',\n",
       " 'xml.dom.domreg',\n",
       " 'xml.dom',\n",
       " 'xml.dom.minicompat',\n",
       " 'xml.dom.NodeFilter',\n",
       " 'xml.dom.xmlbuilder',\n",
       " 'xml.dom.minidom',\n",
       " 'prompt_toolkit.formatted_text.html',\n",
       " 'prompt_toolkit.formatted_text.pygments',\n",
       " 'prompt_toolkit.formatted_text.utils',\n",
       " 'prompt_toolkit.formatted_text',\n",
       " 'prompt_toolkit.completion.base',\n",
       " 'prompt_toolkit.completion.deduplicate',\n",
       " 'prompt_toolkit.completion.filesystem',\n",
       " 'prompt_toolkit.completion.word_completer',\n",
       " 'prompt_toolkit.completion.fuzzy_completer',\n",
       " 'prompt_toolkit.completion.nested',\n",
       " 'prompt_toolkit.completion',\n",
       " 'prompt_toolkit.history',\n",
       " 'prompt_toolkit.search',\n",
       " 'prompt_toolkit.validation',\n",
       " 'prompt_toolkit.buffer',\n",
       " 'prompt_toolkit.input.base',\n",
       " 'prompt_toolkit.input.defaults',\n",
       " 'prompt_toolkit.input',\n",
       " 'prompt_toolkit.input.typeahead',\n",
       " 'prompt_toolkit.key_binding.bindings',\n",
       " 'prompt_toolkit.key_binding.bindings.scroll',\n",
       " 'prompt_toolkit.key_binding.bindings.page_navigation',\n",
       " 'prompt_toolkit.lexers.base',\n",
       " 'prompt_toolkit.lexers.pygments',\n",
       " 'prompt_toolkit.lexers',\n",
       " 'prompt_toolkit.layout.utils',\n",
       " 'prompt_toolkit.layout.processors',\n",
       " 'prompt_toolkit.layout.controls',\n",
       " 'prompt_toolkit.layout.dimension',\n",
       " 'prompt_toolkit.layout.margins',\n",
       " 'prompt_toolkit.layout.mouse_handlers',\n",
       " 'prompt_toolkit.layout.screen',\n",
       " 'prompt_toolkit.layout.containers',\n",
       " 'prompt_toolkit.layout.layout',\n",
       " 'prompt_toolkit.layout.menus',\n",
       " 'prompt_toolkit.layout.scrollable_pane',\n",
       " 'prompt_toolkit.layout',\n",
       " 'prompt_toolkit.key_binding.bindings.completion',\n",
       " 'prompt_toolkit.key_binding.bindings.named_commands',\n",
       " 'prompt_toolkit.key_binding.bindings.basic',\n",
       " 'prompt_toolkit.key_binding.bindings.cpr',\n",
       " 'prompt_toolkit.key_binding.bindings.emacs',\n",
       " 'prompt_toolkit.key_binding.bindings.mouse',\n",
       " 'prompt_toolkit.input.ansi_escape_sequences',\n",
       " 'prompt_toolkit.input.vt100_parser',\n",
       " 'prompt_toolkit.key_binding.digraphs',\n",
       " 'prompt_toolkit.key_binding.bindings.vi',\n",
       " 'prompt_toolkit.key_binding.defaults',\n",
       " 'prompt_toolkit.key_binding.emacs_state',\n",
       " 'prompt_toolkit.layout.dummy',\n",
       " 'prompt_toolkit.renderer',\n",
       " 'prompt_toolkit.application.application',\n",
       " 'prompt_toolkit.application.dummy',\n",
       " 'prompt_toolkit.application',\n",
       " 'prompt_toolkit.key_binding.bindings.focus',\n",
       " 'prompt_toolkit.widgets.toolbars',\n",
       " 'prompt_toolkit.widgets.base',\n",
       " 'prompt_toolkit.widgets.dialogs',\n",
       " 'prompt_toolkit.widgets.menus',\n",
       " 'prompt_toolkit.widgets',\n",
       " 'prompt_toolkit.shortcuts.dialogs',\n",
       " 'prompt_toolkit.shortcuts.progress_bar.formatters',\n",
       " 'prompt_toolkit.shortcuts.progress_bar.base',\n",
       " 'prompt_toolkit.shortcuts.progress_bar',\n",
       " 'prompt_toolkit.key_binding.bindings.auto_suggest',\n",
       " 'prompt_toolkit.key_binding.bindings.open_in_editor',\n",
       " 'prompt_toolkit.shortcuts.prompt',\n",
       " 'prompt_toolkit.shortcuts.utils',\n",
       " 'prompt_toolkit.shortcuts',\n",
       " 'prompt_toolkit',\n",
       " 'prompt_toolkit.patch_stdout',\n",
       " 'unicodedata',\n",
       " 'IPython.core.guarded_eval',\n",
       " 'IPython.core.latex_symbols',\n",
       " 'IPython.utils.generics',\n",
       " 'parso.utils',\n",
       " 'parso.tree',\n",
       " 'parso.python',\n",
       " 'parso.python.token',\n",
       " 'parso.python.tokenize',\n",
       " 'parso.pgen2.grammar_parser',\n",
       " 'parso.pgen2.generator',\n",
       " 'parso.pgen2',\n",
       " 'parso.parser',\n",
       " 'parso._compatibility',\n",
       " 'difflib',\n",
       " 'parso.python.prefix',\n",
       " 'parso.python.tree',\n",
       " 'parso.python.parser',\n",
       " 'parso.python.diff',\n",
       " 'gc',\n",
       " 'parso.cache',\n",
       " 'parso.normalizer',\n",
       " 'parso.python.errors',\n",
       " 'parso.python.pep8',\n",
       " 'parso.file_io',\n",
       " 'parso.grammar',\n",
       " 'parso',\n",
       " 'jedi.parser_utils',\n",
       " 'jedi.debug',\n",
       " 'jedi.settings',\n",
       " 'jedi.cache',\n",
       " 'jedi.file_io',\n",
       " 'jedi.inference.cache',\n",
       " 'jedi.inference.helpers',\n",
       " 'jedi.inference.utils',\n",
       " 'jedi.inference.base_value',\n",
       " 'jedi.inference.sys_path',\n",
       " 'jedi.inference.recursion',\n",
       " 'jedi.inference.flow_analysis',\n",
       " 'jedi.common',\n",
       " 'jedi.inference.lazy_value',\n",
       " 'jedi.inference.docstrings',\n",
       " 'jedi.plugins',\n",
       " 'jedi.inference.names',\n",
       " 'jedi.inference.filters',\n",
       " 'jedi.inference.compiled.getattr_static',\n",
       " 'jedi.inference.compiled.access',\n",
       " 'jedi.inference.signature',\n",
       " 'jedi.inference.context',\n",
       " 'jedi.inference.compiled.value',\n",
       " 'jedi.inference.compiled',\n",
       " 'jedi.inference.analysis',\n",
       " 'jedi.inference.gradual',\n",
       " 'jedi.inference.value.module',\n",
       " 'jedi.inference.value.dynamic_arrays',\n",
       " 'jedi.inference.value.iterable',\n",
       " 'jedi.inference.arguments',\n",
       " 'jedi.inference.parser_cache',\n",
       " 'jedi.inference.gradual.generics',\n",
       " 'jedi.inference.value.function',\n",
       " 'jedi.inference.value.klass',\n",
       " 'jedi.inference.value.instance',\n",
       " 'jedi.inference.value',\n",
       " 'jedi.inference.gradual.base',\n",
       " 'jedi.inference.gradual.type_var',\n",
       " 'jedi.inference.gradual.typing',\n",
       " 'jedi.inference.gradual.stub_value',\n",
       " 'jedi.inference.gradual.typeshed',\n",
       " 'jedi._compatibility',\n",
       " 'jedi.inference.compiled.subprocess.functions',\n",
       " 'jedi.api.exceptions',\n",
       " 'jedi.inference.compiled.subprocess',\n",
       " 'jedi.inference.imports',\n",
       " 'jedi.inference.param',\n",
       " 'jedi.inference.gradual.annotation',\n",
       " 'jedi.inference.value.decorator',\n",
       " 'jedi.inference.syntax_tree',\n",
       " 'jedi.inference',\n",
       " 'jedi.inference.gradual.conversion',\n",
       " 'jedi.inference.compiled.mixed',\n",
       " 'pydoc_data',\n",
       " 'pydoc_data.topics',\n",
       " 'jedi.api.keywords',\n",
       " 'jedi.api.completion_cache',\n",
       " 'jedi.api.helpers',\n",
       " 'jedi.api.classes',\n",
       " 'jedi.api.interpreter',\n",
       " 'jedi.api.strings',\n",
       " 'jedi.api.file_name',\n",
       " 'jedi.inference.docstring_utils',\n",
       " 'jedi.api.completion',\n",
       " 'filecmp',\n",
       " 'jedi.api.environment',\n",
       " 'jedi.inference.references',\n",
       " 'jedi.api.project',\n",
       " 'jedi.api.errors',\n",
       " 'jedi.inference.value.namespace',\n",
       " 'jedi.api.refactoring',\n",
       " 'jedi.api.refactoring.extract',\n",
       " 'jedi.inference.gradual.utils',\n",
       " 'jedi.api',\n",
       " 'jedi.plugins.stdlib',\n",
       " 'jedi.plugins.flask',\n",
       " 'jedi.plugins.pytest',\n",
       " 'jedi.plugins.django',\n",
       " 'jedi.plugins.registry',\n",
       " 'jedi',\n",
       " 'IPython.core.completer',\n",
       " 'IPython.terminal.ptutils',\n",
       " 'IPython.terminal.shortcuts.auto_match',\n",
       " 'IPython.terminal.shortcuts.filters',\n",
       " 'IPython.terminal.shortcuts.auto_suggest',\n",
       " 'IPython.lib.clipboard',\n",
       " 'IPython.terminal.shortcuts',\n",
       " 'concurrent.futures.thread',\n",
       " 'IPython.terminal.debugger',\n",
       " 'IPython.terminal.magics',\n",
       " 'IPython.terminal.pt_inputhooks',\n",
       " 'IPython.terminal.prompts',\n",
       " 'IPython.terminal.interactiveshell',\n",
       " 'IPython.core.magics.auto',\n",
       " 'IPython.core.magics.basic',\n",
       " 'http',\n",
       " 'email.feedparser',\n",
       " 'email.parser',\n",
       " 'http.client',\n",
       " 'urllib.response',\n",
       " 'urllib.error',\n",
       " 'nturl2path',\n",
       " 'urllib.request',\n",
       " 'IPython.utils.contexts',\n",
       " 'IPython.core.magics.code',\n",
       " 'IPython.core.magics.config',\n",
       " 'IPython.core.magics.display',\n",
       " '_lsprof',\n",
       " 'profile',\n",
       " 'cProfile',\n",
       " 'pstats',\n",
       " 'timeit',\n",
       " 'IPython.utils.module_paths',\n",
       " 'IPython.utils.timing',\n",
       " 'IPython.core.magics.ast_mod',\n",
       " 'IPython.core.magics.execution',\n",
       " 'IPython.core.magics.extension',\n",
       " 'IPython.core.magics.history',\n",
       " 'IPython.core.magics.logging',\n",
       " 'IPython.core.magics.namespace',\n",
       " 'IPython.core.magics.osm',\n",
       " 'IPython.core.magics.packaging',\n",
       " 'IPython.core.pylabtools',\n",
       " 'IPython.core.magics.pylab',\n",
       " 'IPython.core.magics.script',\n",
       " 'IPython.core.magics',\n",
       " 'IPython.core.shellapp',\n",
       " 'IPython.extensions',\n",
       " 'IPython.extensions.storemagic',\n",
       " 'IPython.terminal.ipapp',\n",
       " 'IPython.terminal.embed',\n",
       " 'IPython.utils.frame',\n",
       " 'IPython',\n",
       " 'ipykernel.control',\n",
       " 'ipykernel.heartbeat',\n",
       " 'ipykernel.iostream',\n",
       " 'comm.base_comm',\n",
       " 'comm',\n",
       " 'ipykernel.jsonutil',\n",
       " 'psutil._common',\n",
       " 'psutil._compat',\n",
       " 'psutil._psutil_windows',\n",
       " 'psutil._pswindows',\n",
       " 'psutil',\n",
       " 'tornado.gen',\n",
       " 'tornado.locks',\n",
       " 'tornado.queues',\n",
       " 'ipykernel.kernelbase',\n",
       " 'ipykernel.comm.comm',\n",
       " 'ipykernel.comm.manager',\n",
       " 'ipykernel.comm',\n",
       " 'ipykernel.compiler',\n",
       " 'debugpy._version',\n",
       " 'debugpy.public_api',\n",
       " 'debugpy',\n",
       " 'debugpy._vendored._util',\n",
       " 'debugpy._vendored',\n",
       " '_pydevd_bundle',\n",
       " 'encodings.ascii',\n",
       " 'encodings.latin_1',\n",
       " 'stringprep',\n",
       " 'encodings.idna',\n",
       " '_pydevd_bundle.pydevd_vm_type',\n",
       " '_pydev_bundle',\n",
       " 'xmlrpc',\n",
       " 'xml.parsers',\n",
       " 'pyexpat.errors',\n",
       " 'pyexpat.model',\n",
       " 'pyexpat',\n",
       " 'xml.parsers.expat.model',\n",
       " 'xml.parsers.expat.errors',\n",
       " 'xml.parsers.expat',\n",
       " 'gzip',\n",
       " 'xmlrpc.client',\n",
       " 'http.server',\n",
       " 'xmlrpc.server',\n",
       " '_pydev_bundle._pydev_saved_modules',\n",
       " '_pydevd_bundle.pydevd_constants',\n",
       " '_pydev_runfiles',\n",
       " '_pydevd_frame_eval',\n",
       " 'pydev_ipython',\n",
       " 'pydevd_plugins',\n",
       " '_pydev_bundle.pydev_log',\n",
       " '_pydev_bundle._pydev_filesystem_encoding',\n",
       " '_pydevd_bundle.pydevd_comm_constants',\n",
       " 'pydevd_file_utils',\n",
       " '_pydev_bundle._pydev_execfile',\n",
       " '_pydevd_bundle.pydevd_exec2',\n",
       " '_pydev_bundle.pydev_imports',\n",
       " '_pydev_bundle.pydev_is_thread_alive',\n",
       " '_pydev_bundle.pydev_override',\n",
       " 'pydevd_plugins.extensions',\n",
       " '_pydevd_bundle.pydevd_extension_utils',\n",
       " '_pydevd_bundle.pydevd_frame_utils',\n",
       " '_pydevd_bundle.pydevd_filtering',\n",
       " '_pydevd_bundle.pydevd_io',\n",
       " '_pydevd_bundle.pydevd_defaults',\n",
       " '_pydevd_bundle.pydevd_utils',\n",
       " '_pydevd_bundle.pydevd_runpy',\n",
       " '_pydev_bundle._pydev_tipper_common',\n",
       " '_pydev_bundle._pydev_imports_tipper',\n",
       " '_pydev_bundle._pydev_calltip_util',\n",
       " '_pydevd_bundle.pydevd_safe_repr',\n",
       " '_pydevd_bundle.pydevd_resolver',\n",
       " '_pydevd_bundle.pydevd_extension_api',\n",
       " '_pydevd_bundle.pydevd_xml',\n",
       " '_pydevd_bundle.pydevd_dont_trace',\n",
       " '_pydevd_frame_eval.vendored',\n",
       " '_pydevd_frame_eval.vendored.bytecode.flags',\n",
       " '_pydevd_frame_eval.vendored.bytecode.instr',\n",
       " '_pydevd_frame_eval.vendored.bytecode.bytecode',\n",
       " '_pydevd_frame_eval.vendored.bytecode.concrete',\n",
       " '_pydevd_frame_eval.vendored.bytecode.cfg',\n",
       " '_pydevd_frame_eval.vendored.bytecode',\n",
       " '_pydevd_bundle.pydevd_bytecode_utils',\n",
       " '_pydevd_bundle.pydevd_cython',\n",
       " '_pydevd_bundle.pydevd_cython_wrapper',\n",
       " '_pydevd_bundle.pydevd_additional_thread_info',\n",
       " '_pydevd_bundle.pydevd_thread_lifecycle',\n",
       " '_pydevd_bundle.pydevd_save_locals',\n",
       " '_pydev_bundle.pydev_monkey',\n",
       " 'pydevd_tracing',\n",
       " '_pydevd_bundle.pydevd_collect_bytecode_info',\n",
       " '_pydevd_bundle.pydevd_daemon_thread',\n",
       " '_pydevd_bundle.pydevd_timeout',\n",
       " '_pydevd_bundle.pydevd_vars',\n",
       " '_pydev_bundle.pydev_console_utils',\n",
       " '_pydevd_bundle.pydevd_import_class',\n",
       " '_pydevd_bundle.pydevd_breakpoints',\n",
       " '_pydevd_bundle.pydevd_custom_frames',\n",
       " '_pydevd_bundle.pydevd_dont_trace_files',\n",
       " '_pydevd_bundle.pydevd_net_command',\n",
       " '_pydevd_bundle.pydevconsole_code',\n",
       " '_pydev_bundle.pydev_umd',\n",
       " 'pydevconsole',\n",
       " '_pydev_bundle._pydev_completer',\n",
       " '_pydevd_bundle.pydevd_net_command_factory_xml',\n",
       " '_pydevd_bundle.pydevd_frame',\n",
       " '_pydevd_bundle.pydevd_additional_thread_info_regular',\n",
       " '_pydevd_bundle.pydevd_trace_dispatch',\n",
       " '_pydevd_frame_eval.pydevd_frame_eval_main',\n",
       " '_pydevd_bundle.pydevd_source_mapping',\n",
       " '_pydevd_bundle.pydevd_concurrency_analyser',\n",
       " '_pydevd_bundle.pydevd_concurrency_analyser.pydevd_thread_wrappers',\n",
       " '_pydevd_bundle.pydevd_concurrency_analyser.pydevd_concurrency_logger',\n",
       " '_pydevd_bundle._debug_adapter',\n",
       " '_pydevd_bundle._debug_adapter.pydevd_schema_log',\n",
       " '_pydevd_bundle._debug_adapter.pydevd_base_schema',\n",
       " '_pydevd_bundle._debug_adapter.pydevd_schema',\n",
       " '_pydevd_bundle.pydevd_reload',\n",
       " '_pydev_bundle.fsnotify',\n",
       " '_pydevd_bundle.pydevd_console',\n",
       " '_pydevd_bundle.pydevd_comm',\n",
       " '_pydevd_bundle.pydevd_net_command_factory_json',\n",
       " '_pydevd_bundle.pydevd_api',\n",
       " '_pydevd_bundle.pydevd_json_debug_options',\n",
       " '_pydevd_bundle.pydevd_process_net_command_json',\n",
       " '_pydevd_bundle.pydevd_traceproperty',\n",
       " '_pydevd_bundle.pydevd_process_net_command',\n",
       " '_pydevd_bundle.pydevd_suspended_frames',\n",
       " '_pydevd_bundle.pydevd_trace_api',\n",
       " 'pydevd_plugins.pydevd_line_validation',\n",
       " 'pydevd_plugins.django_debug',\n",
       " 'pydevd_plugins.jinja2_debug',\n",
       " '_pydevd_bundle.pydevd_plugin_utils',\n",
       " 'pydevd',\n",
       " 'debugpy._vendored.force_pydevd',\n",
       " 'debugpy.server',\n",
       " 'debugpy.adapter',\n",
       " 'debugpy.common',\n",
       " 'debugpy.common.json',\n",
       " 'debugpy.common.timestamp',\n",
       " 'debugpy.common.util',\n",
       " 'debugpy.common.log',\n",
       " 'debugpy.common.sockets',\n",
       " 'debugpy.server.api',\n",
       " 'ipykernel.debugger',\n",
       " 'packaging',\n",
       " 'packaging._structures',\n",
       " 'packaging.version',\n",
       " 'ipykernel.eventloops',\n",
       " 'IPython.core.payloadpage',\n",
       " 'ipykernel.displayhook',\n",
       " 'ipykernel.zmqshell',\n",
       " 'ipykernel.ipkernel',\n",
       " 'ipykernel.parentpoller',\n",
       " 'ipykernel.kernelapp',\n",
       " 'tornado.platform',\n",
       " 'tornado.platform.asyncio',\n",
       " 'faulthandler',\n",
       " 'IPython.core.completerlib']"
      ]
     },
     "execution_count": 12,
     "metadata": {},
     "output_type": "execute_result"
    }
   ],
   "source": [
    "# list available packages (modules)\n",
    "list(sys.modules.keys())"
   ]
  },
  {
   "cell_type": "markdown",
   "metadata": {},
   "source": [
    "## os package\n",
    "- os ... Miscellaneous operating system interfaces"
   ]
  },
  {
   "cell_type": "code",
   "execution_count": 13,
   "metadata": {
    "ExecuteTime": {
     "end_time": "2020-10-06T16:58:21.005297Z",
     "start_time": "2020-10-06T16:58:20.992303Z"
    }
   },
   "outputs": [],
   "source": [
    "import os"
   ]
  },
  {
   "cell_type": "code",
   "execution_count": 14,
   "metadata": {
    "ExecuteTime": {
     "end_time": "2020-10-05T16:17:36.144055Z",
     "start_time": "2020-10-05T16:17:36.127053Z"
    }
   },
   "outputs": [
    {
     "data": {
      "text/plain": [
       "'C:\\\\Users\\\\ondra\\\\Documents\\\\Data science 2\\\\data-science-2\\\\Practicals\\\\02_python_intro'"
      ]
     },
     "execution_count": 14,
     "metadata": {},
     "output_type": "execute_result"
    }
   ],
   "source": [
    "# current working directory\n",
    "os.getcwd()"
   ]
  },
  {
   "cell_type": "code",
   "execution_count": 16,
   "metadata": {
    "ExecuteTime": {
     "end_time": "2020-10-05T16:20:19.461140Z",
     "start_time": "2020-10-05T16:20:19.440140Z"
    }
   },
   "outputs": [
    {
     "data": {
      "text/plain": [
       "['.ipynb_checkpoints', 'heart.jpg', 'python_intro.ipynb']"
      ]
     },
     "execution_count": 16,
     "metadata": {},
     "output_type": "execute_result"
    }
   ],
   "source": [
    "# list content of given folder\n",
    "os.listdir(os.getcwd())"
   ]
  },
  {
   "cell_type": "code",
   "execution_count": 17,
   "metadata": {
    "ExecuteTime": {
     "end_time": "2020-10-05T16:22:51.495014Z",
     "start_time": "2020-10-05T16:22:51.484015Z"
    }
   },
   "outputs": [],
   "source": [
    "# create folder...\n",
    "os.mkdir('test_folder')"
   ]
  },
  {
   "cell_type": "code",
   "execution_count": 18,
   "metadata": {
    "ExecuteTime": {
     "end_time": "2020-10-06T16:58:33.962496Z",
     "start_time": "2020-10-06T16:58:33.812495Z"
    }
   },
   "outputs": [],
   "source": [
    "# ...and remove it\n",
    "os.removedirs('test_folder')"
   ]
  },
  {
   "cell_type": "code",
   "execution_count": 21,
   "metadata": {
    "ExecuteTime": {
     "end_time": "2020-10-06T16:58:30.094427Z",
     "start_time": "2020-10-06T16:58:30.082400Z"
    }
   },
   "outputs": [
    {
     "data": {
      "text/plain": [
       "True"
      ]
     },
     "execution_count": 21,
     "metadata": {},
     "output_type": "execute_result"
    }
   ],
   "source": [
    "os.path.exists('C:\\\\Users\\\\ondra\\\\Documents\\\\Data science 2\\\\data-science-2\\\\Practicals\\\\02_python_intro')"
   ]
  },
  {
   "cell_type": "code",
   "execution_count": 22,
   "metadata": {
    "ExecuteTime": {
     "end_time": "2020-10-06T16:59:23.163165Z",
     "start_time": "2020-10-06T16:59:23.152166Z"
    }
   },
   "outputs": [
    {
     "data": {
      "text/plain": [
       "False"
      ]
     },
     "execution_count": 22,
     "metadata": {},
     "output_type": "execute_result"
    }
   ],
   "source": [
    "os.path.isfile('C:\\\\Users\\\\ondra\\\\Documents\\\\Data science 2\\\\data-science-2\\\\Practicals\\\\02_python_intro')"
   ]
  },
  {
   "cell_type": "markdown",
   "metadata": {},
   "source": [
    "## Input from console"
   ]
  },
  {
   "cell_type": "code",
   "execution_count": 23,
   "metadata": {
    "ExecuteTime": {
     "end_time": "2020-11-10T09:06:07.980539Z",
     "start_time": "2020-11-10T09:06:06.083615Z"
    }
   },
   "outputs": [
    {
     "name": "stdin",
     "output_type": "stream",
     "text": [
      "Give me some input please:    5\n"
     ]
    },
    {
     "name": "stdout",
     "output_type": "stream",
     "text": [
      "Your input was doubled:      55\n"
     ]
    }
   ],
   "source": [
    "my_input = input('Give me some input please:   ')\n",
    "\n",
    "print(f'Your input was doubled:      {2*my_input}')"
   ]
  },
  {
   "cell_type": "markdown",
   "metadata": {},
   "source": [
    "<span style=\"color:red\">**TO DO:** Write 'child calculator'. It will generate two integers so that their sum is not greater than 100. It will ask user to enter their sum and it will check answer correctness.</span>\n",
    "\n",
    "**Hint:** \n",
    "- str.isnumeric() checks if string contains only digits\n",
    "- use random.randint to generate random integer (package random)"
   ]
  },
  {
   "cell_type": "code",
   "execution_count": 24,
   "metadata": {
    "ExecuteTime": {
     "end_time": "2020-10-06T17:36:35.434793Z",
     "start_time": "2020-10-06T17:36:35.419723Z"
    }
   },
   "outputs": [],
   "source": [
    "import random\n",
    "\n"
   ]
  },
  {
   "cell_type": "code",
   "execution_count": 25,
   "metadata": {
    "ExecuteTime": {
     "end_time": "2020-10-06T17:36:47.150139Z",
     "start_time": "2020-10-06T17:36:36.247412Z"
    }
   },
   "outputs": [
    {
     "ename": "NameError",
     "evalue": "name 'child_calculator' is not defined",
     "output_type": "error",
     "traceback": [
      "\u001b[1;31m---------------------------------------------------------------------------\u001b[0m",
      "\u001b[1;31mNameError\u001b[0m                                 Traceback (most recent call last)",
      "Cell \u001b[1;32mIn[25], line 1\u001b[0m\n\u001b[1;32m----> 1\u001b[0m \u001b[43mchild_calculator\u001b[49m()\n",
      "\u001b[1;31mNameError\u001b[0m: name 'child_calculator' is not defined"
     ]
    }
   ],
   "source": [
    "child_calculator()"
   ]
  },
  {
   "cell_type": "markdown",
   "metadata": {},
   "source": [
    "## Relative and absolut paths"
   ]
  },
  {
   "cell_type": "markdown",
   "metadata": {
    "ExecuteTime": {
     "end_time": "2020-10-06T17:38:25.983647Z",
     "start_time": "2020-10-06T17:38:25.967647Z"
    }
   },
   "source": [
    "### Relative path"
   ]
  },
  {
   "cell_type": "code",
   "execution_count": null,
   "metadata": {
    "ExecuteTime": {
     "end_time": "2020-10-06T17:39:32.635884Z",
     "start_time": "2020-10-06T17:39:32.628846Z"
    }
   },
   "outputs": [],
   "source": [
    "# using relative path = current working directory + filename\n",
    "os.path.isfile('python_intro.ipynb')"
   ]
  },
  {
   "cell_type": "code",
   "execution_count": null,
   "metadata": {
    "ExecuteTime": {
     "end_time": "2020-10-06T17:40:25.661565Z",
     "start_time": "2020-10-06T17:40:25.654551Z"
    }
   },
   "outputs": [],
   "source": [
    "# we can go deeper from CWD\n",
    "os.path.isfile('user_library/roulette.py')"
   ]
  },
  {
   "cell_type": "code",
   "execution_count": null,
   "metadata": {
    "ExecuteTime": {
     "end_time": "2020-10-06T17:44:07.740748Z",
     "start_time": "2020-10-06T17:44:07.719742Z"
    }
   },
   "outputs": [],
   "source": [
    "# .. means go on level back in folder structure\n",
    "os.path.isfile('user_library/../python_intro.ipynb')"
   ]
  },
  {
   "cell_type": "markdown",
   "metadata": {},
   "source": [
    "### Absoluth path"
   ]
  },
  {
   "cell_type": "code",
   "execution_count": null,
   "metadata": {
    "ExecuteTime": {
     "end_time": "2020-10-06T17:45:51.119017Z",
     "start_time": "2020-10-06T17:45:51.103018Z"
    }
   },
   "outputs": [],
   "source": [
    "# check isfile with absolute path\n",
    "os.path.isfile('C:\\\\Users\\\\tyblondr\\\\data-science-2\\\\Practicals\\\\02_python_intro\\\\python_intro.ipynb')"
   ]
  },
  {
   "cell_type": "code",
   "execution_count": null,
   "metadata": {
    "ExecuteTime": {
     "end_time": "2020-10-06T17:48:19.123099Z",
     "start_time": "2020-10-06T17:48:19.109081Z"
    }
   },
   "outputs": [],
   "source": [
    "# this used to be true, now better in new versions, one can use any slashes\n",
    "\n",
    "print('This is a valid path:       C:\\\\Users\\\\tyblondr')\n",
    "print(r'This is a valid path:       C:\\Users\\tyblondr')\n",
    "print('This is a valid path:   C:\\\\Users\\\\tyblondr')\n",
    "print(r'This is a valid path:   C:/Users/tyblondr')"
   ]
  },
  {
   "cell_type": "markdown",
   "metadata": {},
   "source": [
    "## Load and save data"
   ]
  },
  {
   "cell_type": "markdown",
   "metadata": {},
   "source": [
    "### Text files"
   ]
  },
  {
   "cell_type": "code",
   "execution_count": null,
   "metadata": {
    "ExecuteTime": {
     "end_time": "2020-10-06T18:01:38.104137Z",
     "start_time": "2020-10-06T18:01:38.086176Z"
    }
   },
   "outputs": [],
   "source": [
    "file_content = \"\"\"Hello!\n",
    "What should I do? I don't know.\n",
    "Well, good bye.\n",
    "\"\"\""
   ]
  },
  {
   "cell_type": "code",
   "execution_count": null,
   "metadata": {
    "ExecuteTime": {
     "end_time": "2020-10-06T18:02:00.448742Z",
     "start_time": "2020-10-06T18:02:00.436734Z"
    }
   },
   "outputs": [],
   "source": [
    "# write text file\n",
    "with open('test.txt', 'a') as file:\n",
    "    file.write(file_content)"
   ]
  },
  {
   "cell_type": "code",
   "execution_count": null,
   "metadata": {
    "ExecuteTime": {
     "end_time": "2020-10-06T18:02:37.691857Z",
     "start_time": "2020-10-06T18:02:37.681831Z"
    }
   },
   "outputs": [],
   "source": [
    "# read text file\n",
    "with open('test.txt', 'r') as file:\n",
    "    data = file.read()\n",
    "    \n",
    "print(data)"
   ]
  },
  {
   "cell_type": "code",
   "execution_count": null,
   "metadata": {
    "ExecuteTime": {
     "end_time": "2020-10-06T18:02:45.525234Z",
     "start_time": "2020-10-06T18:02:41.929249Z"
    }
   },
   "outputs": [],
   "source": [
    "import time\n",
    "\n",
    "# read file by lines\n",
    "with open('test.txt', 'r') as file:\n",
    "    line = True\n",
    "    while line:\n",
    "        line = file.readline()\n",
    "        print(line)\n",
    "        time.sleep(0.5)"
   ]
  },
  {
   "cell_type": "markdown",
   "metadata": {},
   "source": [
    "### pickle files\n",
    "- pickle are binary files."
   ]
  },
  {
   "cell_type": "code",
   "execution_count": null,
   "metadata": {
    "ExecuteTime": {
     "end_time": "2020-10-06T18:06:24.470769Z",
     "start_time": "2020-10-06T18:06:24.467815Z"
    }
   },
   "outputs": [],
   "source": [
    "import pickle"
   ]
  },
  {
   "cell_type": "code",
   "execution_count": null,
   "metadata": {
    "ExecuteTime": {
     "end_time": "2020-10-06T18:06:37.482722Z",
     "start_time": "2020-10-06T18:06:37.467708Z"
    }
   },
   "outputs": [],
   "source": [
    "matrix = [\n",
    "    [1, 2],\n",
    "    [3, 4]\n",
    "]\n",
    "\n",
    "# create pickle file...\n",
    "with open('test_pickle.pickle', 'wb') as file:\n",
    "    pickle.dump(matrix, file)"
   ]
  },
  {
   "cell_type": "code",
   "execution_count": null,
   "metadata": {
    "ExecuteTime": {
     "end_time": "2020-10-06T18:07:24.953159Z",
     "start_time": "2020-10-06T18:07:24.932167Z"
    }
   },
   "outputs": [],
   "source": [
    "# ...and load it again\n",
    "with open('test_pickle.pickle', 'rb') as file:\n",
    "    data = pickle.load(file)\n",
    "    \n",
    "data"
   ]
  },
  {
   "cell_type": "markdown",
   "metadata": {},
   "source": [
    "### json files"
   ]
  },
  {
   "cell_type": "code",
   "execution_count": null,
   "metadata": {},
   "outputs": [],
   "source": [
    "import json\n",
    "\n",
    "my_books = {\n",
    "    'scifi': {\n",
    "        'Asimov': 'Nadace',\n",
    "        'Orwell': '1984'\n",
    "    },\n",
    "    'fantasy': {\n",
    "        'Sapkowski': 'Witcher',\n",
    "        'Tolkien': 'Lord of the rings'\n",
    "    }\n",
    "}\n",
    "\n",
    "# save json to the disk; use indent, sort_key a ensure_ascii\n",
    "with open('my_library.json', 'w') as file:\n",
    "    json.dump(my_books, file, indent=4, sort_keys=True, ensure_ascii=False)"
   ]
  },
  {
   "cell_type": "code",
   "execution_count": null,
   "metadata": {},
   "outputs": [],
   "source": [
    "# load json\n",
    "with open('my_library.json', 'r') as file:\n",
    "    mb = json.load(file)"
   ]
  },
  {
   "cell_type": "markdown",
   "metadata": {},
   "source": [
    "### csv files"
   ]
  },
  {
   "cell_type": "code",
   "execution_count": 26,
   "metadata": {
    "ExecuteTime": {
     "end_time": "2020-10-06T18:08:22.530237Z",
     "start_time": "2020-10-06T18:08:15.872419Z"
    }
   },
   "outputs": [],
   "source": [
    "import pandas as pd"
   ]
  },
  {
   "cell_type": "code",
   "execution_count": 27,
   "metadata": {
    "ExecuteTime": {
     "end_time": "2020-10-06T18:08:54.018437Z",
     "start_time": "2020-10-06T18:08:53.995439Z"
    }
   },
   "outputs": [
    {
     "data": {
      "text/html": [
       "<div>\n",
       "<style scoped>\n",
       "    .dataframe tbody tr th:only-of-type {\n",
       "        vertical-align: middle;\n",
       "    }\n",
       "\n",
       "    .dataframe tbody tr th {\n",
       "        vertical-align: top;\n",
       "    }\n",
       "\n",
       "    .dataframe thead th {\n",
       "        text-align: right;\n",
       "    }\n",
       "</style>\n",
       "<table border=\"1\" class=\"dataframe\">\n",
       "  <thead>\n",
       "    <tr style=\"text-align: right;\">\n",
       "      <th></th>\n",
       "      <th>col1</th>\n",
       "      <th>col2</th>\n",
       "    </tr>\n",
       "  </thead>\n",
       "  <tbody>\n",
       "    <tr>\n",
       "      <th>0</th>\n",
       "      <td>1</td>\n",
       "      <td>2</td>\n",
       "    </tr>\n",
       "    <tr>\n",
       "      <th>1</th>\n",
       "      <td>3</td>\n",
       "      <td>4</td>\n",
       "    </tr>\n",
       "  </tbody>\n",
       "</table>\n",
       "</div>"
      ],
      "text/plain": [
       "   col1  col2\n",
       "0     1     2\n",
       "1     3     4"
      ]
     },
     "execution_count": 27,
     "metadata": {},
     "output_type": "execute_result"
    }
   ],
   "source": [
    "data = [\n",
    "    [1, 2],\n",
    "    [3, 4]\n",
    "]\n",
    "\n",
    "data = pd.DataFrame(data, columns = ['col1', 'col2'])\n",
    "data"
   ]
  },
  {
   "cell_type": "code",
   "execution_count": 28,
   "metadata": {
    "ExecuteTime": {
     "end_time": "2020-10-06T18:10:14.079624Z",
     "start_time": "2020-10-06T18:10:14.062628Z"
    }
   },
   "outputs": [],
   "source": [
    "data.to_csv('test_csv.csv', sep = ';', index = False)"
   ]
  },
  {
   "cell_type": "code",
   "execution_count": 31,
   "metadata": {
    "ExecuteTime": {
     "end_time": "2020-10-06T18:13:06.287929Z",
     "start_time": "2020-10-06T18:13:06.272911Z"
    }
   },
   "outputs": [
    {
     "data": {
      "text/html": [
       "<div>\n",
       "<style scoped>\n",
       "    .dataframe tbody tr th:only-of-type {\n",
       "        vertical-align: middle;\n",
       "    }\n",
       "\n",
       "    .dataframe tbody tr th {\n",
       "        vertical-align: top;\n",
       "    }\n",
       "\n",
       "    .dataframe thead th {\n",
       "        text-align: right;\n",
       "    }\n",
       "</style>\n",
       "<table border=\"1\" class=\"dataframe\">\n",
       "  <thead>\n",
       "    <tr style=\"text-align: right;\">\n",
       "      <th></th>\n",
       "      <th>col1</th>\n",
       "      <th>col2</th>\n",
       "    </tr>\n",
       "  </thead>\n",
       "  <tbody>\n",
       "    <tr>\n",
       "      <th>0</th>\n",
       "      <td>1</td>\n",
       "      <td>2</td>\n",
       "    </tr>\n",
       "  </tbody>\n",
       "</table>\n",
       "</div>"
      ],
      "text/plain": [
       "   col1  col2\n",
       "0     1     2"
      ]
     },
     "execution_count": 31,
     "metadata": {},
     "output_type": "execute_result"
    }
   ],
   "source": [
    "loaded_data = pd.read_csv('test_csv.csv', sep = ';', header = 0, nrows = 1, encoding = 'utf-8')\n",
    "loaded_data"
   ]
  },
  {
   "cell_type": "code",
   "execution_count": 33,
   "metadata": {},
   "outputs": [
    {
     "data": {
      "text/html": [
       "<div>\n",
       "<style scoped>\n",
       "    .dataframe tbody tr th:only-of-type {\n",
       "        vertical-align: middle;\n",
       "    }\n",
       "\n",
       "    .dataframe tbody tr th {\n",
       "        vertical-align: top;\n",
       "    }\n",
       "\n",
       "    .dataframe thead th {\n",
       "        text-align: right;\n",
       "    }\n",
       "</style>\n",
       "<table border=\"1\" class=\"dataframe\">\n",
       "  <thead>\n",
       "    <tr style=\"text-align: right;\">\n",
       "      <th></th>\n",
       "      <th>col1</th>\n",
       "      <th>col2</th>\n",
       "    </tr>\n",
       "  </thead>\n",
       "  <tbody>\n",
       "    <tr>\n",
       "      <th>0</th>\n",
       "      <td>1</td>\n",
       "      <td>2</td>\n",
       "    </tr>\n",
       "    <tr>\n",
       "      <th>1</th>\n",
       "      <td>3</td>\n",
       "      <td>4</td>\n",
       "    </tr>\n",
       "  </tbody>\n",
       "</table>\n",
       "</div>"
      ],
      "text/plain": [
       "   col1  col2\n",
       "0     1     2\n",
       "1     3     4"
      ]
     },
     "execution_count": 33,
     "metadata": {},
     "output_type": "execute_result"
    }
   ],
   "source": [
    "loaded_data_2 = pd.read_csv('test_csv.csv', sep = ';', header = 0, nrows = 2, encoding = 'utf-8')\n",
    "loaded_data_2"
   ]
  },
  {
   "cell_type": "markdown",
   "metadata": {},
   "source": [
    "# Pandas and numpy\n",
    "- pandas = python data analysis library\n",
    "- numpy = numerical python"
   ]
  },
  {
   "cell_type": "markdown",
   "metadata": {},
   "source": [
    "## DataFrame"
   ]
  },
  {
   "cell_type": "code",
   "execution_count": 34,
   "metadata": {
    "ExecuteTime": {
     "end_time": "2020-11-10T09:42:51.725363Z",
     "start_time": "2020-11-10T09:42:48.830772Z"
    }
   },
   "outputs": [],
   "source": [
    "import pandas as pd\n",
    "import numpy as np"
   ]
  },
  {
   "cell_type": "code",
   "execution_count": 35,
   "metadata": {
    "ExecuteTime": {
     "end_time": "2020-10-06T19:13:48.132206Z",
     "start_time": "2020-10-06T19:13:48.122209Z"
    }
   },
   "outputs": [
    {
     "data": {
      "text/html": [
       "<div>\n",
       "<style scoped>\n",
       "    .dataframe tbody tr th:only-of-type {\n",
       "        vertical-align: middle;\n",
       "    }\n",
       "\n",
       "    .dataframe tbody tr th {\n",
       "        vertical-align: top;\n",
       "    }\n",
       "\n",
       "    .dataframe thead th {\n",
       "        text-align: right;\n",
       "    }\n",
       "</style>\n",
       "<table border=\"1\" class=\"dataframe\">\n",
       "  <thead>\n",
       "    <tr style=\"text-align: right;\">\n",
       "      <th></th>\n",
       "      <th>col1</th>\n",
       "      <th>col2</th>\n",
       "    </tr>\n",
       "  </thead>\n",
       "  <tbody>\n",
       "    <tr>\n",
       "      <th>0</th>\n",
       "      <td>1</td>\n",
       "      <td>2</td>\n",
       "    </tr>\n",
       "    <tr>\n",
       "      <th>1</th>\n",
       "      <td>3</td>\n",
       "      <td>4</td>\n",
       "    </tr>\n",
       "  </tbody>\n",
       "</table>\n",
       "</div>"
      ],
      "text/plain": [
       "   col1  col2\n",
       "0     1     2\n",
       "1     3     4"
      ]
     },
     "execution_count": 35,
     "metadata": {},
     "output_type": "execute_result"
    }
   ],
   "source": [
    "df = [\n",
    "    (1, 2),\n",
    "    (3, 4)\n",
    "]\n",
    "\n",
    "df = pd.DataFrame(df, columns = ['col1', 'col2'])\n",
    "df"
   ]
  },
  {
   "cell_type": "code",
   "execution_count": 36,
   "metadata": {
    "ExecuteTime": {
     "end_time": "2020-10-06T19:14:56.702169Z",
     "start_time": "2020-10-06T19:14:56.687175Z"
    }
   },
   "outputs": [
    {
     "data": {
      "text/html": [
       "<div>\n",
       "<style scoped>\n",
       "    .dataframe tbody tr th:only-of-type {\n",
       "        vertical-align: middle;\n",
       "    }\n",
       "\n",
       "    .dataframe tbody tr th {\n",
       "        vertical-align: top;\n",
       "    }\n",
       "\n",
       "    .dataframe thead th {\n",
       "        text-align: right;\n",
       "    }\n",
       "</style>\n",
       "<table border=\"1\" class=\"dataframe\">\n",
       "  <thead>\n",
       "    <tr style=\"text-align: right;\">\n",
       "      <th></th>\n",
       "      <th>a</th>\n",
       "      <th>b</th>\n",
       "    </tr>\n",
       "  </thead>\n",
       "  <tbody>\n",
       "    <tr>\n",
       "      <th>0</th>\n",
       "      <td>1</td>\n",
       "      <td>5</td>\n",
       "    </tr>\n",
       "    <tr>\n",
       "      <th>1</th>\n",
       "      <td>2</td>\n",
       "      <td>6</td>\n",
       "    </tr>\n",
       "    <tr>\n",
       "      <th>2</th>\n",
       "      <td>3</td>\n",
       "      <td>7</td>\n",
       "    </tr>\n",
       "    <tr>\n",
       "      <th>3</th>\n",
       "      <td>4</td>\n",
       "      <td>8</td>\n",
       "    </tr>\n",
       "  </tbody>\n",
       "</table>\n",
       "</div>"
      ],
      "text/plain": [
       "   a  b\n",
       "0  1  5\n",
       "1  2  6\n",
       "2  3  7\n",
       "3  4  8"
      ]
     },
     "execution_count": 36,
     "metadata": {},
     "output_type": "execute_result"
    }
   ],
   "source": [
    "df = {\n",
    "    'a': [1,2,3,4],\n",
    "    'b': [5,6,7,8],\n",
    "}\n",
    "\n",
    "df = pd.DataFrame(df)\n",
    "df"
   ]
  },
  {
   "cell_type": "code",
   "execution_count": 41,
   "metadata": {},
   "outputs": [
    {
     "ename": "SyntaxError",
     "evalue": "(unicode error) 'unicodeescape' codec can't decode bytes in position 2-3: truncated \\UXXXXXXXX escape (1563033333.py, line 2)",
     "output_type": "error",
     "traceback": [
      "\u001b[1;36m  Cell \u001b[1;32mIn[41], line 2\u001b[1;36m\u001b[0m\n\u001b[1;33m    data_file = Path(\"C:\\Users\\ondra\\Documents\\Data science 2\\data-science-2\\Practicals\\Data\\data_devsample_columns_description.csv\")\u001b[0m\n\u001b[1;37m                                                                                                                                    ^\u001b[0m\n\u001b[1;31mSyntaxError\u001b[0m\u001b[1;31m:\u001b[0m (unicode error) 'unicodeescape' codec can't decode bytes in position 2-3: truncated \\UXXXXXXXX escape\n"
     ]
    }
   ],
   "source": [
    "from pathlib import Path\n",
    "data_file = Path(\"C:\\Users\\ondra\\Documents\\Data science 2\\data-science-2\\Practicals\\Data\\data_devsample_columns_description.csv\")"
   ]
  },
  {
   "cell_type": "code",
   "execution_count": 38,
   "metadata": {
    "ExecuteTime": {
     "end_time": "2020-11-10T09:42:59.697993Z",
     "start_time": "2020-11-10T09:42:51.743194Z"
    }
   },
   "outputs": [
    {
     "ename": "FileNotFoundError",
     "evalue": "[Errno 2] No such file or directory: '..\\\\Data\\\\data_devsample.csv'",
     "output_type": "error",
     "traceback": [
      "\u001b[1;31m---------------------------------------------------------------------------\u001b[0m",
      "\u001b[1;31mFileNotFoundError\u001b[0m                         Traceback (most recent call last)",
      "Cell \u001b[1;32mIn[38], line 1\u001b[0m\n\u001b[1;32m----> 1\u001b[0m data \u001b[38;5;241m=\u001b[39m \u001b[43mpd\u001b[49m\u001b[38;5;241;43m.\u001b[39;49m\u001b[43mread_csv\u001b[49m\u001b[43m(\u001b[49m\u001b[43mdata_file\u001b[49m\u001b[43m,\u001b[49m\u001b[43m \u001b[49m\u001b[43msep\u001b[49m\u001b[43m \u001b[49m\u001b[38;5;241;43m=\u001b[39;49m\u001b[43m \u001b[49m\u001b[38;5;124;43m'\u001b[39;49m\u001b[38;5;124;43m,\u001b[39;49m\u001b[38;5;124;43m'\u001b[39;49m\u001b[43m,\u001b[49m\u001b[43m \u001b[49m\u001b[43mencoding\u001b[49m\u001b[43m \u001b[49m\u001b[38;5;241;43m=\u001b[39;49m\u001b[43m \u001b[49m\u001b[38;5;124;43m'\u001b[39;49m\u001b[38;5;124;43mutf-8\u001b[39;49m\u001b[38;5;124;43m'\u001b[39;49m\u001b[43m,\u001b[49m\u001b[43m \u001b[49m\u001b[43mlow_memory\u001b[49m\u001b[38;5;241;43m=\u001b[39;49m\u001b[38;5;28;43;01mFalse\u001b[39;49;00m\u001b[43m)\u001b[49m\n\u001b[0;32m      2\u001b[0m \u001b[38;5;28mprint\u001b[39m(\u001b[38;5;124mf\u001b[39m\u001b[38;5;124m'\u001b[39m\u001b[38;5;124mdata is object of type:   \u001b[39m\u001b[38;5;132;01m{\u001b[39;00m\u001b[38;5;28mtype\u001b[39m(data)\u001b[38;5;132;01m}\u001b[39;00m\u001b[38;5;124m'\u001b[39m)\n\u001b[0;32m      3\u001b[0m \u001b[38;5;28mprint\u001b[39m(\u001b[38;5;124mf\u001b[39m\u001b[38;5;124m'\u001b[39m\u001b[38;5;124mNumber of rows:           \u001b[39m\u001b[38;5;132;01m{\u001b[39;00mdata\u001b[38;5;241m.\u001b[39mshape[\u001b[38;5;241m0\u001b[39m]\u001b[38;5;132;01m}\u001b[39;00m\u001b[38;5;124m'\u001b[39m)\n",
      "File \u001b[1;32m~\\Documents\\Data science 2\\data-science-2\\.venv\\lib\\site-packages\\pandas\\io\\parsers\\readers.py:1024\u001b[0m, in \u001b[0;36mread_csv\u001b[1;34m(filepath_or_buffer, sep, delimiter, header, names, index_col, usecols, dtype, engine, converters, true_values, false_values, skipinitialspace, skiprows, skipfooter, nrows, na_values, keep_default_na, na_filter, verbose, skip_blank_lines, parse_dates, infer_datetime_format, keep_date_col, date_parser, date_format, dayfirst, cache_dates, iterator, chunksize, compression, thousands, decimal, lineterminator, quotechar, quoting, doublequote, escapechar, comment, encoding, encoding_errors, dialect, on_bad_lines, delim_whitespace, low_memory, memory_map, float_precision, storage_options, dtype_backend)\u001b[0m\n\u001b[0;32m   1011\u001b[0m kwds_defaults \u001b[38;5;241m=\u001b[39m _refine_defaults_read(\n\u001b[0;32m   1012\u001b[0m     dialect,\n\u001b[0;32m   1013\u001b[0m     delimiter,\n\u001b[1;32m   (...)\u001b[0m\n\u001b[0;32m   1020\u001b[0m     dtype_backend\u001b[38;5;241m=\u001b[39mdtype_backend,\n\u001b[0;32m   1021\u001b[0m )\n\u001b[0;32m   1022\u001b[0m kwds\u001b[38;5;241m.\u001b[39mupdate(kwds_defaults)\n\u001b[1;32m-> 1024\u001b[0m \u001b[38;5;28;01mreturn\u001b[39;00m \u001b[43m_read\u001b[49m\u001b[43m(\u001b[49m\u001b[43mfilepath_or_buffer\u001b[49m\u001b[43m,\u001b[49m\u001b[43m \u001b[49m\u001b[43mkwds\u001b[49m\u001b[43m)\u001b[49m\n",
      "File \u001b[1;32m~\\Documents\\Data science 2\\data-science-2\\.venv\\lib\\site-packages\\pandas\\io\\parsers\\readers.py:618\u001b[0m, in \u001b[0;36m_read\u001b[1;34m(filepath_or_buffer, kwds)\u001b[0m\n\u001b[0;32m    615\u001b[0m _validate_names(kwds\u001b[38;5;241m.\u001b[39mget(\u001b[38;5;124m\"\u001b[39m\u001b[38;5;124mnames\u001b[39m\u001b[38;5;124m\"\u001b[39m, \u001b[38;5;28;01mNone\u001b[39;00m))\n\u001b[0;32m    617\u001b[0m \u001b[38;5;66;03m# Create the parser.\u001b[39;00m\n\u001b[1;32m--> 618\u001b[0m parser \u001b[38;5;241m=\u001b[39m TextFileReader(filepath_or_buffer, \u001b[38;5;241m*\u001b[39m\u001b[38;5;241m*\u001b[39mkwds)\n\u001b[0;32m    620\u001b[0m \u001b[38;5;28;01mif\u001b[39;00m chunksize \u001b[38;5;129;01mor\u001b[39;00m iterator:\n\u001b[0;32m    621\u001b[0m     \u001b[38;5;28;01mreturn\u001b[39;00m parser\n",
      "File \u001b[1;32m~\\Documents\\Data science 2\\data-science-2\\.venv\\lib\\site-packages\\pandas\\io\\parsers\\readers.py:1618\u001b[0m, in \u001b[0;36mTextFileReader.__init__\u001b[1;34m(self, f, engine, **kwds)\u001b[0m\n\u001b[0;32m   1615\u001b[0m     \u001b[38;5;28mself\u001b[39m\u001b[38;5;241m.\u001b[39moptions[\u001b[38;5;124m\"\u001b[39m\u001b[38;5;124mhas_index_names\u001b[39m\u001b[38;5;124m\"\u001b[39m] \u001b[38;5;241m=\u001b[39m kwds[\u001b[38;5;124m\"\u001b[39m\u001b[38;5;124mhas_index_names\u001b[39m\u001b[38;5;124m\"\u001b[39m]\n\u001b[0;32m   1617\u001b[0m \u001b[38;5;28mself\u001b[39m\u001b[38;5;241m.\u001b[39mhandles: IOHandles \u001b[38;5;241m|\u001b[39m \u001b[38;5;28;01mNone\u001b[39;00m \u001b[38;5;241m=\u001b[39m \u001b[38;5;28;01mNone\u001b[39;00m\n\u001b[1;32m-> 1618\u001b[0m \u001b[38;5;28mself\u001b[39m\u001b[38;5;241m.\u001b[39m_engine \u001b[38;5;241m=\u001b[39m \u001b[38;5;28;43mself\u001b[39;49m\u001b[38;5;241;43m.\u001b[39;49m\u001b[43m_make_engine\u001b[49m\u001b[43m(\u001b[49m\u001b[43mf\u001b[49m\u001b[43m,\u001b[49m\u001b[43m \u001b[49m\u001b[38;5;28;43mself\u001b[39;49m\u001b[38;5;241;43m.\u001b[39;49m\u001b[43mengine\u001b[49m\u001b[43m)\u001b[49m\n",
      "File \u001b[1;32m~\\Documents\\Data science 2\\data-science-2\\.venv\\lib\\site-packages\\pandas\\io\\parsers\\readers.py:1878\u001b[0m, in \u001b[0;36mTextFileReader._make_engine\u001b[1;34m(self, f, engine)\u001b[0m\n\u001b[0;32m   1876\u001b[0m     \u001b[38;5;28;01mif\u001b[39;00m \u001b[38;5;124m\"\u001b[39m\u001b[38;5;124mb\u001b[39m\u001b[38;5;124m\"\u001b[39m \u001b[38;5;129;01mnot\u001b[39;00m \u001b[38;5;129;01min\u001b[39;00m mode:\n\u001b[0;32m   1877\u001b[0m         mode \u001b[38;5;241m+\u001b[39m\u001b[38;5;241m=\u001b[39m \u001b[38;5;124m\"\u001b[39m\u001b[38;5;124mb\u001b[39m\u001b[38;5;124m\"\u001b[39m\n\u001b[1;32m-> 1878\u001b[0m \u001b[38;5;28mself\u001b[39m\u001b[38;5;241m.\u001b[39mhandles \u001b[38;5;241m=\u001b[39m \u001b[43mget_handle\u001b[49m\u001b[43m(\u001b[49m\n\u001b[0;32m   1879\u001b[0m \u001b[43m    \u001b[49m\u001b[43mf\u001b[49m\u001b[43m,\u001b[49m\n\u001b[0;32m   1880\u001b[0m \u001b[43m    \u001b[49m\u001b[43mmode\u001b[49m\u001b[43m,\u001b[49m\n\u001b[0;32m   1881\u001b[0m \u001b[43m    \u001b[49m\u001b[43mencoding\u001b[49m\u001b[38;5;241;43m=\u001b[39;49m\u001b[38;5;28;43mself\u001b[39;49m\u001b[38;5;241;43m.\u001b[39;49m\u001b[43moptions\u001b[49m\u001b[38;5;241;43m.\u001b[39;49m\u001b[43mget\u001b[49m\u001b[43m(\u001b[49m\u001b[38;5;124;43m\"\u001b[39;49m\u001b[38;5;124;43mencoding\u001b[39;49m\u001b[38;5;124;43m\"\u001b[39;49m\u001b[43m,\u001b[49m\u001b[43m \u001b[49m\u001b[38;5;28;43;01mNone\u001b[39;49;00m\u001b[43m)\u001b[49m\u001b[43m,\u001b[49m\n\u001b[0;32m   1882\u001b[0m \u001b[43m    \u001b[49m\u001b[43mcompression\u001b[49m\u001b[38;5;241;43m=\u001b[39;49m\u001b[38;5;28;43mself\u001b[39;49m\u001b[38;5;241;43m.\u001b[39;49m\u001b[43moptions\u001b[49m\u001b[38;5;241;43m.\u001b[39;49m\u001b[43mget\u001b[49m\u001b[43m(\u001b[49m\u001b[38;5;124;43m\"\u001b[39;49m\u001b[38;5;124;43mcompression\u001b[39;49m\u001b[38;5;124;43m\"\u001b[39;49m\u001b[43m,\u001b[49m\u001b[43m \u001b[49m\u001b[38;5;28;43;01mNone\u001b[39;49;00m\u001b[43m)\u001b[49m\u001b[43m,\u001b[49m\n\u001b[0;32m   1883\u001b[0m \u001b[43m    \u001b[49m\u001b[43mmemory_map\u001b[49m\u001b[38;5;241;43m=\u001b[39;49m\u001b[38;5;28;43mself\u001b[39;49m\u001b[38;5;241;43m.\u001b[39;49m\u001b[43moptions\u001b[49m\u001b[38;5;241;43m.\u001b[39;49m\u001b[43mget\u001b[49m\u001b[43m(\u001b[49m\u001b[38;5;124;43m\"\u001b[39;49m\u001b[38;5;124;43mmemory_map\u001b[39;49m\u001b[38;5;124;43m\"\u001b[39;49m\u001b[43m,\u001b[49m\u001b[43m \u001b[49m\u001b[38;5;28;43;01mFalse\u001b[39;49;00m\u001b[43m)\u001b[49m\u001b[43m,\u001b[49m\n\u001b[0;32m   1884\u001b[0m \u001b[43m    \u001b[49m\u001b[43mis_text\u001b[49m\u001b[38;5;241;43m=\u001b[39;49m\u001b[43mis_text\u001b[49m\u001b[43m,\u001b[49m\n\u001b[0;32m   1885\u001b[0m \u001b[43m    \u001b[49m\u001b[43merrors\u001b[49m\u001b[38;5;241;43m=\u001b[39;49m\u001b[38;5;28;43mself\u001b[39;49m\u001b[38;5;241;43m.\u001b[39;49m\u001b[43moptions\u001b[49m\u001b[38;5;241;43m.\u001b[39;49m\u001b[43mget\u001b[49m\u001b[43m(\u001b[49m\u001b[38;5;124;43m\"\u001b[39;49m\u001b[38;5;124;43mencoding_errors\u001b[39;49m\u001b[38;5;124;43m\"\u001b[39;49m\u001b[43m,\u001b[49m\u001b[43m \u001b[49m\u001b[38;5;124;43m\"\u001b[39;49m\u001b[38;5;124;43mstrict\u001b[39;49m\u001b[38;5;124;43m\"\u001b[39;49m\u001b[43m)\u001b[49m\u001b[43m,\u001b[49m\n\u001b[0;32m   1886\u001b[0m \u001b[43m    \u001b[49m\u001b[43mstorage_options\u001b[49m\u001b[38;5;241;43m=\u001b[39;49m\u001b[38;5;28;43mself\u001b[39;49m\u001b[38;5;241;43m.\u001b[39;49m\u001b[43moptions\u001b[49m\u001b[38;5;241;43m.\u001b[39;49m\u001b[43mget\u001b[49m\u001b[43m(\u001b[49m\u001b[38;5;124;43m\"\u001b[39;49m\u001b[38;5;124;43mstorage_options\u001b[39;49m\u001b[38;5;124;43m\"\u001b[39;49m\u001b[43m,\u001b[49m\u001b[43m \u001b[49m\u001b[38;5;28;43;01mNone\u001b[39;49;00m\u001b[43m)\u001b[49m\u001b[43m,\u001b[49m\n\u001b[0;32m   1887\u001b[0m \u001b[43m\u001b[49m\u001b[43m)\u001b[49m\n\u001b[0;32m   1888\u001b[0m \u001b[38;5;28;01massert\u001b[39;00m \u001b[38;5;28mself\u001b[39m\u001b[38;5;241m.\u001b[39mhandles \u001b[38;5;129;01mis\u001b[39;00m \u001b[38;5;129;01mnot\u001b[39;00m \u001b[38;5;28;01mNone\u001b[39;00m\n\u001b[0;32m   1889\u001b[0m f \u001b[38;5;241m=\u001b[39m \u001b[38;5;28mself\u001b[39m\u001b[38;5;241m.\u001b[39mhandles\u001b[38;5;241m.\u001b[39mhandle\n",
      "File \u001b[1;32m~\\Documents\\Data science 2\\data-science-2\\.venv\\lib\\site-packages\\pandas\\io\\common.py:882\u001b[0m, in \u001b[0;36mget_handle\u001b[1;34m(path_or_buf, mode, encoding, compression, memory_map, is_text, errors, storage_options)\u001b[0m\n\u001b[0;32m    873\u001b[0m         handle \u001b[38;5;241m=\u001b[39m \u001b[38;5;28mopen\u001b[39m(\n\u001b[0;32m    874\u001b[0m             handle,\n\u001b[0;32m    875\u001b[0m             ioargs\u001b[38;5;241m.\u001b[39mmode,\n\u001b[1;32m   (...)\u001b[0m\n\u001b[0;32m    878\u001b[0m             newline\u001b[38;5;241m=\u001b[39m\u001b[38;5;124m\"\u001b[39m\u001b[38;5;124m\"\u001b[39m,\n\u001b[0;32m    879\u001b[0m         )\n\u001b[0;32m    880\u001b[0m     \u001b[38;5;28;01melse\u001b[39;00m:\n\u001b[0;32m    881\u001b[0m         \u001b[38;5;66;03m# Binary mode\u001b[39;00m\n\u001b[1;32m--> 882\u001b[0m         handle \u001b[38;5;241m=\u001b[39m \u001b[38;5;28;43mopen\u001b[39;49m\u001b[43m(\u001b[49m\u001b[43mhandle\u001b[49m\u001b[43m,\u001b[49m\u001b[43m \u001b[49m\u001b[43mioargs\u001b[49m\u001b[38;5;241;43m.\u001b[39;49m\u001b[43mmode\u001b[49m\u001b[43m)\u001b[49m\n\u001b[0;32m    883\u001b[0m     handles\u001b[38;5;241m.\u001b[39mappend(handle)\n\u001b[0;32m    885\u001b[0m \u001b[38;5;66;03m# Convert BytesIO or file objects passed with an encoding\u001b[39;00m\n",
      "\u001b[1;31mFileNotFoundError\u001b[0m: [Errno 2] No such file or directory: '..\\\\Data\\\\data_devsample.csv'"
     ]
    }
   ],
   "source": [
    "data = pd.read_csv(data_file, sep = ',', encoding = 'utf-8', low_memory=False)\n",
    "print(f'data is object of type:   {type(data)}')\n",
    "print(f'Number of rows:           {data.shape[0]}')\n",
    "print(f'Number of columns:        {data.shape[1]}')"
   ]
  },
  {
   "cell_type": "markdown",
   "metadata": {},
   "source": [
    "**Note:** pd.DataFrame is similar to SQL table - columns have their names and data types, table has index"
   ]
  },
  {
   "cell_type": "code",
   "execution_count": 44,
   "metadata": {
    "ExecuteTime": {
     "end_time": "2020-10-06T18:38:01.923508Z",
     "start_time": "2020-10-06T18:38:01.899456Z"
    }
   },
   "outputs": [
    {
     "data": {
      "text/html": [
       "<div>\n",
       "<style scoped>\n",
       "    .dataframe tbody tr th:only-of-type {\n",
       "        vertical-align: middle;\n",
       "    }\n",
       "\n",
       "    .dataframe tbody tr th {\n",
       "        vertical-align: top;\n",
       "    }\n",
       "\n",
       "    .dataframe thead th {\n",
       "        text-align: right;\n",
       "    }\n",
       "</style>\n",
       "<table border=\"1\" class=\"dataframe\">\n",
       "  <thead>\n",
       "    <tr style=\"text-align: right;\">\n",
       "      <th></th>\n",
       "      <th>col1</th>\n",
       "      <th>col2</th>\n",
       "    </tr>\n",
       "  </thead>\n",
       "  <tbody>\n",
       "    <tr>\n",
       "      <th>0</th>\n",
       "      <td>1</td>\n",
       "      <td>2</td>\n",
       "    </tr>\n",
       "    <tr>\n",
       "      <th>1</th>\n",
       "      <td>3</td>\n",
       "      <td>4</td>\n",
       "    </tr>\n",
       "  </tbody>\n",
       "</table>\n",
       "</div>"
      ],
      "text/plain": [
       "   col1  col2\n",
       "0     1     2\n",
       "1     3     4"
      ]
     },
     "execution_count": 44,
     "metadata": {},
     "output_type": "execute_result"
    }
   ],
   "source": [
    "data.head()"
   ]
  },
  {
   "cell_type": "code",
   "execution_count": 45,
   "metadata": {
    "ExecuteTime": {
     "end_time": "2020-10-06T18:42:40.835349Z",
     "start_time": "2020-10-06T18:42:40.748045Z"
    }
   },
   "outputs": [
    {
     "data": {
      "text/html": [
       "<div>\n",
       "<style scoped>\n",
       "    .dataframe tbody tr th:only-of-type {\n",
       "        vertical-align: middle;\n",
       "    }\n",
       "\n",
       "    .dataframe tbody tr th {\n",
       "        vertical-align: top;\n",
       "    }\n",
       "\n",
       "    .dataframe thead th {\n",
       "        text-align: right;\n",
       "    }\n",
       "</style>\n",
       "<table border=\"1\" class=\"dataframe\">\n",
       "  <thead>\n",
       "    <tr style=\"text-align: right;\">\n",
       "      <th></th>\n",
       "      <th>col1</th>\n",
       "      <th>col2</th>\n",
       "    </tr>\n",
       "  </thead>\n",
       "  <tbody>\n",
       "    <tr>\n",
       "      <th>0</th>\n",
       "      <td>1</td>\n",
       "      <td>2</td>\n",
       "    </tr>\n",
       "    <tr>\n",
       "      <th>1</th>\n",
       "      <td>3</td>\n",
       "      <td>4</td>\n",
       "    </tr>\n",
       "  </tbody>\n",
       "</table>\n",
       "</div>"
      ],
      "text/plain": [
       "   col1  col2\n",
       "0     1     2\n",
       "1     3     4"
      ]
     },
     "execution_count": 45,
     "metadata": {},
     "output_type": "execute_result"
    }
   ],
   "source": [
    "# this controls how many columns are displayed\n",
    "pd.options.display.max_columns = 200\n",
    "\n",
    "data.head()"
   ]
  },
  {
   "cell_type": "code",
   "execution_count": 46,
   "metadata": {
    "ExecuteTime": {
     "end_time": "2020-10-06T18:56:43.979523Z",
     "start_time": "2020-10-06T18:56:43.123666Z"
    },
    "scrolled": true
   },
   "outputs": [
    {
     "data": {
      "text/html": [
       "<div>\n",
       "<style scoped>\n",
       "    .dataframe tbody tr th:only-of-type {\n",
       "        vertical-align: middle;\n",
       "    }\n",
       "\n",
       "    .dataframe tbody tr th {\n",
       "        vertical-align: top;\n",
       "    }\n",
       "\n",
       "    .dataframe thead th {\n",
       "        text-align: right;\n",
       "    }\n",
       "</style>\n",
       "<table border=\"1\" class=\"dataframe\">\n",
       "  <thead>\n",
       "    <tr style=\"text-align: right;\">\n",
       "      <th></th>\n",
       "      <th>col1</th>\n",
       "      <th>col2</th>\n",
       "    </tr>\n",
       "  </thead>\n",
       "  <tbody>\n",
       "    <tr>\n",
       "      <th>count</th>\n",
       "      <td>2.000000</td>\n",
       "      <td>2.000000</td>\n",
       "    </tr>\n",
       "    <tr>\n",
       "      <th>mean</th>\n",
       "      <td>2.000000</td>\n",
       "      <td>3.000000</td>\n",
       "    </tr>\n",
       "    <tr>\n",
       "      <th>std</th>\n",
       "      <td>1.414214</td>\n",
       "      <td>1.414214</td>\n",
       "    </tr>\n",
       "    <tr>\n",
       "      <th>min</th>\n",
       "      <td>1.000000</td>\n",
       "      <td>2.000000</td>\n",
       "    </tr>\n",
       "    <tr>\n",
       "      <th>25%</th>\n",
       "      <td>1.500000</td>\n",
       "      <td>2.500000</td>\n",
       "    </tr>\n",
       "    <tr>\n",
       "      <th>50%</th>\n",
       "      <td>2.000000</td>\n",
       "      <td>3.000000</td>\n",
       "    </tr>\n",
       "    <tr>\n",
       "      <th>75%</th>\n",
       "      <td>2.500000</td>\n",
       "      <td>3.500000</td>\n",
       "    </tr>\n",
       "    <tr>\n",
       "      <th>max</th>\n",
       "      <td>3.000000</td>\n",
       "      <td>4.000000</td>\n",
       "    </tr>\n",
       "  </tbody>\n",
       "</table>\n",
       "</div>"
      ],
      "text/plain": [
       "           col1      col2\n",
       "count  2.000000  2.000000\n",
       "mean   2.000000  3.000000\n",
       "std    1.414214  1.414214\n",
       "min    1.000000  2.000000\n",
       "25%    1.500000  2.500000\n",
       "50%    2.000000  3.000000\n",
       "75%    2.500000  3.500000\n",
       "max    3.000000  4.000000"
      ]
     },
     "execution_count": 46,
     "metadata": {},
     "output_type": "execute_result"
    }
   ],
   "source": [
    "# get descriptive stats\n",
    "\n",
    "import warnings\n",
    "warnings.simplefilter(action = \"ignore\", category = RuntimeWarning) # to get rid of RuntimeWarning: invalid value encountered in subtract\n",
    "\n",
    "data.describe()"
   ]
  },
  {
   "cell_type": "code",
   "execution_count": null,
   "metadata": {},
   "outputs": [],
   "source": [
    "# get something desriptive for all variables\n",
    "data.describe(include='all')"
   ]
  },
  {
   "cell_type": "code",
   "execution_count": null,
   "metadata": {
    "ExecuteTime": {
     "end_time": "2020-10-06T18:43:52.665332Z",
     "start_time": "2020-10-06T18:43:52.658330Z"
    }
   },
   "outputs": [],
   "source": [
    "# column data types\n",
    "data.dtypes"
   ]
  },
  {
   "cell_type": "code",
   "execution_count": null,
   "metadata": {},
   "outputs": [],
   "source": [
    "# define list of numerical predictors\n",
    "cols_num = [col for col in data.columns if data[col].dtype != 'O']\n",
    "# define list of categorical predictors\n",
    "cols_cat = [col for col in data.columns if data[col].dtype == 'O']"
   ]
  },
  {
   "cell_type": "code",
   "execution_count": null,
   "metadata": {},
   "outputs": [],
   "source": [
    "data[cols_num].describe()"
   ]
  },
  {
   "cell_type": "code",
   "execution_count": null,
   "metadata": {},
   "outputs": [],
   "source": [
    "data[cols_cat].describe()"
   ]
  },
  {
   "cell_type": "markdown",
   "metadata": {},
   "source": [
    "### Converting data types"
   ]
  },
  {
   "cell_type": "code",
   "execution_count": null,
   "metadata": {
    "ExecuteTime": {
     "end_time": "2020-10-06T19:03:20.561040Z",
     "start_time": "2020-10-06T19:03:20.536009Z"
    }
   },
   "outputs": [],
   "source": [
    "# convert TARGET to int (astype)\n",
    "print(data['TARGET'].dtype)\n",
    "data['TARGET'] = data['TARGET'].astype(int)\n",
    "print(data['TARGET'].dtype)\n"
   ]
  },
  {
   "cell_type": "markdown",
   "metadata": {
    "ExecuteTime": {
     "end_time": "2020-10-11T19:01:13.250540Z",
     "start_time": "2020-10-11T19:01:13.218523Z"
    }
   },
   "source": [
    "<span style=\"color:red\">**TO DO:** Convert TIME to datetime.</span>\n",
    "\n",
    "To see list of format codes go to: https://www.w3schools.com/python/gloss_python_date_format_codes.asp"
   ]
  },
  {
   "cell_type": "code",
   "execution_count": null,
   "metadata": {},
   "outputs": [],
   "source": []
  },
  {
   "cell_type": "markdown",
   "metadata": {},
   "source": [
    "### Filter rows and select columns"
   ]
  },
  {
   "cell_type": "markdown",
   "metadata": {},
   "source": [
    "#### Filter rows"
   ]
  },
  {
   "cell_type": "code",
   "execution_count": null,
   "metadata": {},
   "outputs": [],
   "source": [
    "# filtering by integer position\n",
    "data.iloc[10:15, 10:15]"
   ]
  },
  {
   "cell_type": "code",
   "execution_count": null,
   "metadata": {
    "ExecuteTime": {
     "end_time": "2021-06-15T12:14:57.531673Z",
     "start_time": "2021-06-15T12:14:57.509657Z"
    }
   },
   "outputs": [],
   "source": [
    "# filtering by name\n",
    "data.loc[10:15, ['NAME_EDUCATION_TYPE', 'NAME_FAMILY_STATUS']]"
   ]
  },
  {
   "cell_type": "code",
   "execution_count": null,
   "metadata": {
    "ExecuteTime": {
     "end_time": "2021-06-15T12:14:59.579698Z",
     "start_time": "2021-06-15T12:14:59.534734Z"
    }
   },
   "outputs": [],
   "source": [
    "# filter rows by condition\n",
    "data[data['OWN_CAR_AGE'].notnull()].shape"
   ]
  },
  {
   "cell_type": "code",
   "execution_count": null,
   "metadata": {
    "ExecuteTime": {
     "end_time": "2021-06-15T12:15:01.081086Z",
     "start_time": "2021-06-15T12:15:00.550569Z"
    }
   },
   "outputs": [],
   "source": [
    "# filter rows by multiple conditions\n",
    "data[data['OWN_CAR_AGE'].notnull() & data['TARGET'] != 0].shape"
   ]
  },
  {
   "cell_type": "code",
   "execution_count": null,
   "metadata": {
    "ExecuteTime": {
     "end_time": "2021-06-15T12:15:01.271100Z",
     "start_time": "2021-06-15T12:15:01.177085Z"
    }
   },
   "outputs": [],
   "source": [
    "n_bads = len(data[data['TARGET'] == 1])\n",
    "last_target_on = data[data['TARGET'] == 1]['TIME'].max()\n",
    "\n",
    "print(f'Number of targets:   {n_bads}')\n",
    "print(f'Last target on:      {last_target_on}')"
   ]
  },
  {
   "cell_type": "markdown",
   "metadata": {},
   "source": [
    "#### Select columns"
   ]
  },
  {
   "cell_type": "code",
   "execution_count": null,
   "metadata": {
    "ExecuteTime": {
     "end_time": "2021-06-15T12:15:01.602797Z",
     "start_time": "2021-06-15T12:15:01.583798Z"
    },
    "cell_style": "split"
   },
   "outputs": [],
   "source": [
    "# select columns - result is pd.DataFrame\n",
    "data[['TIME']]"
   ]
  },
  {
   "cell_type": "code",
   "execution_count": null,
   "metadata": {},
   "outputs": [],
   "source": [
    "type(data[['TIME']])"
   ]
  },
  {
   "cell_type": "code",
   "execution_count": null,
   "metadata": {
    "ExecuteTime": {
     "end_time": "2021-06-15T12:15:01.933797Z",
     "start_time": "2021-06-15T12:15:01.917798Z"
    },
    "cell_style": "split",
    "scrolled": true
   },
   "outputs": [],
   "source": [
    "# select columns - result is pd.Series\n",
    "data['TIME']"
   ]
  },
  {
   "cell_type": "code",
   "execution_count": null,
   "metadata": {},
   "outputs": [],
   "source": [
    "type(data['TIME'])"
   ]
  },
  {
   "cell_type": "markdown",
   "metadata": {},
   "source": [
    "#### Values in columns"
   ]
  },
  {
   "cell_type": "code",
   "execution_count": null,
   "metadata": {
    "ExecuteTime": {
     "end_time": "2021-06-15T12:15:03.129718Z",
     "start_time": "2021-06-15T12:15:03.108710Z"
    }
   },
   "outputs": [],
   "source": [
    "data['NAME_EDUCATION_TYPE'].value_counts(\n",
    "    dropna = False,\n",
    "#     normalize = True,\n",
    "    sort = True,\n",
    "    ascending = True\n",
    ")"
   ]
  },
  {
   "cell_type": "code",
   "execution_count": null,
   "metadata": {
    "ExecuteTime": {
     "end_time": "2021-06-15T12:15:11.443845Z",
     "start_time": "2021-06-15T12:15:11.097797Z"
    }
   },
   "outputs": [],
   "source": [
    "data[['MONTH']].drop_duplicates(keep='first')"
   ]
  },
  {
   "cell_type": "code",
   "execution_count": null,
   "metadata": {
    "ExecuteTime": {
     "end_time": "2021-06-15T12:15:14.116831Z",
     "start_time": "2021-06-15T12:15:14.093812Z"
    }
   },
   "outputs": [],
   "source": [
    "data['NAME_CONTRACT_TYPE'].unique()"
   ]
  },
  {
   "cell_type": "markdown",
   "metadata": {},
   "source": [
    "### Group by"
   ]
  },
  {
   "cell_type": "code",
   "execution_count": null,
   "metadata": {
    "ExecuteTime": {
     "end_time": "2021-06-15T12:16:46.316505Z",
     "start_time": "2021-06-15T12:16:46.293484Z"
    }
   },
   "outputs": [],
   "source": [
    "dt_grp = data.groupby('MONTH').agg({\n",
    "    'DAY': 'max',\n",
    "    'TARGET': ['sum', len]\n",
    "})\n",
    "\n",
    "dt_grp"
   ]
  },
  {
   "cell_type": "code",
   "execution_count": null,
   "metadata": {
    "ExecuteTime": {
     "end_time": "2021-06-15T12:17:31.603964Z",
     "start_time": "2021-06-15T12:17:31.582964Z"
    }
   },
   "outputs": [],
   "source": [
    "dt_grp = data.groupby('MONTH').agg(\n",
    "    bad_cnt = ('TARGET', 'sum'),\n",
    "    tot_cnt = ('TARGET', 'count')\n",
    ")\n",
    "\n",
    "dt_grp"
   ]
  },
  {
   "cell_type": "markdown",
   "metadata": {},
   "source": [
    "### Sort DataFrame"
   ]
  },
  {
   "cell_type": "code",
   "execution_count": null,
   "metadata": {
    "ExecuteTime": {
     "end_time": "2021-06-15T12:54:47.789980Z",
     "start_time": "2021-06-15T12:54:47.768966Z"
    },
    "scrolled": true
   },
   "outputs": [],
   "source": [
    "dt_grp['def_rate'] = dt_grp['bad_cnt'] / dt_grp['tot_cnt']\n",
    "dt_grp.sort_values('def_rate', ascending = False)"
   ]
  },
  {
   "cell_type": "markdown",
   "metadata": {},
   "source": [
    "### Joining data frames"
   ]
  },
  {
   "cell_type": "markdown",
   "metadata": {},
   "source": [
    "#### Join (using index)"
   ]
  },
  {
   "cell_type": "code",
   "execution_count": null,
   "metadata": {
    "ExecuteTime": {
     "end_time": "2020-10-06T19:35:52.439287Z",
     "start_time": "2020-10-06T19:35:52.433246Z"
    },
    "cell_style": "split"
   },
   "outputs": [],
   "source": [
    "df1 = pd.DataFrame(\n",
    "    {\n",
    "        'a': [1,2,3,4],\n",
    "        'b': [11,12,13,14]\n",
    "    },\n",
    "    index = [1,2,3,4]\n",
    ")\n",
    "\n",
    "display(df1)"
   ]
  },
  {
   "cell_type": "code",
   "execution_count": null,
   "metadata": {
    "ExecuteTime": {
     "end_time": "2020-10-06T19:36:00.765384Z",
     "start_time": "2020-10-06T19:36:00.755384Z"
    },
    "cell_style": "split"
   },
   "outputs": [],
   "source": [
    "df2 = pd.DataFrame(\n",
    "    {\n",
    "        'a': [2,3,4,5],\n",
    "        'c': [-2,-3,-4,-5]\n",
    "    },\n",
    "    index = [0,2,4,6]\n",
    ")\n",
    "\n",
    "display(df2)"
   ]
  },
  {
   "cell_type": "code",
   "execution_count": null,
   "metadata": {
    "ExecuteTime": {
     "end_time": "2020-10-06T19:37:04.843649Z",
     "start_time": "2020-10-06T19:37:04.823649Z"
    }
   },
   "outputs": [],
   "source": [
    "df_joined = df1.join(df2, how = 'inner', lsuffix = '_x', rsuffix = '_y')\n",
    "df_joined"
   ]
  },
  {
   "cell_type": "markdown",
   "metadata": {},
   "source": [
    "#### Merge (using column)"
   ]
  },
  {
   "cell_type": "code",
   "execution_count": null,
   "metadata": {
    "ExecuteTime": {
     "end_time": "2020-10-06T19:38:36.693905Z",
     "start_time": "2020-10-06T19:38:36.683854Z"
    }
   },
   "outputs": [],
   "source": [
    "df_joined = df1.merge(df2, on = ['a'], how = 'left')\n",
    "df_joined"
   ]
  },
  {
   "cell_type": "code",
   "execution_count": null,
   "metadata": {
    "ExecuteTime": {
     "end_time": "2020-10-06T19:40:26.930804Z",
     "start_time": "2020-10-06T19:40:26.918805Z"
    },
    "scrolled": true
   },
   "outputs": [],
   "source": [
    "df_joined.set_index('a', inplace = True)\n",
    "df_joined"
   ]
  },
  {
   "cell_type": "markdown",
   "metadata": {
    "ExecuteTime": {
     "end_time": "2020-10-11T19:20:13.032986Z",
     "start_time": "2020-10-11T19:20:13.014969Z"
    }
   },
   "source": [
    "<span style=\"color:red\">**TO DO:** Calculate target rate for Cash loans and revolving loans by months and join results to one dataframe.</span>\n",
    "\n",
    "1. Filter data NAME_CONTRACT_TYPE = 'Cash loans', group by over months and calculate target rate\n",
    "2. Filter data NAME_CONTRACT_TYPE = 'Revolving loans', group by over months and calculate target rate\n",
    "3. join grouped data to one dataframe"
   ]
  },
  {
   "cell_type": "code",
   "execution_count": null,
   "metadata": {},
   "outputs": [],
   "source": []
  },
  {
   "cell_type": "markdown",
   "metadata": {},
   "source": [
    "### binning"
   ]
  },
  {
   "cell_type": "code",
   "execution_count": null,
   "metadata": {
    "ExecuteTime": {
     "end_time": "2020-10-06T19:50:27.589974Z",
     "start_time": "2020-10-06T19:50:27.566975Z"
    }
   },
   "outputs": [],
   "source": [
    "score_bins = [\n",
    "    0.0, 0.2, 0.4, 0.6, 0.8, 1.0\n",
    "]\n",
    "\n",
    "data['score_binned'] = pd.cut(data['EXT_SOURCE_1'], score_bins, include_lowest=True)\n",
    "data['score_binned'].value_counts(dropna=False)"
   ]
  },
  {
   "cell_type": "markdown",
   "metadata": {},
   "source": [
    "<span style=\"color:red\">**TO DO:** Bin `EXT_SOURCE_1` by deciles (or ten equidistant bins). Group by and compute default rate.</span>\n",
    "\n",
    "**Hint:**\n",
    "- Use quantile method on pd.Series\n"
   ]
  },
  {
   "cell_type": "code",
   "execution_count": null,
   "metadata": {},
   "outputs": [],
   "source": []
  },
  {
   "cell_type": "markdown",
   "metadata": {},
   "source": [
    "### pivoting"
   ]
  },
  {
   "cell_type": "code",
   "execution_count": null,
   "metadata": {
    "ExecuteTime": {
     "end_time": "2020-10-06T19:57:02.846637Z",
     "start_time": "2020-10-06T19:57:02.761628Z"
    }
   },
   "outputs": [],
   "source": [
    "# group by NAME_CONTRACT_TYPE and CODE_GENDER and compute target rates\n",
    "dt_grp = data.groupby(['NAME_CONTRACT_TYPE', 'CODE_GENDER']).agg(\n",
    "    cltp_cnt = ('CODE_GENDER', len),\n",
    "    bad_cnt = ('TARGET', 'sum'),\n",
    "    tot_cnt = ('TARGET', len)\n",
    ")\n",
    "dt_grp['target_rate'] = dt_grp['bad_cnt'] / dt_grp['tot_cnt']\n",
    "\n",
    "dt_grp.reset_index(inplace=True)\n",
    "dt_grp"
   ]
  },
  {
   "cell_type": "code",
   "execution_count": null,
   "metadata": {
    "ExecuteTime": {
     "end_time": "2020-10-11T19:25:16.545245Z",
     "start_time": "2020-10-11T19:25:16.527195Z"
    }
   },
   "outputs": [],
   "source": [
    "# pivot table\n",
    "dt_grp.pivot(index='NAME_CONTRACT_TYPE', columns='CODE_GENDER', values='target_rate')"
   ]
  },
  {
   "cell_type": "code",
   "execution_count": null,
   "metadata": {},
   "outputs": [],
   "source": [
    "# groupby on 3 columns\n",
    "dt_grp = data.groupby(['NAME_CONTRACT_TYPE', 'CODE_GENDER', 'FLAG_OWN_CAR']).agg(\n",
    "    cltp_cnt = ('CODE_GENDER', len),\n",
    "    bad_cnt = ('TARGET', 'sum'),\n",
    "    tot_cnt = ('TARGET', len)\n",
    ")\n",
    "dt_grp['def_rate'] = dt_grp['bad_cnt'] / dt_grp['tot_cnt']\n",
    "\n",
    "dt_grp.reset_index(inplace=True)\n",
    "dt_grp"
   ]
  },
  {
   "cell_type": "code",
   "execution_count": null,
   "metadata": {},
   "outputs": [],
   "source": [
    "# pivot with aggfuncs\n",
    "dt_grp_pivot = dt_grp.pivot_table(index='NAME_CONTRACT_TYPE', columns='CODE_GENDER', values='def_rate', aggfunc = 'mean')\n",
    "dt_grp_pivot"
   ]
  },
  {
   "cell_type": "markdown",
   "metadata": {},
   "source": [
    "### unpivoting"
   ]
  },
  {
   "cell_type": "code",
   "execution_count": null,
   "metadata": {},
   "outputs": [],
   "source": [
    "# unpivot data\n",
    "dt_grp_pivot.reset_index(inplace = True)\n",
    "dt_grp_pivot.melt(\n",
    "    id_vars=['NAME_CONTRACT_TYPE'], \n",
    "    value_vars=['F', 'M', 'XNA'], \n",
    "    var_name='CODE_GENDER', \n",
    "    value_name='def_rt'\n",
    ")"
   ]
  },
  {
   "cell_type": "markdown",
   "metadata": {},
   "source": [
    "### Few more tricks"
   ]
  },
  {
   "cell_type": "code",
   "execution_count": null,
   "metadata": {
    "ExecuteTime": {
     "end_time": "2020-10-06T19:41:23.057880Z",
     "start_time": "2020-10-06T19:41:22.909828Z"
    }
   },
   "outputs": [],
   "source": [
    "# histogram\n",
    "data['EXT_SOURCE_1'].hist()"
   ]
  },
  {
   "cell_type": "code",
   "execution_count": null,
   "metadata": {},
   "outputs": [],
   "source": [
    "# histogram with log\n",
    "data['CNT_CHILDREN'].hist()\n",
    "\n",
    "# try using log\n",
    "# data['CNT_CHILDREN'].hist(log=True)"
   ]
  },
  {
   "cell_type": "code",
   "execution_count": null,
   "metadata": {
    "ExecuteTime": {
     "end_time": "2020-10-06T19:42:26.833794Z",
     "start_time": "2020-10-06T19:42:26.801795Z"
    }
   },
   "outputs": [],
   "source": [
    "# correlation\n",
    "data[['EXT_SOURCE_1', 'EXT_SOURCE_2', 'EXT_SOURCE_3']].corr()"
   ]
  },
  {
   "cell_type": "code",
   "execution_count": null,
   "metadata": {
    "ExecuteTime": {
     "end_time": "2020-10-06T19:45:42.157995Z",
     "start_time": "2020-10-06T19:45:42.143997Z"
    }
   },
   "outputs": [],
   "source": [
    "# get quantile\n",
    "data['EXT_SOURCE_1'].quantile([0.25, 0.75])"
   ]
  },
  {
   "cell_type": "code",
   "execution_count": null,
   "metadata": {
    "ExecuteTime": {
     "end_time": "2020-10-06T19:52:56.477842Z",
     "start_time": "2020-10-06T19:52:56.421849Z"
    }
   },
   "outputs": [],
   "source": [
    "# crosstab\n",
    "pd.crosstab(data['FLAG_OWN_CAR'], data['FLAG_OWN_REALTY'])"
   ]
  },
  {
   "cell_type": "markdown",
   "metadata": {},
   "source": [
    "## Numpy\n",
    "- numpy provides (beside others) matrix operations"
   ]
  },
  {
   "cell_type": "code",
   "execution_count": null,
   "metadata": {
    "ExecuteTime": {
     "end_time": "2020-10-11T19:27:45.126591Z",
     "start_time": "2020-10-11T19:27:45.113557Z"
    }
   },
   "outputs": [],
   "source": [
    "A = np.array([[1, 2], [2, 3]])\n",
    "B = np.array([[0, 1], [-1, 2]])"
   ]
  },
  {
   "cell_type": "code",
   "execution_count": null,
   "metadata": {
    "ExecuteTime": {
     "end_time": "2020-10-11T19:27:46.742413Z",
     "start_time": "2020-10-11T19:27:46.722419Z"
    },
    "cell_style": "split"
   },
   "outputs": [],
   "source": [
    "A"
   ]
  },
  {
   "cell_type": "code",
   "execution_count": null,
   "metadata": {
    "ExecuteTime": {
     "end_time": "2020-10-11T19:27:50.482494Z",
     "start_time": "2020-10-11T19:27:50.477454Z"
    },
    "cell_style": "split"
   },
   "outputs": [],
   "source": [
    "B"
   ]
  },
  {
   "cell_type": "markdown",
   "metadata": {},
   "source": [
    "### Matrix multiplication"
   ]
  },
  {
   "cell_type": "code",
   "execution_count": null,
   "metadata": {
    "ExecuteTime": {
     "end_time": "2020-10-11T19:28:08.510639Z",
     "start_time": "2020-10-11T19:28:08.503587Z"
    }
   },
   "outputs": [],
   "source": [
    "# matrix multiplication (np.dot)\n",
    "np.dot(A, B)"
   ]
  },
  {
   "cell_type": "markdown",
   "metadata": {},
   "source": [
    "### Element vise multiplication"
   ]
  },
  {
   "cell_type": "code",
   "execution_count": null,
   "metadata": {
    "ExecuteTime": {
     "end_time": "2020-10-06T20:12:08.397089Z",
     "start_time": "2020-10-06T20:12:08.378036Z"
    }
   },
   "outputs": [],
   "source": [
    "# element wise multiplication\n",
    "A*B"
   ]
  },
  {
   "cell_type": "markdown",
   "metadata": {},
   "source": [
    "### working with infinity"
   ]
  },
  {
   "cell_type": "code",
   "execution_count": null,
   "metadata": {
    "ExecuteTime": {
     "end_time": "2020-10-06T20:13:31.939251Z",
     "start_time": "2020-10-06T20:13:31.926178Z"
    }
   },
   "outputs": [],
   "source": [
    "# numpy infinity\n",
    "x = np.inf"
   ]
  },
  {
   "cell_type": "code",
   "execution_count": null,
   "metadata": {},
   "outputs": [],
   "source": [
    "x * 5, x * 0, x / x, -x"
   ]
  },
  {
   "cell_type": "markdown",
   "metadata": {},
   "source": [
    "### where condition\n",
    "- similar to excel IF function"
   ]
  },
  {
   "cell_type": "code",
   "execution_count": null,
   "metadata": {
    "ExecuteTime": {
     "end_time": "2020-10-06T20:15:49.004440Z",
     "start_time": "2020-10-06T20:15:48.978450Z"
    }
   },
   "outputs": [],
   "source": [
    "# where condition\n",
    "data['is_male'] = np.where(data['CODE_GENDER'] == 'M', 1, 0)\n",
    "data['is_male'].value_counts()"
   ]
  },
  {
   "cell_type": "markdown",
   "metadata": {},
   "source": [
    "### Solve system of linear equations\n",
    "If we want to solve a system of linear equations:\n",
    "$$\n",
    "a*1 + b*2 = 5\n",
    "$$\n",
    "$$\n",
    "a*3 + b*4 = 11\n",
    "$$\n",
    "we can use linaer algebra.\n",
    "\n",
    "$$\n",
    "\\left[\n",
    "\\begin{array}{cc|c}\n",
    "1 & 2 & 5 \\\\\n",
    "3 & 4 & 11 \\\\\n",
    "\\end{array}\n",
    "\\right]\n",
    "\\sim\n",
    "\\left[\n",
    "\\begin{array}{cc|c}\n",
    "1 & 2 & 5 \\\\\n",
    "0 & -2 & -4 \\\\\n",
    "\\end{array}\n",
    "\\right]\n",
    "\\sim\n",
    "\\left[\n",
    "\\begin{array}{cc|c}\n",
    "1 & 2 & 5 \\\\\n",
    "0 & 1 & 2 \\\\\n",
    "\\end{array}\n",
    "\\right]\n",
    "\\Rightarrow b = 2, a = 1\n",
    "$$\n",
    "\n",
    "This functionality is implemented in `numpy.linalg.solve`."
   ]
  },
  {
   "cell_type": "code",
   "execution_count": null,
   "metadata": {
    "ExecuteTime": {
     "end_time": "2020-11-10T13:43:39.122058Z",
     "start_time": "2020-11-10T13:43:39.106059Z"
    }
   },
   "outputs": [],
   "source": [
    "X = [\n",
    "    [1,2],\n",
    "    [3,4]\n",
    "]\n",
    "\n",
    "y = [5,11]\n",
    "\n",
    "a, b = np.linalg.solve(X, y)\n",
    "\n",
    "print(f'a = {a}')\n",
    "print(f'b = {b}')"
   ]
  },
  {
   "cell_type": "markdown",
   "metadata": {},
   "source": [
    "# Graphical outputs\n",
    "Instruments for grafical outpus are in `matplotlib` library. Another library is `seaborn` - library for statistical data visualization\n",
    "\n",
    "- Basic plots (scatter plot, line plot, bar chart, box plot, pie chart, histogram)\n",
    "- Secondary axis\n",
    "- subplots\n",
    "- 3D"
   ]
  },
  {
   "cell_type": "code",
   "execution_count": null,
   "metadata": {
    "ExecuteTime": {
     "end_time": "2021-06-15T14:06:12.156137Z",
     "start_time": "2021-06-15T14:06:05.604367Z"
    }
   },
   "outputs": [],
   "source": [
    "import matplotlib.pyplot as plt\n",
    "import seaborn as sns"
   ]
  },
  {
   "cell_type": "markdown",
   "metadata": {},
   "source": [
    "## Histogram"
   ]
  },
  {
   "cell_type": "code",
   "execution_count": null,
   "metadata": {
    "ExecuteTime": {
     "end_time": "2021-06-15T14:06:19.485122Z",
     "start_time": "2021-06-15T14:06:19.353123Z"
    }
   },
   "outputs": [],
   "source": [
    "plt.hist(data['EXT_SOURCE_1'])\n",
    "plt.show()"
   ]
  },
  {
   "cell_type": "code",
   "execution_count": null,
   "metadata": {
    "ExecuteTime": {
     "end_time": "2021-06-15T14:06:30.795256Z",
     "start_time": "2021-06-15T14:06:30.625202Z"
    }
   },
   "outputs": [],
   "source": [
    "score = 'EXT_SOURCE_1'\n",
    "\n",
    "plt.hist(\n",
    "    data['EXT_SOURCE_1'], \n",
    "    bins = 25, \n",
    "    rwidth = 0.8,\n",
    "    density = True,\n",
    "#     cumulative = True,\n",
    "#     orientation='horizontal'\n",
    ")\n",
    "plt.xlabel('score')\n",
    "plt.ylabel('density')\n",
    "plt.title(f'Histogram of {score}')\n",
    "\n",
    "\n",
    "plt.show()"
   ]
  },
  {
   "cell_type": "code",
   "execution_count": null,
   "metadata": {},
   "outputs": [],
   "source": [
    "sns.kdeplot(data=data[data['EXT_SOURCE_1'].notnull()], x=\"EXT_SOURCE_1\")"
   ]
  },
  {
   "cell_type": "markdown",
   "metadata": {},
   "source": [
    "## Line plot"
   ]
  },
  {
   "cell_type": "code",
   "execution_count": null,
   "metadata": {
    "ExecuteTime": {
     "end_time": "2021-06-15T14:10:50.959783Z",
     "start_time": "2021-06-15T14:10:50.925789Z"
    }
   },
   "outputs": [],
   "source": [
    "dt_grp = data.groupby('MONTH').agg(\n",
    "    bad_cnt = ('TARGET', 'sum'),\n",
    "    tot_cnt = ('TARGET', len),\n",
    "    avg_childern_cnt = ('CNT_CHILDREN', 'mean')\n",
    ")\n",
    "\n",
    "dt_grp['target_rate'] = dt_grp['bad_cnt'] / dt_grp['tot_cnt']\n",
    "dt_grp.reset_index(inplace = True)"
   ]
  },
  {
   "cell_type": "code",
   "execution_count": null,
   "metadata": {
    "ExecuteTime": {
     "end_time": "2021-06-15T14:10:52.932401Z",
     "start_time": "2021-06-15T14:10:52.811403Z"
    }
   },
   "outputs": [],
   "source": [
    "plt.plot(dt_grp['target_rate'])\n",
    "plt.xticks(range(len(dt_grp)), dt_grp['MONTH'], rotation = 45)\n",
    "\n",
    "plt.show()"
   ]
  },
  {
   "cell_type": "code",
   "execution_count": null,
   "metadata": {
    "ExecuteTime": {
     "end_time": "2021-06-15T14:11:40.993092Z",
     "start_time": "2021-06-15T14:11:40.827090Z"
    }
   },
   "outputs": [],
   "source": [
    "plt.plot(\n",
    "    range(len(dt_grp)),\n",
    "    dt_grp['target_rate'],\n",
    "    ls = '--',\n",
    "    marker = 'o',\n",
    "    label = 'target_rate'\n",
    ")\n",
    "\n",
    "plt.plot(\n",
    "    range(len(dt_grp)),\n",
    "    dt_grp['avg_childern_cnt'],\n",
    "    ls = '-.',\n",
    "    marker = 'o',\n",
    "    label = 'average childern count',\n",
    "    color = 'red'\n",
    ")\n",
    "\n",
    "plt.xticks(range(len(dt_grp)), dt_grp['MONTH'], rotation = 45)\n",
    "\n",
    "plt.xlabel('process')\n",
    "plt.ylabel('default rate')\n",
    "plt.legend(loc = 'upper right')\n",
    "\n",
    "plt.show()"
   ]
  },
  {
   "cell_type": "markdown",
   "metadata": {},
   "source": [
    "## Scatter plot"
   ]
  },
  {
   "cell_type": "code",
   "execution_count": null,
   "metadata": {
    "ExecuteTime": {
     "end_time": "2021-06-15T14:12:43.413174Z",
     "start_time": "2021-06-15T14:12:43.052142Z"
    }
   },
   "outputs": [],
   "source": [
    "plt.scatter(\n",
    "    data[data['TARGET'] == 0]['EXT_SOURCE_1'], \n",
    "    data[data['TARGET'] == 0]['EXT_SOURCE_2'], \n",
    "    s = 2,\n",
    "    color = 'blue',\n",
    "    label = 'goods'\n",
    ")\n",
    "\n",
    "plt.scatter(\n",
    "    data[data['TARGET'] == 1]['EXT_SOURCE_1'], \n",
    "    data[data['TARGET'] == 1]['EXT_SOURCE_2'], \n",
    "    s = 5,\n",
    "    color = 'red',\n",
    "    label = 'bads'\n",
    ")\n",
    "\n",
    "plt.xlabel('SEM_Besc_Score')\n",
    "plt.ylabel('SEM_TMB_Score')\n",
    "plt.legend(loc='lower right')\n",
    "\n",
    "plt.show()"
   ]
  },
  {
   "cell_type": "markdown",
   "metadata": {},
   "source": [
    "## Box plot"
   ]
  },
  {
   "cell_type": "code",
   "execution_count": null,
   "metadata": {
    "ExecuteTime": {
     "end_time": "2021-06-15T14:13:10.532812Z",
     "start_time": "2021-06-15T14:13:10.350663Z"
    }
   },
   "outputs": [],
   "source": [
    "data[['EXT_SOURCE_1','EXT_SOURCE_2', 'EXT_SOURCE_3']].boxplot(column = ['EXT_SOURCE_1', 'EXT_SOURCE_2'])\n",
    "plt.show()"
   ]
  },
  {
   "cell_type": "code",
   "execution_count": null,
   "metadata": {
    "ExecuteTime": {
     "end_time": "2021-06-15T14:13:40.566639Z",
     "start_time": "2021-06-15T14:13:40.359660Z"
    }
   },
   "outputs": [],
   "source": [
    "plt.boxplot([\n",
    "    data[data['EXT_SOURCE_1'].notnull()]['EXT_SOURCE_1'], \n",
    "    data[data['EXT_SOURCE_2'].notnull()]['EXT_SOURCE_2']], \n",
    "    labels = ['EXT_SOURCE_1','EXT_SOURCE_2'],\n",
    "    widths = 0.4\n",
    ")\n",
    "plt.show()"
   ]
  },
  {
   "cell_type": "markdown",
   "metadata": {},
   "source": [
    "## Bar chart"
   ]
  },
  {
   "cell_type": "code",
   "execution_count": null,
   "metadata": {
    "ExecuteTime": {
     "end_time": "2021-06-15T14:15:28.222457Z",
     "start_time": "2021-06-15T14:15:28.057475Z"
    }
   },
   "outputs": [],
   "source": [
    "plt.bar(dt_grp.index, dt_grp['bad_cnt'], color = 'red', label = 'bad_cnt')\n",
    "plt.bar(dt_grp.index, dt_grp['tot_cnt'] - dt_grp['bad_cnt'], bottom = dt_grp['bad_cnt'], color = 'blue', label = 'good_cnt')\n",
    "plt.xticks(dt_grp.index, dt_grp['MONTH'], rotation = 45)\n",
    "\n",
    "plt.ylabel('count')\n",
    "plt.xlabel('process')\n",
    "\n",
    "plt.show()"
   ]
  },
  {
   "cell_type": "markdown",
   "metadata": {},
   "source": [
    "## Pie chart"
   ]
  },
  {
   "cell_type": "code",
   "execution_count": null,
   "metadata": {
    "ExecuteTime": {
     "end_time": "2021-06-15T14:15:41.546436Z",
     "start_time": "2021-06-15T14:15:41.385439Z"
    }
   },
   "outputs": [],
   "source": [
    "fig = plt.figure(figsize = (7,7))\n",
    "\n",
    "plt.pie(dt_grp['tot_cnt'],labels=dt_grp['MONTH'], autopct='%1.1f%%', shadow=False, startangle = 0)\n",
    "plt.show()"
   ]
  },
  {
   "cell_type": "markdown",
   "metadata": {},
   "source": [
    "## Dual axis"
   ]
  },
  {
   "cell_type": "code",
   "execution_count": null,
   "metadata": {
    "ExecuteTime": {
     "end_time": "2021-06-15T14:17:03.787220Z",
     "start_time": "2021-06-15T14:17:03.519193Z"
    }
   },
   "outputs": [],
   "source": [
    "ax1 = plt.subplot(111)\n",
    "\n",
    "ax1.bar(dt_grp.index, dt_grp['bad_cnt'], color = 'coral', label = 'bad_cnt')\n",
    "ax1.bar(dt_grp.index, dt_grp['tot_cnt'] - dt_grp['bad_cnt'], bottom = dt_grp['bad_cnt'], color = 'lightblue', label = 'good_cnt')\n",
    "plt.xticks(dt_grp.index, dt_grp['MONTH'], rotation = 45)\n",
    "ax1.set_ylabel('count')\n",
    "ax1.set_xlabel('MONTH')\n",
    "\n",
    "plt.legend(loc='upper right')\n",
    "ax2 = ax1.twinx()\n",
    "\n",
    "ax2.plot(\n",
    "    range(len(dt_grp)),\n",
    "    dt_grp['target_rate'],\n",
    "    ls = '-.',\n",
    "    marker = 'o',\n",
    "    label = 'target rate',\n",
    "    color = 'red'\n",
    ")\n",
    "\n",
    "ax2.set_ylabel('default rate')\n",
    "plt.show()"
   ]
  },
  {
   "cell_type": "markdown",
   "metadata": {},
   "source": [
    "## Subplots"
   ]
  },
  {
   "cell_type": "code",
   "execution_count": null,
   "metadata": {
    "ExecuteTime": {
     "end_time": "2021-06-15T14:20:09.755467Z",
     "start_time": "2021-06-15T14:20:08.741414Z"
    }
   },
   "outputs": [],
   "source": [
    "fig, axs = plt.subplots(2,2, figsize = (12,10))\n",
    "\n",
    "axs[0,0].plot(\n",
    "    range(len(dt_grp)),\n",
    "    dt_grp['target_rate'],\n",
    "    ls = '--',\n",
    "    marker = 'o',\n",
    "    label = 'target rate'\n",
    ")\n",
    "\n",
    "axs[0,0].plot(\n",
    "    range(len(dt_grp)),\n",
    "    dt_grp['avg_childern_cnt'],\n",
    "    ls = '-.',\n",
    "    marker = 'o',\n",
    "    label = 'average childern count',\n",
    "    color = 'red'\n",
    ")\n",
    "\n",
    "# plt.xticks(range(len(dt_grp)), dt_grp['Process'], rotation = 45)\n",
    "\n",
    "axs[0,0].set_xlabel('MONTH')\n",
    "axs[0,0].set_ylabel('target rate')\n",
    "axs[0,0].legend(loc = 'upper right')\n",
    "\n",
    "axs[1,0].bar(dt_grp.index, dt_grp['bad_cnt'], color = 'red', label = 'bad_cnt')\n",
    "axs[1,0].bar(dt_grp.index, dt_grp['tot_cnt'] - dt_grp['bad_cnt'], bottom = dt_grp['bad_cnt'], color = 'blue', label = 'good_cnt')\n",
    "axs[1,0].set_xticks(range(len(dt_grp)))\n",
    "# axs[1,0].set_xticks(dt_grp.index)\n",
    "axs[1,0].set_xticklabels(dt_grp['MONTH'], rotation = 45)\n",
    "\n",
    "axs[0,1].pie(dt_grp['tot_cnt'],labels=dt_grp['MONTH'], autopct='%1.1f%%', shadow=False, startangle = 0)\n",
    "\n",
    "axs[1,1].scatter(\n",
    "    data[data['TARGET'] == 0]['EXT_SOURCE_1'], \n",
    "    data[data['TARGET'] == 0]['EXT_SOURCE_2'], \n",
    "    s = 2,\n",
    "    color = 'blue',\n",
    "    label = 'goods'\n",
    ")\n",
    "\n",
    "axs[1,1].scatter(\n",
    "    data[data['TARGET'] == 1]['EXT_SOURCE_1'], \n",
    "    data[data['TARGET'] == 1]['EXT_SOURCE_2'], \n",
    "    s = 10,\n",
    "    color = 'red',\n",
    "    label = 'bads'\n",
    ")\n",
    "\n",
    "axs[1,1].set_xlabel('EXT_SOURCE_1')\n",
    "axs[1,1].set_ylabel('EXT_SOURCE_2')\n",
    "axs[1,1].legend(loc='lower right')\n",
    "\n",
    "plt.show()"
   ]
  },
  {
   "cell_type": "markdown",
   "metadata": {},
   "source": [
    "<span style=\"color:red\">**TO DO:** Try to create following chart. </span>\n",
    "\n",
    "Equation for the heart is:\n",
    "$$x = {\\rm{sin}}(t) \\cdot {\\rm{cos}}(t) \\cdot {\\rm{ln}\\left(\\lvert t \\rvert\\right)}$$\n",
    "$$y = \\sqrt{\\lvert t \\rvert} \\cdot {\\rm{cos}}(t)$$\n",
    "$$t \\in [-1,1]$$\n",
    "\n",
    "<img src=\"heart.jpg\" width=400px style=\"float: left\"/>"
   ]
  },
  {
   "cell_type": "markdown",
   "metadata": {},
   "source": [
    "## 3D graphs"
   ]
  },
  {
   "cell_type": "code",
   "execution_count": null,
   "metadata": {
    "ExecuteTime": {
     "end_time": "2021-06-15T14:20:17.948295Z",
     "start_time": "2021-06-15T14:20:17.577338Z"
    }
   },
   "outputs": [],
   "source": [
    "from mpl_toolkits.mplot3d import Axes3D\n",
    "from matplotlib import cm\n",
    "from matplotlib.ticker import LinearLocator, FormatStrFormatter\n",
    "\n",
    "fig = plt.figure(figsize=(13,10))\n",
    "ax = fig.add_subplot(projection = '3d')\n",
    "\n",
    "# Make data.\n",
    "X = np.arange(-5, 5, 0.25)\n",
    "Y = np.arange(-5, 5, 0.25)\n",
    "X, Y = np.meshgrid(X, Y)\n",
    "R = np.sqrt(X**2 + Y**2)\n",
    "Z = np.cos(R)\n",
    "\n",
    "# Plot the surface.\n",
    "surf = ax.plot_surface(\n",
    "    X, Y, Z, \n",
    "    cmap=cm.seismic,\n",
    "    linewidth=0, \n",
    "    antialiased=True,\n",
    "    alpha = 1\n",
    ")\n",
    "\n",
    "# Add a color bar which maps values to colors.\n",
    "fig.colorbar(surf, shrink=0.5, aspect=5)\n",
    "\n",
    "plt.show()"
   ]
  },
  {
   "cell_type": "code",
   "execution_count": null,
   "metadata": {
    "ExecuteTime": {
     "end_time": "2021-06-15T14:22:45.680199Z",
     "start_time": "2021-06-15T14:22:45.613204Z"
    }
   },
   "outputs": [],
   "source": [
    "target = 'TARGET'\n",
    "dt = data[(data['EXT_SOURCE_1'].notnull()) & (data['EXT_SOURCE_2'].notnull())][['EXT_SOURCE_1', 'EXT_SOURCE_2', target]]\n",
    "\n",
    "\n",
    "dt['sc1_bin'] = pd.cut(\n",
    "    dt['EXT_SOURCE_1'], \n",
    "    np.percentile(dt['EXT_SOURCE_1'], range(0, 101, 10)), \n",
    "    include_lowest = True,\n",
    "    labels = False\n",
    ")\n",
    "\n",
    "dt['sc2_bin'] = pd.cut(\n",
    "    dt['EXT_SOURCE_2'], \n",
    "    np.percentile(dt['EXT_SOURCE_2'], range(0, 101, 10)), \n",
    "    include_lowest = True,\n",
    "    labels = False\n",
    ")\n",
    "\n",
    "dt_grp = dt.groupby(['sc1_bin', 'sc2_bin']).agg(\n",
    "    target_rate = (target, 'mean'),\n",
    ")\n"
   ]
  },
  {
   "cell_type": "code",
   "execution_count": null,
   "metadata": {
    "ExecuteTime": {
     "end_time": "2021-06-15T14:22:46.447515Z",
     "start_time": "2021-06-15T14:22:46.432517Z"
    }
   },
   "outputs": [],
   "source": [
    "dt_grp.reset_index(inplace = True)\n",
    "dt_grp = dt_grp.sort_values(['sc1_bin', 'sc2_bin'])"
   ]
  },
  {
   "cell_type": "code",
   "execution_count": null,
   "metadata": {
    "ExecuteTime": {
     "end_time": "2021-06-15T14:22:51.974343Z",
     "start_time": "2021-06-15T14:22:51.954344Z"
    }
   },
   "outputs": [],
   "source": [
    "dt_grp_pivot = dt_grp.pivot(index = 'sc1_bin', columns = 'sc2_bin', values = 'target_rate')\n",
    "\n",
    "X = dt_grp_pivot.index.astype(str)\n",
    "Y = list(dt_grp_pivot.columns)\n",
    "X, Y = np.meshgrid(X, Y)\n",
    "X = X.astype(int)\n",
    "Y = Y.astype(int)"
   ]
  },
  {
   "cell_type": "code",
   "execution_count": null,
   "metadata": {
    "ExecuteTime": {
     "end_time": "2021-06-15T14:23:58.905952Z",
     "start_time": "2021-06-15T14:23:58.750002Z"
    }
   },
   "outputs": [],
   "source": [
    "fig = plt.figure(figsize=(13,10))\n",
    "ax = fig.add_subplot(projection = '3d')\n",
    "\n",
    "surf = ax.plot_wireframe(\n",
    "        X, Y, dt_grp_pivot.values, \n",
    "        antialiased=True,\n",
    "        alpha = 1\n",
    "    )\n",
    "\n",
    "ax.view_init(10, 45)\n",
    "ax.set_xlabel('ext_score_1')\n",
    "ax.set_ylabel('ext_score_2')\n",
    "ax.set_zlabel('target rate')"
   ]
  },
  {
   "cell_type": "markdown",
   "metadata": {},
   "source": [
    "## Solutions"
   ]
  },
  {
   "cell_type": "markdown",
   "metadata": {},
   "source": [
    "### Time to datetime"
   ]
  },
  {
   "cell_type": "code",
   "execution_count": null,
   "metadata": {},
   "outputs": [],
   "source": [
    "# data['TIME'].loc[0:5]\n",
    "\n",
    "# print(data['TIME'].dtype)\n",
    "# print(type(data['TIME'][0]))\n",
    "# data['TIME'] = pd.to_datetime(data['TIME'], format='%Y-%m-%d')\n",
    "# print(data['TIME'].dtype)\n",
    "# print(type(data['TIME'][0]))"
   ]
  },
  {
   "cell_type": "markdown",
   "metadata": {},
   "source": [
    "### Target rate for Cash loans and revolving loans by months"
   ]
  },
  {
   "cell_type": "code",
   "execution_count": null,
   "metadata": {},
   "outputs": [],
   "source": [
    "# dt_grp_ex = data[data['NAME_CONTRACT_TYPE'] == 'Cash loans'].groupby('MONTH').agg(\n",
    "#     dr = ('TARGET', np.mean)\n",
    "# )\n",
    "\n",
    "# dt_grp_new = data[data['NAME_CONTRACT_TYPE'] == 'Revolving loans'].groupby('MONTH').agg(\n",
    "#     dr = ('TARGET', np.mean)\n",
    "# )\n",
    "\n",
    "# dt_grp_ex.join(dt_grp_new, lsuffix = '_cl', rsuffix = '_revolving')"
   ]
  },
  {
   "cell_type": "markdown",
   "metadata": {},
   "source": [
    "### Bin EXT_SOURCE_1 by deciles"
   ]
  },
  {
   "cell_type": "code",
   "execution_count": null,
   "metadata": {},
   "outputs": [],
   "source": [
    "# borders = list(data['EXT_SOURCE_1'].quantile([i/10 for i in range(11)]).values)\n",
    "\n",
    "# data['sc_bin'] = pd.cut(data['EXT_SOURCE_1'], bins = borders)\n",
    "\n",
    "# dt_grp = data.groupby('sc_bin').agg(\n",
    "#     dr = ('TARGET', np.mean)\n",
    "# )\n",
    "\n",
    "# dt_grp = dt_grp.sort_index()\n",
    "# dt_grp"
   ]
  },
  {
   "cell_type": "markdown",
   "metadata": {},
   "source": [
    "### Heart"
   ]
  },
  {
   "cell_type": "code",
   "execution_count": null,
   "metadata": {
    "ExecuteTime": {
     "end_time": "2021-06-17T14:43:17.473200Z",
     "start_time": "2021-06-17T14:43:17.360994Z"
    }
   },
   "outputs": [],
   "source": [
    "# t = np.arange(-1,1,0.0001)\n",
    "# x = np.sin(t) * np.cos(t) * np.log(np.abs(t))\n",
    "# y = np.sqrt(np.abs(t)) * np.cos(t)\n",
    "\n",
    "\n",
    "# ax1 = plt.subplot(111)\n",
    "# ax1.bar(np.arange(-0.3, 0.3, 0.06), range(10), width=0.05, alpha=0.2, color='green', edgecolor='blue')\n",
    "\n",
    "# ax2 = ax1.twinx()\n",
    "\n",
    "# ax2.plot(x,y, color='red')\n",
    "\n",
    "# ax1.spines['right'].set_visible(False)\n",
    "# ax1.spines['top'].set_visible(False)\n",
    "# ax2.spines['right'].set_visible(False)\n",
    "# ax2.spines['top'].set_visible(False)\n",
    "\n",
    "\n",
    "# ax1.spines['left'].set_color('gray')\n",
    "# ax1.spines['bottom'].set_color('gray')\n",
    "# ax2.spines['left'].set_color('gray')\n",
    "# ax2.spines['bottom'].set_color('gray')\n",
    "# ax1.tick_params(axis='x', colors='gray')\n",
    "# ax1.tick_params(axis='y', colors='gray')\n",
    "# ax2.tick_params(axis='y', colors='white')\n",
    "\n",
    "# plt.savefig('heart.jpg')\n",
    "# plt.show()"
   ]
  },
  {
   "cell_type": "code",
   "execution_count": null,
   "metadata": {},
   "outputs": [],
   "source": []
  }
 ],
 "metadata": {
  "kernelspec": {
   "display_name": "Python 3 (ipykernel)",
   "language": "python",
   "name": "python3"
  },
  "language_info": {
   "codemirror_mode": {
    "name": "ipython",
    "version": 3
   },
   "file_extension": ".py",
   "mimetype": "text/x-python",
   "name": "python",
   "nbconvert_exporter": "python",
   "pygments_lexer": "ipython3",
   "version": "3.10.11"
  },
  "toc": {
   "base_numbering": 1,
   "nav_menu": {},
   "number_sections": true,
   "sideBar": true,
   "skip_h1_title": false,
   "title_cell": "Table of Contents",
   "title_sidebar": "Contents",
   "toc_cell": false,
   "toc_position": {
    "height": "757px",
    "left": "1422px",
    "top": "110px",
    "width": "297.667px"
   },
   "toc_section_display": true,
   "toc_window_display": true
  },
  "varInspector": {
   "cols": {
    "lenName": 16,
    "lenType": 16,
    "lenVar": 40
   },
   "kernels_config": {
    "python": {
     "delete_cmd_postfix": "",
     "delete_cmd_prefix": "del ",
     "library": "var_list.py",
     "varRefreshCmd": "print(var_dic_list())"
    },
    "r": {
     "delete_cmd_postfix": ") ",
     "delete_cmd_prefix": "rm(",
     "library": "var_list.r",
     "varRefreshCmd": "cat(var_dic_list()) "
    }
   },
   "position": {
    "height": "291px",
    "left": "1561px",
    "right": "20px",
    "top": "120px",
    "width": "339px"
   },
   "types_to_exclude": [
    "module",
    "function",
    "builtin_function_or_method",
    "instance",
    "_Feature"
   ],
   "window_display": false
  }
 },
 "nbformat": 4,
 "nbformat_minor": 4
}
